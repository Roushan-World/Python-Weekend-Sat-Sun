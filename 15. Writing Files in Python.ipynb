{
 "cells": [
  {
   "cell_type": "markdown",
   "id": "6b3a1f47",
   "metadata": {},
   "source": [
    "# 15. Writing Files in Python\n",
    "\n",
    "To write to a text file in Python, you follow these steps:\n",
    "\n",
    "    * First, open the text file for writing ( or appending) using the open() function.\n",
    "    \n",
    "    * Second, write to the text file using the write() or writelines() method.\n",
    "    \n",
    "    * Third, close the file using the close() method."
   ]
  },
  {
   "cell_type": "markdown",
   "id": "87ea832e",
   "metadata": {},
   "source": [
    "syntax of writing files in python.\n",
    "\n",
    "file=open('names.txt','w')\n",
    "\n",
    "for x in range(4):\n",
    "\n",
    "    name=input('Enter name')\n",
    "    \n",
    "    file.write(name+'\\n')\n",
    "    \n",
    "file.close()"
   ]
  },
  {
   "cell_type": "markdown",
   "id": "ee6430a1",
   "metadata": {},
   "source": [
    "Character----------------------- Function.\n",
    "\n",
    "\n",
    "r ---> Open file for reading only. Starts reading form beginning of the file. This \n",
    "is default mode.\n",
    "\n",
    "rb---> Open a file for reading only in binary format. Starts reading form beginning of the file.\n",
    "\n",
    "r+---> Open file for reading and writing. File pointer placed at beginning of the file.\n",
    "\n",
    "w---> Open file for writing only. File pointer placed at beginning of the file. Overwrites existing file and \n",
    "created new one if it does not exists.\n",
    "\n",
    "w+---> same as w but also allows to read from file.\n",
    "\n",
    "wb---> same as w but opens in binary mode.\n",
    "\n",
    "wb+--> same as wb but also allows to read from file.\n",
    "\n",
    "a ---> Open a file for appending. Starts writing at the end of the file. Creates a new file if file does not exists.\n",
    "\n",
    "ab---> Same as a but in binary format. Creates a new file if file does not exist.\n",
    "\n",
    "a+---> Same as a but alos open for reading.\n",
    "\n",
    "ab+---> Same as ab but also open for reading."
   ]
  },
  {
   "cell_type": "code",
   "execution_count": 1,
   "id": "8f58291f",
   "metadata": {},
   "outputs": [],
   "source": [
    "# Writing lines to a file.\n",
    "\n",
    "\n",
    "fname='DWSample2-TXT.txt'\n",
    "\n",
    "with open(fname,'w') as f:\n",
    "    f.write('I decided this book to Nancy Lier\\n.')\n",
    "    f.write('Jean-Paul somewhere observed that we each of us make our own hell out of the people\\n.')\n",
    "f.close()"
   ]
  },
  {
   "cell_type": "code",
   "execution_count": 2,
   "id": "e01470c9",
   "metadata": {},
   "outputs": [
    {
     "name": "stdout",
     "output_type": "stream",
     "text": [
      "I decided this book to Nancy Lier\n",
      ".Jean-Paul somewhere observed that we each of us make our own hell out of the people\n",
      ".\n"
     ]
    }
   ],
   "source": [
    "with open(fname,'r') as f:\n",
    "    content=f.read()\n",
    "    print(content)"
   ]
  },
  {
   "cell_type": "code",
   "execution_count": 3,
   "id": "c87e079e",
   "metadata": {},
   "outputs": [],
   "source": [
    "fname='sample3.txt'\n",
    "\n",
    "with open(fname,'w') as f:\n",
    "    \n",
    "    f.write('This is a book\\n.')"
   ]
  },
  {
   "cell_type": "code",
   "execution_count": 4,
   "id": "3c13d4ef",
   "metadata": {},
   "outputs": [
    {
     "name": "stdout",
     "output_type": "stream",
     "text": [
      "This is a book\n",
      ".\n"
     ]
    }
   ],
   "source": [
    "with open(fname,'r')as f:\n",
    "    content=f.read()\n",
    "    print(content)"
   ]
  },
  {
   "cell_type": "code",
   "execution_count": 5,
   "id": "bcb9b539",
   "metadata": {},
   "outputs": [
    {
     "name": "stdout",
     "output_type": "stream",
     "text": [
      "From the New Yorker\n",
      "\n",
      "Entertaining....[xyz] usually cranky and combative, raising producative quesitons.\n"
     ]
    }
   ],
   "source": [
    "# Writing a list to a file.\n",
    "\n",
    "added_text=['From the New Yorker\\n',\n",
    "            'Entertaining....[xyz] usually cranky and combative, raising producative quesitons.'\n",
    "    \n",
    "]\n",
    "\n",
    "fname = 'sample.txt'\n",
    "with open(fname,'w') as f:\n",
    "    for line in added_text:\n",
    "        print(line)\n",
    "        f.write(line)"
   ]
  },
  {
   "cell_type": "code",
   "execution_count": 6,
   "id": "7f746621",
   "metadata": {},
   "outputs": [
    {
     "name": "stdout",
     "output_type": "stream",
     "text": [
      "Overright\n",
      "\n"
     ]
    }
   ],
   "source": [
    "# appending files.\n",
    "# Writing and then reading the file.\n",
    "\n",
    "new_file='sample.txt'\n",
    "with open(new_file,'w') as f:\n",
    "    f.write('Overright\\n')\n",
    "with open(new_file,'r') as f:\n",
    "    print(f.read())\n",
    "    "
   ]
  },
  {
   "cell_type": "code",
   "execution_count": 7,
   "id": "e6a55352",
   "metadata": {},
   "outputs": [
    {
     "name": "stdout",
     "output_type": "stream",
     "text": [
      "Overright\n",
      "I dedicate this book to Priya.\n",
      "This book is not about despair. It  is about a little bit of a lot of thing.\n"
     ]
    }
   ],
   "source": [
    "# Writing a new line to the text file.\n",
    "\n",
    "with open(new_file,'a') as f:\n",
    "    f.write('I dedicate this book to Priya.\\n')\n",
    "    f.write('This book is not about despair. It  is about a little bit of a lot of thing.')\n",
    "    \n",
    "    \n",
    "with open(new_file,'r') as f:\n",
    "    print(f.read())"
   ]
  },
  {
   "cell_type": "markdown",
   "id": "5c74ea61",
   "metadata": {},
   "source": [
    "# Other method.\n",
    "\n",
    "Appending and Reading. Creates a new file, if none exist."
   ]
  },
  {
   "cell_type": "code",
   "execution_count": 8,
   "id": "4f5e7972",
   "metadata": {},
   "outputs": [
    {
     "name": "stdout",
     "output_type": "stream",
     "text": [
      "\n"
     ]
    }
   ],
   "source": [
    "fname='DWSample2-TXT.txt'\n",
    "\n",
    "with open(fname,'a+') as f:\n",
    "    f.write('From the last line of the sentence\\n.')\n",
    "    f.write('A very good book by a fascination man...[Mullis] enjoys an almost frightend brilliant mind.')\n",
    "    print(f.read())"
   ]
  },
  {
   "cell_type": "code",
   "execution_count": 9,
   "id": "3ded0e36",
   "metadata": {},
   "outputs": [
    {
     "name": "stdout",
     "output_type": "stream",
     "text": [
      "I decided this book to Nancy Lier\n",
      ".Jean-Paul somewhere observed that we each of us make our own hell out of the people\n",
      ".From the last line of the sentence\n",
      ".A very good book by a fascination man...[Mullis] enjoys an almost frightend brilliant mind.\n"
     ]
    }
   ],
   "source": [
    "with open(fname,'r') as f:\n",
    "    print(f.read())"
   ]
  },
  {
   "cell_type": "code",
   "execution_count": 10,
   "id": "244e6b69",
   "metadata": {},
   "outputs": [
    {
     "name": "stdout",
     "output_type": "stream",
     "text": [
      "\n"
     ]
    }
   ],
   "source": [
    "xyz='DWS.txt'\n",
    "\n",
    "with open(xyz,'a+') as f:\n",
    "    f.write('This is the new line in the sentence\\n.')\n",
    "    print(f.read())\n",
    "    \n",
    "    "
   ]
  },
  {
   "cell_type": "code",
   "execution_count": 11,
   "id": "7c1d1e85",
   "metadata": {},
   "outputs": [
    {
     "name": "stdout",
     "output_type": "stream",
     "text": [
      "Aeque enim contingit omnibus fidibus, ut incontentae sint.\n",
      "Lorem ipsum dolor sit amet, consectetur adipiscing elit. Quae cum ita sint, effectum est nihil esse malum, quod turpe non sit. Itaque nostrum est-quod nostrum dico, artis est-ad ea principia, quae accepimus. Quod totum contra est. Duo Reges: constructio interrete. Atqui iste locus est, Piso, tibi etiam atque etiam confirmandus, inquam; Quamvis enim depravatae non sint, pravae tamen esse possunt. Duarum enim vitarum nobis erunt instituta capienda.\n",
      "\n",
      "Non igitur de improbo, sed de callido improbo quaerimus, qualis Q. Audio equidem philosophi vocem, Epicure, sed quid tibi dicendum sit oblitus es. Ex ea difficultate illae fallaciloquae, ut ait Accius, malitiae natae sunt. At multis malis affectus. Nam quibus rebus efficiuntur voluptates, eae non sunt in potestate sapientis. Quis est tam dissimile homini. Ut proverbia non nulla veriora sint quam vestra dogmata. Si quicquam extra virtutem habeatur in bonis. Sed plane dicit quod intellegit. Paulum, cum regem Persem captum adduceret, eodem flumine invectio?\n",
      "\n",
      "Qui ita affectus, beatum esse numquam probabis; Sed nimis multa. Nam prius a se poterit quisque discedere quam appetitum earum rerum, quae sibi conducant, amittere. Familiares nostros, credo, Sironem dicis et Philodemum, cum optimos viros, tum homines doctissimos. Quod iam a me expectare noli. Quid ergo?\n",
      "\n",
      "Eademne, quae restincta siti? Ita relinquet duas, de quibus etiam atque etiam consideret. Illa videamus, quae a te de amicitia dicta sunt. Eaedem res maneant alio modo. Quid ergo attinet gloriose loqui, nisi constanter loquare? Prioris generis est docilitas, memoria; Portenta haec esse dicit, neque ea ratione ullo modo posse vivi; Beatum, inquit. Bestiarum vero nullum iudicium puto.\n",
      "\n",
      "Quem Tiberina descensio festo illo die tanto gaudio affecit, quanto L. Quorum sine causa fieri nihil putandum est. Tria genera bonorum; Nunc dicam de voluptate, nihil scilicet novi, ea tamen, quae te ipsum probaturum esse confidam. Illud dico, ea, quae dicat, praeclare inter se cohaerere. Fortemne possumus dicere eundem illum Torquatum? Hoc tu nunc in illo probas. Cur post Tarentum ad Archytam?\n",
      "\n",
      "Indicant pueri, in quibus ut in speculis natura cernitur.\n",
      "Sed tamen est aliquid, quod nobis non liceat, liceat illis. Virtutis, magnitudinis animi, patientiae, fortitudinis fomentis dolor mitigari solet. Piso igitur hoc modo, vir optimus tuique, ut scis, amantissimus. Non prorsus, inquit, omnisque, qui sine dolore sint, in voluptate, et ea quidem summa, esse dico. Potius inflammat, ut coercendi magis quam dedocendi esse videantur. Virtutis, magnitudinis animi, patientiae, fortitudinis fomentis dolor mitigari solet. Quae fere omnia appellantur uno ingenii nomine, easque virtutes qui habent, ingeniosi vocantur. Nec enim, dum metuit, iustus est, et certe, si metuere destiterit, non erit;This is the new line in the sentence\n",
      ".This is the new line in the sentence\n",
      ".\n"
     ]
    }
   ],
   "source": [
    "with open(xyz,'r') as f:\n",
    "    print(f.read())"
   ]
  },
  {
   "cell_type": "markdown",
   "id": "cbe3a3b0",
   "metadata": {},
   "source": [
    "# tell and seek() functions with a+"
   ]
  },
  {
   "cell_type": "code",
   "execution_count": 12,
   "id": "33280bfc",
   "metadata": {},
   "outputs": [
    {
     "name": "stdout",
     "output_type": "stream",
     "text": [
      "First location:250\n",
      "Read Nothing.\n",
      "\n",
      " Second location:0\n",
      "I decided this book to Nancy Lier\n",
      ".Jean-Paul somewhere observed that we each of us make our own hell out of the people\n",
      ".From the last line of the sentence\n",
      ".A very good book by a fascination man...[Mullis] enjoys an almost frightend brilliant mind.\n",
      "Location after reading:250\n"
     ]
    }
   ],
   "source": [
    "with open(fname,'a+') as f:\n",
    "    print('First location:{}'.format(f.tell()))\n",
    "    \n",
    "    content=f.read()\n",
    "    if not content:\n",
    "        print('Read Nothing.')\n",
    "    else:\n",
    "        print(f.read())\n",
    "    f.seek(0,0)\n",
    "    ''' \n",
    "    Seek() Function is used to change the position of the file Handle to given specific position.\n",
    "    File handle is like a cursor, which defines from where the data has to be read or written in the file.\n",
    "    '''\n",
    "    \n",
    "    print('\\n Second location:{}'.format(f.tell()))\n",
    "    content=f.read()\n",
    "    if not content:\n",
    "        print('Read Nothing')\n",
    "    else:\n",
    "        print(content)\n",
    "    print('Location after reading:{}'.format(f.tell()))"
   ]
  },
  {
   "cell_type": "code",
   "execution_count": null,
   "id": "e235def2",
   "metadata": {},
   "outputs": [],
   "source": []
  }
 ],
 "metadata": {
  "kernelspec": {
   "display_name": "Python 3 (ipykernel)",
   "language": "python",
   "name": "python3"
  },
  "language_info": {
   "codemirror_mode": {
    "name": "ipython",
    "version": 3
   },
   "file_extension": ".py",
   "mimetype": "text/x-python",
   "name": "python",
   "nbconvert_exporter": "python",
   "pygments_lexer": "ipython3",
   "version": "3.9.13"
  }
 },
 "nbformat": 4,
 "nbformat_minor": 5
}
