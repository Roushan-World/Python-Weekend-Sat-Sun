{
 "cells": [
  {
   "cell_type": "markdown",
   "id": "981f5031",
   "metadata": {},
   "source": [
    "# 17. Lambda Functions in Python\n",
    "\n",
    " * A lambda function is a small anonymous function.\n",
    " * A lambda function can take any number of arguments, but can only have one expression.\n",
    " * The expression is evaluated and returned.\n",
    " * Lambda functions can be used wherever function objects are required.\n",
    " * Lambda expression (or lambda functions) are essentially blocks of code that can be assigned to \n",
    " variables, passed as an arguments, or returned from a fucntion call, in languages that support \n",
    " high-order functions.\n",
    " * They have been part of programming languages for quire some time.\n",
    " * The main role of lambda function is better described in the scenarios when we employ them\n",
    " anonymously inside another function.\n",
    " * In Python, the lambda function can be utilized as an arguments to the high order functions \n",
    " as argument."
   ]
  },
  {
   "cell_type": "code",
   "execution_count": 1,
   "id": "512c8c92",
   "metadata": {},
   "outputs": [
    {
     "name": "stdout",
     "output_type": "stream",
     "text": [
      "16\n"
     ]
    }
   ],
   "source": [
    "# Define a function using 'def'\n",
    "\n",
    "def f(x):\n",
    "    return x+6\n",
    "print(f(10))"
   ]
  },
  {
   "cell_type": "code",
   "execution_count": 2,
   "id": "9ac73187",
   "metadata": {},
   "outputs": [
    {
     "data": {
      "text/plain": [
       "16"
      ]
     },
     "execution_count": 2,
     "metadata": {},
     "output_type": "execute_result"
    }
   ],
   "source": [
    "# Define the some value function using 'Lambda'\n",
    "(lambda x:x+6)(10)"
   ]
  },
  {
   "cell_type": "code",
   "execution_count": 4,
   "id": "e7e4a331",
   "metadata": {},
   "outputs": [
    {
     "name": "stdout",
     "output_type": "stream",
     "text": [
      "The Exponent of 2 and  4 is 16\n"
     ]
    }
   ],
   "source": [
    "def f(x,y):\n",
    "    return x**y\n",
    "print('The Exponent of {} and  {} is'.format(2,4),f(2,4))"
   ]
  },
  {
   "cell_type": "code",
   "execution_count": 7,
   "id": "738d1479",
   "metadata": {},
   "outputs": [
    {
     "name": "stdout",
     "output_type": "stream",
     "text": [
      "The Power of 2 and 4 is 16.\n"
     ]
    }
   ],
   "source": [
    "print(f'The Power of 2 and 4 is {(lambda x,y: x**y)(2,4)}.')"
   ]
  },
  {
   "cell_type": "code",
   "execution_count": 8,
   "id": "6e679b4f",
   "metadata": {},
   "outputs": [
    {
     "name": "stdout",
     "output_type": "stream",
     "text": [
      "The volume of cube using def function is 64\n"
     ]
    }
   ],
   "source": [
    "def cube_volume(a):\n",
    "    return a*a*a\n",
    "print(f'The volume of cube using def function is {cube_volume(4)}')"
   ]
  },
  {
   "cell_type": "code",
   "execution_count": 9,
   "id": "1144713e",
   "metadata": {},
   "outputs": [
    {
     "name": "stdout",
     "output_type": "stream",
     "text": [
      "The volume of a cube using lambda function is 64\n"
     ]
    }
   ],
   "source": [
    "print(f'The volume of a cube using lambda function is {(lambda a:a*a*a)(4)}')"
   ]
  },
  {
   "cell_type": "code",
   "execution_count": 13,
   "id": "371f751e",
   "metadata": {},
   "outputs": [
    {
     "data": {
      "text/plain": [
       "[6, 28, 100]"
      ]
     },
     "execution_count": 13,
     "metadata": {},
     "output_type": "execute_result"
    }
   ],
   "source": [
    "# program returns a new list when the special numbers in the list are divided by 2 \n",
    "# and and the remainder is 0.\n",
    "special=[0.577,1.618,2.718,3.147,6,28,37,1729,100]\n",
    "\n",
    "list(filter(lambda x:(x%2==0),special))"
   ]
  },
  {
   "cell_type": "code",
   "execution_count": 17,
   "id": "96b8d67e",
   "metadata": {},
   "outputs": [
    {
     "name": "stdout",
     "output_type": "stream",
     "text": [
      "Enter your age: 16\n",
      "The entered age is 16\n",
      "You are not elegible for voting.\n"
     ]
    }
   ],
   "source": [
    "# Lambda function with if/else\n",
    "\n",
    "age=int(input('Enter your age: '))\n",
    "print(f'The entered age is {age}')\n",
    "(lambda age:print('Therefore, your can use a vote.') if age>=18 else print('You are not elegible for voting.'))(age)"
   ]
  },
  {
   "cell_type": "code",
   "execution_count": null,
   "id": "bc2b544c",
   "metadata": {},
   "outputs": [],
   "source": []
  }
 ],
 "metadata": {
  "kernelspec": {
   "display_name": "Python 3 (ipykernel)",
   "language": "python",
   "name": "python3"
  },
  "language_info": {
   "codemirror_mode": {
    "name": "ipython",
    "version": 3
   },
   "file_extension": ".py",
   "mimetype": "text/x-python",
   "name": "python",
   "nbconvert_exporter": "python",
   "pygments_lexer": "ipython3",
   "version": "3.9.13"
  }
 },
 "nbformat": 4,
 "nbformat_minor": 5
}
