{
 "cells": [
  {
   "cell_type": "markdown",
   "id": "981f5031",
   "metadata": {},
   "source": [
    "# 17. Lambda Functions in Python\n",
    "\n",
    " * A lambda function is a small anonymous function.\n",
    " * A lambda function can take any number of arguments, but can only have one expression.\n",
    " * The expression is evaluated and returned.\n",
    " * Lambda functions can be used wherever function objects are required.\n",
    " * Lambda expression (or lambda functions) are essentially blocks of code that can be assigned to \n",
    " variables, passed as an arguments, or returned from a fucntion call, in languages that support \n",
    " high-order functions.\n",
    " * They have been part of programming languages for quire some time.\n",
    " * The main role of lambda function is better described in the scenarios when we employ them\n",
    " anonymously inside another function.\n",
    " * In Python, the lambda function can be utilized as an arguments to the high order functions \n",
    " as argument."
   ]
  },
  {
   "cell_type": "code",
   "execution_count": 1,
   "id": "512c8c92",
   "metadata": {},
   "outputs": [
    {
     "name": "stdout",
     "output_type": "stream",
     "text": [
      "16\n"
     ]
    }
   ],
   "source": [
    "# Define a function using 'def'\n",
    "\n",
    "def f(x):\n",
    "    return x+6\n",
    "print(f(10))"
   ]
  },
  {
   "cell_type": "code",
   "execution_count": 2,
   "id": "9ac73187",
   "metadata": {},
   "outputs": [
    {
     "data": {
      "text/plain": [
       "16"
      ]
     },
     "execution_count": 2,
     "metadata": {},
     "output_type": "execute_result"
    }
   ],
   "source": [
    "# Define the some value function using 'Lambda'\n",
    "(lambda x:x+6)(10)"
   ]
  },
  {
   "cell_type": "code",
   "execution_count": 4,
   "id": "e7e4a331",
   "metadata": {},
   "outputs": [
    {
     "name": "stdout",
     "output_type": "stream",
     "text": [
      "The Exponent of 2 and  4 is 16\n"
     ]
    }
   ],
   "source": [
    "def f(x,y):\n",
    "    return x**y\n",
    "print('The Exponent of {} and  {} is'.format(2,4),f(2,4))"
   ]
  },
  {
   "cell_type": "code",
   "execution_count": 7,
   "id": "738d1479",
   "metadata": {},
   "outputs": [
    {
     "name": "stdout",
     "output_type": "stream",
     "text": [
      "The Power of 2 and 4 is 16.\n"
     ]
    }
   ],
   "source": [
    "print(f'The Power of 2 and 4 is {(lambda x,y: x**y)(2,4)}.')"
   ]
  },
  {
   "cell_type": "code",
   "execution_count": 8,
   "id": "6e679b4f",
   "metadata": {},
   "outputs": [
    {
     "name": "stdout",
     "output_type": "stream",
     "text": [
      "The volume of cube using def function is 64\n"
     ]
    }
   ],
   "source": [
    "def cube_volume(a):\n",
    "    return a*a*a\n",
    "print(f'The volume of cube using def function is {cube_volume(4)}')"
   ]
  },
  {
   "cell_type": "code",
   "execution_count": 9,
   "id": "1144713e",
   "metadata": {},
   "outputs": [
    {
     "name": "stdout",
     "output_type": "stream",
     "text": [
      "The volume of a cube using lambda function is 64\n"
     ]
    }
   ],
   "source": [
    "print(f'The volume of a cube using lambda function is {(lambda a:a*a*a)(4)}')"
   ]
  },
  {
   "cell_type": "code",
   "execution_count": 13,
   "id": "371f751e",
   "metadata": {},
   "outputs": [
    {
     "data": {
      "text/plain": [
       "[6, 28, 100]"
      ]
     },
     "execution_count": 13,
     "metadata": {},
     "output_type": "execute_result"
    }
   ],
   "source": [
    "# program returns a new list when the special numbers in the list are divided by 2 \n",
    "# and and the remainder is 0.\n",
    "special=[0.577,1.618,2.718,3.147,6,28,37,1729,100]\n",
    "\n",
    "list(filter(lambda x:(x%2==0),special))"
   ]
  },
  {
   "cell_type": "code",
   "execution_count": 17,
   "id": "96b8d67e",
   "metadata": {},
   "outputs": [
    {
     "name": "stdout",
     "output_type": "stream",
     "text": [
      "Enter your age: 16\n",
      "The entered age is 16\n",
      "You are not elegible for voting.\n"
     ]
    }
   ],
   "source": [
    "# Lambda function with if/else\n",
    "\n",
    "age=int(input('Enter your age: '))\n",
    "print(f'The entered age is {age}')\n",
    "(lambda age:print('Therefore, your can use a vote.') if age>=18 else print('You are not elegible for voting.'))(age)"
   ]
  },
  {
   "cell_type": "code",
   "execution_count": 5,
   "id": "bc2b544c",
   "metadata": {},
   "outputs": [
    {
     "name": "stdout",
     "output_type": "stream",
     "text": [
      "Python is a programming language.\n"
     ]
    }
   ],
   "source": [
    "text='Python is a programming language.'\n",
    "\n",
    "(lambda text:print(text))(text)"
   ]
  },
  {
   "cell_type": "code",
   "execution_count": 6,
   "id": "676ea8b1",
   "metadata": {},
   "outputs": [
    {
     "name": "stdout",
     "output_type": "stream",
     "text": [
      "Lambda is a pre-defined function.\n"
     ]
    }
   ],
   "source": [
    "x='Lambda is a pre-defined function.'\n",
    "\n",
    "(lambda x:print(x))(x)"
   ]
  },
  {
   "cell_type": "code",
   "execution_count": 23,
   "id": "78881b2f",
   "metadata": {},
   "outputs": [
    {
     "name": "stdout",
     "output_type": "stream",
     "text": [
      "[37.68, 2.0, 50, 50, 1, 9, 8]\n"
     ]
    }
   ],
   "source": [
    "lambda_list=[]\n",
    "# Multiplication of pi number and 12 in one line using lambda function.\n",
    "\n",
    "lambda_list.append((lambda x:x*3.14)(12))\n",
    "#print(lambda_list)\n",
    "lambda_list.append((lambda y:y/10)(20))\n",
    "#print(lambda_list)\n",
    "lambda_list.append((lambda g:g+20)(30))\n",
    "#print(lambda_list)\n",
    "lambda_list.append((lambda x:x-50)(100))\n",
    "#print(lambda_list)\n",
    "lambda_list.append((lambda x:x%2)(27))\n",
    "#print(lambda_list)\n",
    "lambda_list.append((lambda x:x//3)(28))\n",
    "#print(lambda_list)\n",
    "lambda_list.append((lambda x:x**3)(2))\n",
    "print(lambda_list)"
   ]
  },
  {
   "cell_type": "code",
   "execution_count": 26,
   "id": "b1ad9cdf",
   "metadata": {},
   "outputs": [
    {
     "name": "stdout",
     "output_type": "stream",
     "text": [
      "[(1, 1, 2), (2, 1, 2), (3, 1, 2)]\n",
      "[1.4142135623730951, 2.23606797749979, 3.1622776601683795]\n"
     ]
    }
   ],
   "source": [
    "import itertools\n",
    "\n",
    "from itertools import product\n",
    "\n",
    "from numpy import sqrt\n",
    "x=[1]\n",
    "x1=[2]\n",
    "y=[1,2,3]\n",
    "\n",
    "print(list(product(y,x,x1)))\n",
    "\n",
    "print(list(map(lambda x:sqrt(x[1]+x[0]**x[2]),product(y,x,x1))))\n"
   ]
  },
  {
   "cell_type": "code",
   "execution_count": 27,
   "id": "d76efc24",
   "metadata": {},
   "outputs": [
    {
     "name": "stdout",
     "output_type": "stream",
     "text": [
      "Help on ufunc:\n",
      "\n",
      "sqrt = <ufunc 'sqrt'>\n",
      "    sqrt(x, /, out=None, *, where=True, casting='same_kind', order='K', dtype=None, subok=True[, signature, extobj])\n",
      "    \n",
      "    Return the non-negative square-root of an array, element-wise.\n",
      "    \n",
      "    Parameters\n",
      "    ----------\n",
      "    x : array_like\n",
      "        The values whose square-roots are required.\n",
      "    out : ndarray, None, or tuple of ndarray and None, optional\n",
      "        A location into which the result is stored. If provided, it must have\n",
      "        a shape that the inputs broadcast to. If not provided or None,\n",
      "        a freshly-allocated array is returned. A tuple (possible only as a\n",
      "        keyword argument) must have length equal to the number of outputs.\n",
      "    where : array_like, optional\n",
      "        This condition is broadcast over the input. At locations where the\n",
      "        condition is True, the `out` array will be set to the ufunc result.\n",
      "        Elsewhere, the `out` array will retain its original value.\n",
      "        Note that if an uninitialized `out` array is created via the default\n",
      "        ``out=None``, locations within it where the condition is False will\n",
      "        remain uninitialized.\n",
      "    **kwargs\n",
      "        For other keyword-only arguments, see the\n",
      "        :ref:`ufunc docs <ufuncs.kwargs>`.\n",
      "    \n",
      "    Returns\n",
      "    -------\n",
      "    y : ndarray\n",
      "        An array of the same shape as `x`, containing the positive\n",
      "        square-root of each element in `x`.  If any element in `x` is\n",
      "        complex, a complex array is returned (and the square-roots of\n",
      "        negative reals are calculated).  If all of the elements in `x`\n",
      "        are real, so is `y`, with negative elements returning ``nan``.\n",
      "        If `out` was provided, `y` is a reference to it.\n",
      "        This is a scalar if `x` is a scalar.\n",
      "    \n",
      "    See Also\n",
      "    --------\n",
      "    lib.scimath.sqrt\n",
      "        A version which returns complex numbers when given negative reals.\n",
      "    \n",
      "    Notes\n",
      "    -----\n",
      "    *sqrt* has--consistent with common convention--as its branch cut the\n",
      "    real \"interval\" [`-inf`, 0), and is continuous from above on it.\n",
      "    A branch cut is a curve in the complex plane across which a given\n",
      "    complex function fails to be continuous.\n",
      "    \n",
      "    Examples\n",
      "    --------\n",
      "    >>> np.sqrt([1,4,9])\n",
      "    array([ 1.,  2.,  3.])\n",
      "    \n",
      "    >>> np.sqrt([4, -1, -3+4J])\n",
      "    array([ 2.+0.j,  0.+1.j,  1.+2.j])\n",
      "    \n",
      "    >>> np.sqrt([4, -1, np.inf])\n",
      "    array([ 2., nan, inf])\n",
      "\n"
     ]
    }
   ],
   "source": [
    "help(sqrt)"
   ]
  },
  {
   "cell_type": "code",
   "execution_count": null,
   "id": "7eae9530",
   "metadata": {},
   "outputs": [],
   "source": []
  }
 ],
 "metadata": {
  "kernelspec": {
   "display_name": "Python 3 (ipykernel)",
   "language": "python",
   "name": "python3"
  },
  "language_info": {
   "codemirror_mode": {
    "name": "ipython",
    "version": 3
   },
   "file_extension": ".py",
   "mimetype": "text/x-python",
   "name": "python",
   "nbconvert_exporter": "python",
   "pygments_lexer": "ipython3",
   "version": "3.9.13"
  }
 },
 "nbformat": 4,
 "nbformat_minor": 5
}
