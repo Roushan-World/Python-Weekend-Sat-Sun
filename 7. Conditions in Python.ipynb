{
 "cells": [
  {
   "cell_type": "markdown",
   "id": "c98315ca",
   "metadata": {},
   "source": [
    "# 7. Conditions in Python"
   ]
  },
  {
   "cell_type": "markdown",
   "id": "1f32ded4",
   "metadata": {},
   "source": [
    "# Comparison operators"
   ]
  },
  {
   "cell_type": "markdown",
   "id": "f306ed06",
   "metadata": {},
   "source": [
    "* Comparison operators compare some value or operand and based on a condition, produce a Boolean.\n",
    "* Python has six comparison operators as below:\n",
    "\n",
    "            * Less than(<)\n",
    "            * Less than or equal to(<=)\n",
    "            * Greater than(>)\n",
    "            * Greater than or equal to (>=)\n",
    "            * Equal to(==)\n",
    "            * Not Equal to (!=)"
   ]
  },
  {
   "cell_type": "code",
   "execution_count": null,
   "id": "e0ff300c",
   "metadata": {},
   "outputs": [],
   "source": [
    "# Take a variable\n",
    "\n",
    "ratio=1.618\n",
    "\n",
    "print(ratio<2)\n",
    "print(ratio>2)"
   ]
  },
  {
   "cell_type": "code",
   "execution_count": null,
   "id": "081dc4ab",
   "metadata": {},
   "outputs": [],
   "source": [
    "print(ratio<=2)\n",
    "print(ratio<=1)\n",
    "print(ratio<=1.618)"
   ]
  },
  {
   "cell_type": "code",
   "execution_count": null,
   "id": "cea54280",
   "metadata": {},
   "outputs": [],
   "source": [
    "print(ratio>2)\n",
    "print(ratio>1)\n",
    "print(ratio>=2)\n",
    "print(ratio>=1.618)"
   ]
  },
  {
   "cell_type": "code",
   "execution_count": null,
   "id": "490deecc",
   "metadata": {},
   "outputs": [],
   "source": [
    "print(ratio==2)\n",
    "print(ratio==1.618)\n",
    "print(ratio!=2)  # is not equal to\n",
    "print(ratio!=1.618)"
   ]
  },
  {
   "cell_type": "markdown",
   "id": "faa8c0cb",
   "metadata": {},
   "source": [
    "# Branching (if, elif, else)"
   ]
  },
  {
   "cell_type": "markdown",
   "id": "d534a957",
   "metadata": {},
   "source": [
    "* Decision making is require when we want ot execute a code only if a certain condition is\n",
    "certified.\n",
    "* The if/elif/else statement is used in python for decidion making.\n",
    "* An else statement can be combined with an if statement.\n",
    "* An else statement contains the block of code that executes if the conditional expression\n",
    "in the if statement resolves to 0 or a False value.\n",
    "* The else statement is an optional statement and there could be at most only one else statement\n",
    "following if.\n",
    "* The elif statement allows you to check multiple expressions for True and execute a block of code as\n",
    "soon as one of the conditions evaluates to True.\n",
    "* Similar to the else, the elif statement is optional."
   ]
  },
  {
   "cell_type": "code",
   "execution_count": null,
   "id": "8d629e18",
   "metadata": {},
   "outputs": [],
   "source": [
    "pi=3.14\n",
    "ratio=1.618\n",
    "\n",
    "\n",
    "# This statement can be True or False\n",
    "\n",
    "if pi>ratio:\n",
    "    print(f'The number pi {pi} is greater than ratio {ratio}.')\n",
    "    \n",
    "else:\n",
    "    print('False value')"
   ]
  },
  {
   "cell_type": "code",
   "execution_count": null,
   "id": "a750ece7",
   "metadata": {},
   "outputs": [],
   "source": [
    "if pi>ratio:\n",
    "    print('The number pi 3 is greater than ratio 1.')\n",
    "    \n",
    "else:\n",
    "    print('False value')"
   ]
  },
  {
   "cell_type": "code",
   "execution_count": null,
   "id": "37e41d39",
   "metadata": {},
   "outputs": [],
   "source": [
    "age=int(input('Enter your age between 1 to 10:  '))\n",
    "\n",
    "if age>6:\n",
    "    print('You can go to primary school.')\n",
    "    \n",
    "elif age==5:\n",
    "    print('You should go to Kindergarten.')\n",
    "    \n",
    "else:\n",
    "    print('You are a baby')"
   ]
  },
  {
   "cell_type": "code",
   "execution_count": null,
   "id": "37e8bcdd",
   "metadata": {},
   "outputs": [],
   "source": [
    "imdb_point=float(input('Enter the movie rating: '))\n",
    "\n",
    "if imdb_point >=8.5:\n",
    "    print('The movie could win oscar award')\n",
    "    \n",
    "else:\n",
    "    print('The movie could not win oscar.')\n",
    "    \n"
   ]
  },
  {
   "cell_type": "code",
   "execution_count": null,
   "id": "f03cbf5b",
   "metadata": {},
   "outputs": [],
   "source": [
    "age=int(input('Enter your age: '))\n",
    "\n",
    "if age>=18:\n",
    "    print('You are elegible for voting')\n",
    "    \n",
    "else:\n",
    "    print('You are not elegibel for voting.')"
   ]
  },
  {
   "cell_type": "code",
   "execution_count": null,
   "id": "17590e9c",
   "metadata": {},
   "outputs": [],
   "source": [
    "# Write a program to check whetehr a number is entered by user is even or odd.\n",
    "\n",
    "num=int(input('Enter any number: '))\n",
    "\n",
    "if num%2==0:\n",
    "    print('Number is even')\n",
    "else:\n",
    "    print('Number is odd')"
   ]
  },
  {
   "cell_type": "code",
   "execution_count": null,
   "id": "2a374d24",
   "metadata": {},
   "outputs": [],
   "source": [
    "# Write a program to check whether a number is divisible by 7 or not.\n",
    "\n",
    "num=int(input('Enter any number: '))\n",
    "\n",
    "if num%7==0:\n",
    "    print('Number is divisible by 7')\n",
    "    \n",
    "else:\n",
    "    print('Number is not divisible by 7')"
   ]
  },
  {
   "cell_type": "code",
   "execution_count": null,
   "id": "b5f8487b",
   "metadata": {},
   "outputs": [],
   "source": [
    "# Write a program to display 'Hello' if a number is entered by the user is a multiple of 5.\n",
    "\n",
    "\n",
    "num1=int(input('Enter any number: '))\n",
    "\n",
    "if num1%5==0:\n",
    "    print('Hello')\n",
    "    \n",
    "else:\n",
    "    print('Bye')\n",
    "    "
   ]
  },
  {
   "cell_type": "code",
   "execution_count": null,
   "id": "449a55dd",
   "metadata": {},
   "outputs": [],
   "source": [
    "# Write a program to check wheter the last digit of a number (Entered by user) is divisible by 3 or not.\n",
    "\n",
    "num2=int(input('Enter any number: '))\n",
    "\n",
    "Id=num2%10\n",
    "if Id%3==0:\n",
    "    print('Last digit of number is divisible by 3')\n",
    "else:\n",
    "    print('Last digit of number is not divisible by 3')"
   ]
  },
  {
   "cell_type": "code",
   "execution_count": null,
   "id": "95ae9726",
   "metadata": {},
   "outputs": [],
   "source": [
    "# Write a program to accept percentage from the user and display the grade according to the following \n",
    "# criteria:\n",
    "\n",
    "# Percentage--------------> Grade\n",
    "# >90---------------------> A\n",
    "# >80 and <=90------------> B\n",
    "# >=60 and <=80-----------> C\n",
    "# below 60----------------> D\n",
    "\n",
    "per=int(input('Enter your percentage: '))\n",
    "\n",
    "if per>90:\n",
    "    print('Grade is A')\n",
    "elif per>80 and per<=90:\n",
    "    print('Grade is B')\n",
    "elif per>=60 and per<=80:\n",
    "    print('Grade is C')\n",
    "elif per<60:\n",
    "    print('Grade is D')\n",
    "        \n"
   ]
  },
  {
   "cell_type": "code",
   "execution_count": null,
   "id": "db9f4b70",
   "metadata": {},
   "outputs": [],
   "source": [
    "# Write a program to accept a number from 1 to 7\n",
    "# and display the name of the day like 1 for sunday, 2 for monday and so on.\n",
    "num3=int(input('Enter any number for 1 to 7: '))\n",
    "\n",
    "if num3==1:\n",
    "    print('Sunday')\n",
    "elif num3==2:\n",
    "    print('Monday')\n",
    "    \n",
    "elif num3==3:\n",
    "    print('Tuesday')\n",
    "    \n",
    "elif num3==4:\n",
    "    print('Wednesday')\n",
    "elif num3==5:\n",
    "    print('Thursday')\n",
    "elif num3==6:\n",
    "    print('Friday')\n",
    "elif num3==7:\n",
    "    print('Saturday')\n",
    "else:\n",
    "    print('Please! Enter number between 1 to 7')"
   ]
  },
  {
   "cell_type": "code",
   "execution_count": null,
   "id": "583ff9b7",
   "metadata": {},
   "outputs": [],
   "source": [
    "# Write a program to accept a number from 1 to 12 and display the month in that month like 1 for january\n",
    "# and number of days 31 and so on."
   ]
  },
  {
   "cell_type": "code",
   "execution_count": null,
   "id": "d1610ee1",
   "metadata": {},
   "outputs": [],
   "source": [
    "# Write a program to accept any city from the user and display monument of that city.\n",
    "# City--------------------> Monument\n",
    "\n",
    "# Delhi-------------------> Red Fort\n",
    "# Agra--------------------> Taj Mahal\n",
    "# Jaipur------------------> Jal Mahal\n",
    "# Jammu & Kashmir---------> Vaishnu Devi\n",
    "# Bihar-------------------> Tomb of Sher Shah Suri.\n",
    "\n",
    "city=input('Enter name of the given city: ')\n",
    "print('Agra',',','Delhi',',','Jaipur',',','Jammu & Kashmir',',','Bihar')\n",
    "\n",
    "if city.lower()=='agra':\n",
    "    print('Monument name: Taj Mahal')\n",
    "elif city.lower()=='delhi':\n",
    "    print('Monument name: Red Fort')\n",
    "elif city.lower()=='jaipur':\n",
    "    print('Monument name: Jal Mahal')\n",
    "elif city.lower()=='jammu & kashmir':\n",
    "    print('Monument name: Vaishnu Devi')\n",
    "elif city.lower()=='bihar':\n",
    "    print('Monument name: Tomb of sher shah suri')\n",
    "else:\n",
    "    print('Enter the name of given city only')"
   ]
  },
  {
   "cell_type": "code",
   "execution_count": null,
   "id": "8996c06e",
   "metadata": {},
   "outputs": [],
   "source": [
    "# Write a program to check whether a person is senior citizen or not.\n",
    "\n",
    "age=int(input('Enter your age: '))\n",
    "\n",
    "if age>=50:\n",
    "    print('You are a Senior Citizen')\n",
    "else:\n",
    "    print('You are not Senior Citizen')"
   ]
  },
  {
   "cell_type": "code",
   "execution_count": null,
   "id": "f94ec45b",
   "metadata": {},
   "outputs": [],
   "source": [
    "# Write a program to find the lowest number out of two numbers accepted from user.\n",
    "\n",
    "num1=int(input('Enter first number: '))\n",
    "num2=int(input('Enter second number: '))\n",
    "\n",
    "if num1>num2:\n",
    "    print('Smaller number is: ',num2)\n",
    "else:\n",
    "    print('Smaller number is: ',num1)"
   ]
  },
  {
   "cell_type": "code",
   "execution_count": null,
   "id": "40a3de8f",
   "metadata": {},
   "outputs": [],
   "source": [
    "# Write a program to accept the cost price of a bike and display the road \n",
    "# tax to be paid according to the following criteria:\n",
    "\n",
    "                # cost price (in Rs )------------------> Tax\n",
    "                # >100000------------------------------> 15%\n",
    "                # 50000 and <=100000-------------------> 10%\n",
    "                # <=50000------------------------------> 5%\n",
    "total_tax=0\n",
    "\n",
    "price=int(input('Enter the price of your bike: '))\n",
    "\n",
    "if price>100000:\n",
    "    total_tax=15/100*price\n",
    "    print(total_tax)\n",
    "    \n",
    "elif price>50000 and price<=100000:\n",
    "    total_tax=10/100*price\n",
    "    print(total_tax)\n",
    "else:\n",
    "    total_tax= 5/100*price\n",
    "print('Tax to be paid: ',total_tax)\n",
    "    "
   ]
  },
  {
   "cell_type": "code",
   "execution_count": null,
   "id": "560a1593",
   "metadata": {},
   "outputs": [],
   "source": [
    "# Write a program to check whether a number accepted from user is positive or negative.\n",
    "\n",
    "num1=int(input('Enter your number: '))\n",
    "\n",
    "if num1>0:\n",
    "    print('Your Number is Postive')\n",
    "else:\n",
    "    print('Your Number is Negative')"
   ]
  },
  {
   "cell_type": "code",
   "execution_count": null,
   "id": "2106da5a",
   "metadata": {},
   "outputs": [],
   "source": [
    "# Write a program to check whether a number (accepted form the user) is divisible by 2 and 3 both.\n",
    "\n",
    "num2=int(input('Enter your number: '))\n",
    "\n",
    "if num2%2==0 and num2%3==0:\n",
    "    print('Number is divisible by 2 and 3 both')\n",
    "    \n",
    "else:\n",
    "    print('Number is not divisible by 2 and 3 both')"
   ]
  },
  {
   "cell_type": "code",
   "execution_count": null,
   "id": "c1efc1ca",
   "metadata": {},
   "outputs": [],
   "source": [
    "# Write a program to find the largest number out of three numbers accepted from user.\n",
    "num1= int(input('Enter first number: '))\n",
    "num2= int(input('Enter second number: '))\n",
    "num3= int(input('Enter third number: '))\n",
    "\n",
    "if num1>num2 and num1>num3:\n",
    "    print('Largest number is ',num1)\n",
    "    \n",
    "elif num2>num1 and num2>num3:\n",
    "    print('Largest number is ',num2)\n",
    "elif num3>num1 and num3>num2:\n",
    "    print('Largest number is: ',num3)\n",
    "elif num1==num2 and num1==num3 and num3==num2:\n",
    "    print('All number are equal ',num1,',',num2,',',num3)\n",
    "    \n",
    "elif num1==num2 and num1!=num3:\n",
    "    print(\"Frist and Second number's are same \",num1,num2,num3)\n",
    "    \n",
    "elif num2==num3 and num2!=num1:\n",
    "    print(\"Second and Third number's are same \",num2,num3,num1)"
   ]
  },
  {
   "cell_type": "code",
   "execution_count": null,
   "id": "1035bcee",
   "metadata": {},
   "outputs": [],
   "source": [
    "# Accept the age of 4 people dand display the youngest one.\n",
    "\n",
    "age1=int(input('Enter your age: '))\n",
    "age2=int(input('Enter your age: '))\n",
    "age3=int(input('Enter your age: '))\n",
    "age4=int(input('Enter your age: '))\n",
    "\n",
    "if age1<age2 and age1<age3 and age1<age4:\n",
    "    print('Age of Youngest Person is: ',age1)\n",
    "    \n",
    "elif age2<age1 and age2<age3 and age2<age4:\n",
    "    print('Age of Youngest Person is: ',age2)\n",
    "elif age3<age1 and age3<age2 and age3<age4:\n",
    "    print('Age of Youngest Person is: ',age3)\n",
    "elif age4<age1 and age4<age2 and age4<age3:\n",
    "    print('Age of Youngest Person is: ',age4)"
   ]
  },
  {
   "cell_type": "code",
   "execution_count": null,
   "id": "35856da3",
   "metadata": {},
   "outputs": [],
   "source": [
    "# Write a program to check character is vowel or not.\n",
    "\n",
    "ch=input('Enter your character: ')\n",
    "vowel='AEIOUaeiou'\n",
    "if ch in vowel:\n",
    "    print('Entered character is Vowel')\n",
    "else:\n",
    "    print('Entered character is Consonent')\n",
    "    "
   ]
  },
  {
   "cell_type": "code",
   "execution_count": null,
   "id": "bd45e9b1",
   "metadata": {},
   "outputs": [],
   "source": [
    "# A company decided to give bonus to employee according to the following criteria:\n",
    "# Time period of service------------------------> Bonus\n",
    "# More than 10 yrs------------------------------> 10%\n",
    "# >=6 and <=10----------------------------------> 8%\n",
    "# Less than 6 yrs-------------------------------> 5%\n",
    "\n",
    "# Ask the user for their salary and Years of service and print the net bonus amount.\n",
    "\n",
    "service=int(input('Enter the time period of service '))\n",
    "\n",
    "sal=int(input('Enter your salary '))\n",
    "\n",
    "if service>10:\n",
    "    bonus=10/100*sal\n",
    "elif service>=6 and service<=10:\n",
    "    bonus=8/100*sal\n",
    "elif service<6:\n",
    "    bonus=5/100*sal\n",
    "print('Bonus is',bonus)\n",
    "    \n",
    "\n",
    "\n"
   ]
  },
  {
   "cell_type": "code",
   "execution_count": null,
   "id": "869c99b6",
   "metadata": {},
   "outputs": [],
   "source": [
    "# Write a program to check whether a number is prime or not.\n",
    "\n",
    "# 1,3,5,7,11,13,17\n",
    "\n"
   ]
  },
  {
   "cell_type": "code",
   "execution_count": 1,
   "id": "3ed9dd4a",
   "metadata": {},
   "outputs": [
    {
     "name": "stdout",
     "output_type": "stream",
     "text": [
      "Enter marked price 10000\n",
      "Net Amount to pay  8500.0\n"
     ]
    }
   ],
   "source": [
    "# 28. Accept the marked price form the user and claulate the net amount as (Marked Price- Discount) \n",
    "# to pay according to the following criteria.\n",
    "\n",
    "# Marked price ---------------------> Discount\n",
    "# >10000 ---------------------------> 20%\n",
    "# >7000 and <=10000-----------------> 15%\n",
    "#<=7000 ----------------------------> 10%\n",
    "\n",
    "na=0\n",
    "discount=0\n",
    "marked_price=int(input('Enter marked price '))\n",
    "\n",
    "if marked_price>10000:\n",
    "    discount=20/100*marked_price\n",
    "elif marked_price>7000 and marked_price<=10000:\n",
    "    discount=15/100*marked_price\n",
    "elif marked_price<=7000:\n",
    "    discount=10/100*marked_price\n",
    "na=marked_price-discount\n",
    "print('Net Amount to pay ',na)"
   ]
  },
  {
   "cell_type": "code",
   "execution_count": null,
   "id": "16f25d78",
   "metadata": {},
   "outputs": [],
   "source": [
    "\n",
    "print('Input length of the triangle sides: ')\n",
    "x= int(input('x: '))\n",
    "y= int(input(\"y: \"))\n",
    "z= int(input('z: '))\n",
    "\n",
    "if x==y==z:\n",
    "    print('Equlateral triangle')\n",
    "    \n",
    "elif x==y or y==z or z==x:\n",
    "    print('isosceles triangle')\n",
    "else:\n",
    "    print('Scalen triangl')"
   ]
  }
 ],
 "metadata": {
  "kernelspec": {
   "display_name": "Python 3 (ipykernel)",
   "language": "python",
   "name": "python3"
  },
  "language_info": {
   "codemirror_mode": {
    "name": "ipython",
    "version": 3
   },
   "file_extension": ".py",
   "mimetype": "text/x-python",
   "name": "python",
   "nbconvert_exporter": "python",
   "pygments_lexer": "ipython3",
   "version": "3.9.7"
  }
 },
 "nbformat": 4,
 "nbformat_minor": 5
}
