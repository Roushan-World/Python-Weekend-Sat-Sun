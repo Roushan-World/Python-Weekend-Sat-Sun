{
 "cells": [
  {
   "cell_type": "markdown",
   "id": "acca8e6a",
   "metadata": {},
   "source": [
    "# 3. Lists"
   ]
  },
  {
   "cell_type": "markdown",
   "id": "98fab49d",
   "metadata": {},
   "source": [
    "* Lists are ordered.\n",
    "* Lists can contains any arbitrary objects.\n",
    "* List elements can be accessed by index.\n",
    "* Lists can be nested to depth.\n",
    "* Lists are mutable.\n",
    "* Lists are dynamic."
   ]
  },
  {
   "cell_type": "code",
   "execution_count": 3,
   "id": "6f25ce55",
   "metadata": {},
   "outputs": [
    {
     "name": "stdout",
     "output_type": "stream",
     "text": [
      "[]\n",
      "<class 'list'>\n"
     ]
    }
   ],
   "source": [
    "# Creating a empty list\n",
    "\n",
    "nlis=[]\n",
    "print(nlis)\n",
    "print(type(nlis))"
   ]
  },
  {
   "cell_type": "code",
   "execution_count": 4,
   "id": "7828c781",
   "metadata": {},
   "outputs": [
    {
     "data": {
      "text/plain": [
       "['Python', 25, 2023, 3.147]"
      ]
     },
     "execution_count": 4,
     "metadata": {},
     "output_type": "execute_result"
    }
   ],
   "source": [
    "# Creating a list\n",
    "nlis=['Python',25,2023,3.147]\n",
    "nlis"
   ]
  },
  {
   "cell_type": "code",
   "execution_count": 9,
   "id": "f760dc93",
   "metadata": {},
   "outputs": [
    {
     "name": "stdout",
     "output_type": "stream",
     "text": [
      "Python\n",
      "25\n",
      "2023\n",
      "3.147\n"
     ]
    }
   ],
   "source": [
    "# This accessed by positive indexing.\n",
    "print(nlis[0])\n",
    "print(nlis[1])\n",
    "print(nlis[2])\n",
    "print(nlis[3])"
   ]
  },
  {
   "cell_type": "code",
   "execution_count": 13,
   "id": "4a757b6b",
   "metadata": {},
   "outputs": [
    {
     "name": "stdout",
     "output_type": "stream",
     "text": [
      "3.147\n",
      "2023\n",
      "25\n",
      "Python\n"
     ]
    }
   ],
   "source": [
    "# This accessed by negative indexing.\n",
    "print(nlis[-1])\n",
    "print(nlis[-2])\n",
    "print(nlis[-3])\n",
    "print(nlis[-4])"
   ]
  },
  {
   "cell_type": "markdown",
   "id": "8a837690",
   "metadata": {},
   "source": [
    "# What can contains a list?"
   ]
  },
  {
   "cell_type": "markdown",
   "id": "b5c7c2b3",
   "metadata": {},
   "source": [
    "* String\n",
    "* Float\n",
    "* Integer\n",
    "* Boolean\n",
    "* Nested list\n",
    "* Nested Tuples\n",
    "* Other data structurs."
   ]
  },
  {
   "cell_type": "code",
   "execution_count": 16,
   "id": "ab6ae65d",
   "metadata": {},
   "outputs": [
    {
     "data": {
      "text/plain": [
       "['Python',\n",
       " 3.147,\n",
       " 2023,\n",
       " True,\n",
       " False,\n",
       " [1, 1, 2, 2, 3, 3, 4, 4, 5],\n",
       " ('Hello', 'Python', 3.14, 2023)]"
      ]
     },
     "execution_count": 16,
     "metadata": {},
     "output_type": "execute_result"
    }
   ],
   "source": [
    "nlis1=['Python',3.147,2023,True, False, [1,1,2,2,3,3,4,4,5],('Hello','Python',3.14,2023)]\n",
    "nlis1"
   ]
  },
  {
   "cell_type": "markdown",
   "id": "9cbdfcae",
   "metadata": {},
   "source": [
    "# List Operations"
   ]
  },
  {
   "cell_type": "code",
   "execution_count": 17,
   "id": "9f560bc6",
   "metadata": {},
   "outputs": [
    {
     "data": {
      "text/plain": [
       "['Python',\n",
       " 3.147,\n",
       " 2023,\n",
       " True,\n",
       " False,\n",
       " [1, 1, 2, 2, 3, 3, 4, 4, 5],\n",
       " ('Hello', 'Python', 3.14, 2023)]"
      ]
     },
     "execution_count": 17,
     "metadata": {},
     "output_type": "execute_result"
    }
   ],
   "source": [
    "# Take a list\n",
    "nlis2=['Python',3.147,2023,True, False, [1,1,2,2,3,3,4,4,5],('Hello','Python',3.14,2023)]\n",
    "nlis2"
   ]
  },
  {
   "cell_type": "code",
   "execution_count": 18,
   "id": "a4e4447d",
   "metadata": {},
   "outputs": [
    {
     "data": {
      "text/plain": [
       "7"
      ]
     },
     "execution_count": 18,
     "metadata": {},
     "output_type": "execute_result"
    }
   ],
   "source": [
    "# len() function count the total length of the list.\n",
    "len(nlis2)"
   ]
  },
  {
   "cell_type": "markdown",
   "id": "73e8608f",
   "metadata": {},
   "source": [
    "# Slicing of list elements"
   ]
  },
  {
   "cell_type": "code",
   "execution_count": 24,
   "id": "9243ed11",
   "metadata": {},
   "outputs": [
    {
     "name": "stdout",
     "output_type": "stream",
     "text": [
      "[('Hello', 'Python', 3.14, 2023)]\n"
     ]
    }
   ],
   "source": [
    "print(nlis2[6:7])"
   ]
  },
  {
   "cell_type": "code",
   "execution_count": 26,
   "id": "22e64c0c",
   "metadata": {},
   "outputs": [
    {
     "data": {
      "text/plain": [
       "'Hello'"
      ]
     },
     "execution_count": 26,
     "metadata": {},
     "output_type": "execute_result"
    }
   ],
   "source": [
    "nlis2[6][0]"
   ]
  },
  {
   "cell_type": "code",
   "execution_count": 28,
   "id": "2b563015",
   "metadata": {},
   "outputs": [
    {
     "data": {
      "text/plain": [
       "3"
      ]
     },
     "execution_count": 28,
     "metadata": {},
     "output_type": "execute_result"
    }
   ],
   "source": [
    "nlis2[5][4]"
   ]
  },
  {
   "cell_type": "code",
   "execution_count": 30,
   "id": "d97fa18d",
   "metadata": {},
   "outputs": [
    {
     "data": {
      "text/plain": [
       "'Python'"
      ]
     },
     "execution_count": 30,
     "metadata": {},
     "output_type": "execute_result"
    }
   ],
   "source": [
    "nlis2[6][1]"
   ]
  },
  {
   "cell_type": "markdown",
   "id": "f4586f68",
   "metadata": {},
   "source": [
    "# Extending the list"
   ]
  },
  {
   "cell_type": "markdown",
   "id": "be1991fd",
   "metadata": {},
   "source": [
    "* We use the extend() function to add a new element to the list.\n",
    "* With this functions, we add more than one element to the list."
   ]
  },
  {
   "cell_type": "code",
   "execution_count": 33,
   "id": "99a59612",
   "metadata": {},
   "outputs": [
    {
     "name": "stdout",
     "output_type": "stream",
     "text": [
      "['Python', 3.147, 2023, True, False, [1, 1, 2, 2, 3, 3, 4, 4, 5], ('Hello', 'Python', 3.14, 2023), 'Amruta', 30]\n"
     ]
    }
   ],
   "source": [
    "nlis3=['Python',3.147,2023,True, False, [1,1,2,2,3,3,4,4,5],('Hello','Python',3.14,2023)]\n",
    "nlis3.extend(['Amruta',30])\n",
    "print(nlis3)"
   ]
  },
  {
   "cell_type": "code",
   "execution_count": 44,
   "id": "2b602916",
   "metadata": {},
   "outputs": [
    {
     "data": {
      "text/plain": [
       "['Python',\n",
       " 3.147,\n",
       " 2023,\n",
       " True,\n",
       " False,\n",
       " [1, 1, 2, 2, 3, 3, 4, 4, 5],\n",
       " ('Hello', 'Python', 3.14, 2023),\n",
       " 'Amruta',\n",
       " 30,\n",
       " 'Happy New Year 2023',\n",
       " 'Happy New Year 2023',\n",
       " 'Happy New Year 2023',\n",
       " 'Happy New Year 2023',\n",
       " 'Happy New Year 2023',\n",
       " 'Happy New Year 2023']"
      ]
     },
     "execution_count": 44,
     "metadata": {},
     "output_type": "execute_result"
    }
   ],
   "source": [
    "nlis3.extend(['Happy New Year 2023'])\n",
    "nlis3"
   ]
  },
  {
   "cell_type": "markdown",
   "id": "733f2ec4",
   "metadata": {},
   "source": [
    "# Append() method "
   ]
  },
  {
   "cell_type": "markdown",
   "id": "c985b23c",
   "metadata": {},
   "source": [
    "* As diffrent form the extend() method, with the append() mehtod, we add only one element  to the list.\n",
    "* You can see the diffrenet by comparing the above and below codes."
   ]
  },
  {
   "cell_type": "code",
   "execution_count": 47,
   "id": "8135f661",
   "metadata": {},
   "outputs": [
    {
     "data": {
      "text/plain": [
       "['Python',\n",
       " 3.147,\n",
       " 2023,\n",
       " True,\n",
       " False,\n",
       " [1, 1, 2, 2, 3, 3, 4, 4, 5],\n",
       " ('Hello', 'Python', 3.14, 2023),\n",
       " ['Hello World', 1.518]]"
      ]
     },
     "execution_count": 47,
     "metadata": {},
     "output_type": "execute_result"
    }
   ],
   "source": [
    "nlis4=['Python',3.147,2023,True, False, [1,1,2,2,3,3,4,4,5],('Hello','Python',3.14,2023)]\n",
    "nlis4.append(['Hello World',1.518])\n",
    "nlis4"
   ]
  },
  {
   "cell_type": "markdown",
   "id": "37801f59",
   "metadata": {},
   "source": [
    "# len(), append(), count(), index(), insert(),max(), min(), sum() functions"
   ]
  },
  {
   "cell_type": "code",
   "execution_count": 63,
   "id": "ceb4a651",
   "metadata": {},
   "outputs": [
    {
     "name": "stdout",
     "output_type": "stream",
     "text": [
      "7\n",
      "[1, 2, 3, 4, 5, 6, 7, 4]\n",
      "2\n",
      "1\n",
      "[30, 1, 2, 3, 4, 5, 6, 7, 4]\n",
      "30\n",
      "1\n",
      "62\n"
     ]
    }
   ],
   "source": [
    "lis=[1,2,3,4,5,6,7]\n",
    "print(len(lis))\n",
    "lis.append(4)\n",
    "print(lis)\n",
    "print(lis.count(4)) # How many 4 are on the list \"lis\"?\n",
    "print(lis.index(2)) # What is the index of the number 2 in the list \"lis\"?\n",
    "lis.insert(0,30) # Add name 'Amruta' to the index 0.\n",
    "print(lis)\n",
    "print(max(lis)) # What is the maximum number in the list?\n",
    "print(min(lis)) # What is the minimum number in the list?\n",
    "print(sum(lis)) # What is the sum of the numbers in the list?\n"
   ]
  },
  {
   "cell_type": "markdown",
   "id": "a322e33c",
   "metadata": {},
   "source": [
    "# Changing the element of a list since it is mutable"
   ]
  },
  {
   "cell_type": "code",
   "execution_count": 66,
   "id": "9e802551",
   "metadata": {},
   "outputs": [
    {
     "name": "stdout",
     "output_type": "stream",
     "text": [
      "Before changing: ['Python', 3.147, 2023, True, False, [1, 1, 2, 2, 3, 3, 4, 4, 5], ('Hello', 'Python', 3.14, 2023)]\n",
      "After changin: ['Amruta', 3.147, 2023, True, False, [1, 1, 2, 2, 3, 3, 4, 4, 5], ('Hello', 'Python', 3.14, 2023)]\n",
      "After changing: ['Amruta', 30, 2023, True, False, [1, 1, 2, 2, 3, 3, 4, 4, 5], ('Hello', 'Python', 3.14, 2023)]\n"
     ]
    }
   ],
   "source": [
    "nlis5=['Python',3.147,2023,True, False, [1,1,2,2,3,3,4,4,5],('Hello','Python',3.14,2023)]\n",
    "print('Before changing:',nlis5)\n",
    "nlis5[0]='Amruta'\n",
    "print('After changin:',nlis5)\n",
    "nlis5[1]=30\n",
    "print('After changing:',nlis5)"
   ]
  },
  {
   "cell_type": "code",
   "execution_count": 75,
   "id": "e49c95a8",
   "metadata": {},
   "outputs": [
    {
     "name": "stdout",
     "output_type": "stream",
     "text": [
      "['Amruta', 30, 2023, True, False, ['Hi', 'Amruta', 2, 2, 3, 3, 4, 4, 5], ('Hello', 'Python', 3.14, 2023)]\n",
      "['Amruta', 30, 2023, True, False, ['Hi', 'Amruta', 2, 2, 3, 3, 4, 4, 5], ('Hello', 'Python', 3.14, 2023)]\n"
     ]
    }
   ],
   "source": [
    "nlis5[5][0]='Hi'\n",
    "print(nlis5)\n",
    "nlis5[5][1]='Amruta'\n",
    "print(nlis5)"
   ]
  },
  {
   "cell_type": "markdown",
   "id": "fa8e762f",
   "metadata": {},
   "source": [
    "# Deleting the element from the list using del() function"
   ]
  },
  {
   "cell_type": "code",
   "execution_count": 79,
   "id": "a93b2e3d",
   "metadata": {},
   "outputs": [
    {
     "name": "stdout",
     "output_type": "stream",
     "text": [
      "Before changing ['Amruta', 30, True, False, ['Hi', 'Amruta', 2, 2, 3, 3, 4, 4, 5], ('Hello', 'Python', 3.14, 2023)]\n",
      "After changing ['Amruta', 30, False, ['Hi', 'Amruta', 2, 2, 3, 3, 4, 4, 5], ('Hello', 'Python', 3.14, 2023)]\n",
      "After changing ['Amruta', 30, False, ['Hi', 'Amruta', 2, 2, 3, 3, 4, 4, 5]]\n"
     ]
    }
   ],
   "source": [
    "print('Before changing',nlis5)\n",
    "del(nlis5[2])\n",
    "print('After changing',nlis5)\n",
    "del(nlis5[-1])\n",
    "print('After changing',nlis5)"
   ]
  },
  {
   "cell_type": "code",
   "execution_count": 81,
   "id": "490c49e3",
   "metadata": {},
   "outputs": [
    {
     "name": "stdout",
     "output_type": "stream",
     "text": [
      "Before deleting ['Python', 3.147, 2023, True, False, [1, 1, 2, 2, 3, 3, 4, 4, 5], ('Hello', 'Python', 3.14, 2023)]\n"
     ]
    },
    {
     "ename": "NameError",
     "evalue": "name 'nlis6' is not defined",
     "output_type": "error",
     "traceback": [
      "\u001b[1;31m---------------------------------------------------------------------------\u001b[0m",
      "\u001b[1;31mNameError\u001b[0m                                 Traceback (most recent call last)",
      "\u001b[1;32mC:\\Users\\ROUSHA~1\\AppData\\Local\\Temp/ipykernel_15452/224907469.py\u001b[0m in \u001b[0;36m<module>\u001b[1;34m\u001b[0m\n\u001b[0;32m      2\u001b[0m \u001b[0mprint\u001b[0m\u001b[1;33m(\u001b[0m\u001b[1;34m'Before deleting'\u001b[0m\u001b[1;33m,\u001b[0m\u001b[0mnlis6\u001b[0m\u001b[1;33m)\u001b[0m\u001b[1;33m\u001b[0m\u001b[1;33m\u001b[0m\u001b[0m\n\u001b[0;32m      3\u001b[0m \u001b[1;32mdel\u001b[0m \u001b[1;33m(\u001b[0m\u001b[0mnlis6\u001b[0m\u001b[1;33m)\u001b[0m\u001b[1;33m\u001b[0m\u001b[1;33m\u001b[0m\u001b[0m\n\u001b[1;32m----> 4\u001b[1;33m \u001b[0mprint\u001b[0m\u001b[1;33m(\u001b[0m\u001b[1;34m'After deleting'\u001b[0m\u001b[1;33m,\u001b[0m\u001b[0mnlis6\u001b[0m\u001b[1;33m)\u001b[0m\u001b[1;33m\u001b[0m\u001b[1;33m\u001b[0m\u001b[0m\n\u001b[0m",
      "\u001b[1;31mNameError\u001b[0m: name 'nlis6' is not defined"
     ]
    }
   ],
   "source": [
    "nlis6=['Python',3.147,2023,True, False, [1,1,2,2,3,3,4,4,5],('Hello','Python',3.14,2023)]\n",
    "print('Before deleting',nlis6)\n",
    "del (nlis6)\n",
    "print('After deleting',nlis6)"
   ]
  },
  {
   "cell_type": "code",
   "execution_count": 85,
   "id": "23263b70",
   "metadata": {},
   "outputs": [
    {
     "name": "stdout",
     "output_type": "stream",
     "text": [
      "['Python', 'is', 'a', 'programming', 'language']\n",
      "['A', 'Quick', 'Brown', 'fox', 'jump', 'over', 'the', 'lazy', 'Dog']\n"
     ]
    }
   ],
   "source": [
    "# Split() function # It always gives the output in list.\n",
    "message='Python is a programming language'\n",
    "print(message.split())\n",
    "message1='A Quick Brown fox jump over the lazy Dog'\n",
    "print(message1.split())\n"
   ]
  },
  {
   "cell_type": "code",
   "execution_count": 89,
   "id": "fd7b0023",
   "metadata": {},
   "outputs": [
    {
     "data": {
      "text/plain": [
       "['Amruta']"
      ]
     },
     "execution_count": 89,
     "metadata": {},
     "output_type": "execute_result"
    }
   ],
   "source": [
    "name='Amruta'\n",
    "name.split()"
   ]
  },
  {
   "cell_type": "code",
   "execution_count": 90,
   "id": "98e43c1b",
   "metadata": {},
   "outputs": [
    {
     "data": {
      "text/plain": [
       "['A', 'm', 'r', 'u', 't', 'a']"
      ]
     },
     "execution_count": 90,
     "metadata": {},
     "output_type": "execute_result"
    }
   ],
   "source": [
    "name1='A,m,r,u,t,a'\n",
    "name1.split(\",\")"
   ]
  },
  {
   "cell_type": "code",
   "execution_count": 93,
   "id": "bedc7bd3",
   "metadata": {},
   "outputs": [
    {
     "name": "stdout",
     "output_type": "stream",
     "text": [
      "['A', 'm', 'r', 'u', 't', 'a', ' C', 'h', 'a', 'n', 'd', 'a', 'n', ' P', 'a', 't', 'a', 'd', 'e']\n"
     ]
    }
   ],
   "source": [
    "name2='A,m,r,u,t,a, C,h,a,n,d,a,n, P,a,t,a,d,e'\n",
    "print(name2.split(\",\"))"
   ]
  },
  {
   "cell_type": "markdown",
   "id": "74eb8276",
   "metadata": {},
   "source": [
    "# Basic operations"
   ]
  },
  {
   "cell_type": "code",
   "execution_count": 105,
   "id": "6d741758",
   "metadata": {},
   "outputs": [
    {
     "name": "stdout",
     "output_type": "stream",
     "text": [
      "5\n",
      "6\n",
      "['a', 'b', 'c', 'hello', 'Python', 1, 2, 3, 4, 5, 6]\n",
      "['a', 'b', 'c', 'hello', 'Python', 'a', 'b', 'c', 'hello', 'Python']\n",
      "[1, 2, 3, 4, 5, 6, 1, 2, 3, 4, 5, 6]\n",
      "1\n",
      "2\n",
      "3\n",
      "4\n",
      "5\n",
      "6\n",
      "False\n",
      "True\n",
      "True\n",
      "False\n"
     ]
    }
   ],
   "source": [
    "lis_1=['a','b','c','hello','Python']\n",
    "lis_2=[1,2,3,4,5,6]\n",
    "print(len(lis_1))\n",
    "print(len(lis_2))\n",
    "print(lis_1+lis_2) # Addition of two list into one list.\n",
    "print(lis_1*2)\n",
    "print(lis_2*2)\n",
    "for i in lis_2: #loop\n",
    "    print(i)\n",
    "    \n",
    "print(4 in lis_1)\n",
    "print(4 in lis_2)\n",
    "print(4 not in lis_1)\n",
    "print(4 not in lis_2)"
   ]
  },
  {
   "cell_type": "markdown",
   "id": "c80799c6",
   "metadata": {},
   "source": [
    "# Python List method"
   ]
  },
  {
   "cell_type": "code",
   "execution_count": 7,
   "id": "c5985f4a",
   "metadata": {},
   "outputs": [
    {
     "name": "stdout",
     "output_type": "stream",
     "text": [
      "[10, 20, 30, 40]\n"
     ]
    }
   ],
   "source": [
    "#1. append method #--->It add into the list.\n",
    "a=[10,20,30]\n",
    "a.append(40)\n",
    "print(a)\n",
    "\n"
   ]
  },
  {
   "cell_type": "code",
   "execution_count": 6,
   "id": "f8d8b1bc",
   "metadata": {},
   "outputs": [
    {
     "name": "stdout",
     "output_type": "stream",
     "text": [
      "[10, 20, 30, 40, 50, 50, 50, 50, 50]\n"
     ]
    }
   ],
   "source": [
    "a.extend([50])\n",
    "print(a)"
   ]
  },
  {
   "cell_type": "code",
   "execution_count": 17,
   "id": "e022407c",
   "metadata": {},
   "outputs": [
    {
     "data": {
      "text/plain": [
       "[40, 10, 20, 30, 20, 20, 30, 60, 80, 20, 20, 20, 20, 20, 20]"
      ]
     },
     "execution_count": 17,
     "metadata": {},
     "output_type": "execute_result"
    }
   ],
   "source": [
    "b=[10,20,30,20,20,30,60,80,20,20,20,20,20,20]\n",
    "b.insert(0,40)\n",
    "b"
   ]
  },
  {
   "cell_type": "code",
   "execution_count": 18,
   "id": "2e5f94d1",
   "metadata": {},
   "outputs": [
    {
     "data": {
      "text/plain": [
       "9"
      ]
     },
     "execution_count": 18,
     "metadata": {},
     "output_type": "execute_result"
    }
   ],
   "source": [
    "b.count(20)  #------>It count items in the list."
   ]
  },
  {
   "cell_type": "code",
   "execution_count": 22,
   "id": "a24d7148",
   "metadata": {},
   "outputs": [
    {
     "data": {
      "text/plain": [
       "2"
      ]
     },
     "execution_count": 22,
     "metadata": {},
     "output_type": "execute_result"
    }
   ],
   "source": [
    "b.index(20)"
   ]
  },
  {
   "cell_type": "code",
   "execution_count": 25,
   "id": "8f0d2986",
   "metadata": {},
   "outputs": [
    {
     "data": {
      "text/plain": [
       "[10, 20, 30]"
      ]
     },
     "execution_count": 25,
     "metadata": {},
     "output_type": "execute_result"
    }
   ],
   "source": [
    "c=[10,20,30,40]\n",
    "c.pop(3)  #it removes items from the list.\n",
    "c"
   ]
  },
  {
   "cell_type": "code",
   "execution_count": 31,
   "id": "3afdcd36",
   "metadata": {},
   "outputs": [
    {
     "data": {
      "text/plain": [
       "[4, 1, 14, 13, 20, 30, 20, 10]"
      ]
     },
     "execution_count": 31,
     "metadata": {},
     "output_type": "execute_result"
    }
   ],
   "source": [
    "d=[10,20,30,20,13,14,1,4]\n",
    "d.reverse()\n",
    "d"
   ]
  },
  {
   "cell_type": "code",
   "execution_count": 32,
   "id": "bf643132",
   "metadata": {},
   "outputs": [
    {
     "data": {
      "text/plain": [
       "[1, 4, 10, 13, 14, 20, 20, 30]"
      ]
     },
     "execution_count": 32,
     "metadata": {},
     "output_type": "execute_result"
    }
   ],
   "source": [
    "d.sort()   #It arrange items in the list in sorting.\n",
    "d"
   ]
  },
  {
   "cell_type": "markdown",
   "id": "2a54ff4e",
   "metadata": {},
   "source": [
    "# Input() function"
   ]
  },
  {
   "cell_type": "markdown",
   "id": "293f76c5",
   "metadata": {},
   "source": [
    "* input() function in Python provides a user of program supply inputs to the program at runtime.\n",
    "\n"
   ]
  },
  {
   "cell_type": "code",
   "execution_count": 36,
   "id": "a6b3cf80",
   "metadata": {},
   "outputs": [
    {
     "name": "stdout",
     "output_type": "stream",
     "text": [
      "Enter a string: Hi Amruta\n",
      "The text entered by the user is:  Hi Amruta\n",
      "<class 'str'>\n"
     ]
    }
   ],
   "source": [
    "text=input('Enter a string: ')\n",
    "print('The text entered by the user is: ',text)\n",
    "print(type(text))"
   ]
  },
  {
   "cell_type": "code",
   "execution_count": 37,
   "id": "be3293ff",
   "metadata": {},
   "outputs": [
    {
     "name": "stdout",
     "output_type": "stream",
     "text": [
      "Enter your age: 30\n",
      "Amruta age is:  30\n",
      "<class 'int'>\n"
     ]
    }
   ],
   "source": [
    "age=int(input('Enter your age: '))\n",
    "print('Amruta age is: ',age)\n",
    "print(type(age))"
   ]
  },
  {
   "cell_type": "code",
   "execution_count": 48,
   "id": "60eada75",
   "metadata": {},
   "outputs": [
    {
     "name": "stdout",
     "output_type": "stream",
     "text": [
      "Enter your age: 30\n",
      "Enter Your name: Amruta\n",
      "User's Name is Amruta and age is:  30.0\n",
      "<class 'float'>\n",
      "<class 'str'>\n"
     ]
    }
   ],
   "source": [
    "age1=float(input('Enter your age: '))\n",
    "name=input('Enter Your name: ')\n",
    "print(\"User's Name is\",name,\"and age is: \",age1)\n",
    "print(type(age1))\n",
    "print(type(name))"
   ]
  },
  {
   "cell_type": "markdown",
   "id": "6810d9a8",
   "metadata": {},
   "source": [
    "# eval() functions"
   ]
  },
  {
   "cell_type": "markdown",
   "id": "7678d7d4",
   "metadata": {},
   "source": [
    "* This functions serves the aim of converting a string to an integer or a float"
   ]
  },
  {
   "cell_type": "code",
   "execution_count": 56,
   "id": "df887cfa",
   "metadata": {},
   "outputs": [
    {
     "name": "stdout",
     "output_type": "stream",
     "text": [
      "Sum of the expression is:  101\n",
      "<class 'str'>\n",
      "<class 'int'>\n"
     ]
    }
   ],
   "source": [
    "# eval------------>evaluate\n",
    "expression='100+1'\n",
    "total=eval(expression)\n",
    "print('Sum of the expression is: ',total)\n",
    "print(type(expression))\n",
    "print(type(total))"
   ]
  },
  {
   "cell_type": "markdown",
   "id": "9321b590",
   "metadata": {},
   "source": [
    "# format() functions"
   ]
  },
  {
   "cell_type": "markdown",
   "id": "98c68906",
   "metadata": {},
   "source": [
    "* This function help to formate the output printed on the screen with good look and attractive."
   ]
  },
  {
   "cell_type": "code",
   "execution_count": 62,
   "id": "74a9ffbb",
   "metadata": {},
   "outputs": [
    {
     "name": "stdout",
     "output_type": "stream",
     "text": [
      "Enter your name Amruta\n",
      "Enter your age 30\n",
      "User name is Amruta and age is 30\n"
     ]
    }
   ],
   "source": [
    "a=input('Enter your name ')\n",
    "b=int(input('Enter your age '))\n",
    "print('User name is {} and age is {}'.format(a,b))"
   ]
  },
  {
   "cell_type": "code",
   "execution_count": 63,
   "id": "edefe268",
   "metadata": {},
   "outputs": [
    {
     "name": "stdout",
     "output_type": "stream",
     "text": [
      "Enter any number 30\n",
      "Enter second number 31\n",
      "Sum of 30.0 and 31.0 is 61.0\n"
     ]
    }
   ],
   "source": [
    "a1=float(input('Enter any number '))\n",
    "a2=float(input('Enter second number '))\n",
    "total=a1+a2\n",
    "print('Sum of {} and {} is {}'.format(a1,a2,total))"
   ]
  },
  {
   "cell_type": "markdown",
   "id": "c5534955",
   "metadata": {},
   "source": [
    "# Comparison Operators"
   ]
  },
  {
   "cell_type": "markdown",
   "id": "e4a7d1d6",
   "metadata": {},
   "source": [
    "* The operators such as <,>,<=,>=,==,and != compare the certain two operands and return True or False value.\n",
    "\n",
    "\n"
   ]
  },
  {
   "cell_type": "code",
   "execution_count": 70,
   "id": "eb0d57d4",
   "metadata": {},
   "outputs": [
    {
     "name": "stdout",
     "output_type": "stream",
     "text": [
      "b1>b2 is:  True\n",
      "b1<b2 is:  False\n",
      "b1<=b2 is:  False\n",
      "b1>=b2 is:  True\n",
      "b1==b2 is: False\n",
      "b1!=b2 is:  True\n"
     ]
    }
   ],
   "source": [
    "b1= 3.14\n",
    "b2= 1.618\n",
    "\n",
    "print('b1>b2 is: ',b1>b2)\n",
    "print('b1<b2 is: ',b1<b2)\n",
    "print('b1<=b2 is: ',b1<=b2)\n",
    "print('b1>=b2 is: ',b1>=b2)\n",
    "print('b1==b2 is:',b1==b2)\n",
    "print('b1!=b2 is: ',b1!=b2)"
   ]
  },
  {
   "cell_type": "markdown",
   "id": "9aecf807",
   "metadata": {},
   "source": [
    "# Logical operators"
   ]
  },
  {
   "cell_type": "markdown",
   "id": "f39ebe57",
   "metadata": {},
   "source": [
    "* The operators including and, or , not are utilized to bring two conditions together  and access them. \n",
    "* The output retrns True or False"
   ]
  },
  {
   "cell_type": "code",
   "execution_count": 75,
   "id": "d4744569",
   "metadata": {},
   "outputs": [
    {
     "name": "stdout",
     "output_type": "stream",
     "text": [
      "True\n",
      "False\n",
      "False\n",
      "True\n",
      "False\n"
     ]
    }
   ],
   "source": [
    "a=3.14\n",
    "b=1.618\n",
    "c=12\n",
    "d=3.14\n",
    "\n",
    "print(a>b and c>a)\n",
    "print(b>c and d>a)\n",
    "print(b<c and d>a)\n",
    "print(not a==b)\n",
    "print(not a==d)"
   ]
  },
  {
   "cell_type": "markdown",
   "id": "571f56a7",
   "metadata": {},
   "source": [
    "# Assignment operators"
   ]
  },
  {
   "cell_type": "markdown",
   "id": "0cc9b4e8",
   "metadata": {},
   "source": [
    "* The operators including =,-=,+=,/=,//=,*=,&=,>>= and <<= are employed to evalueate a value to a variable:\n"
   ]
  },
  {
   "cell_type": "code",
   "execution_count": 76,
   "id": "640d4cc5",
   "metadata": {},
   "outputs": [
    {
     "name": "stdout",
     "output_type": "stream",
     "text": [
      "8.14\n"
     ]
    }
   ],
   "source": [
    "x=3.14\n",
    "x+=5\n",
    "print(x)"
   ]
  },
  {
   "cell_type": "code",
   "execution_count": 78,
   "id": "03aa143c",
   "metadata": {},
   "outputs": [
    {
     "name": "stdout",
     "output_type": "stream",
     "text": [
      "-1.8599999999999999\n"
     ]
    }
   ],
   "source": [
    "x=3.14\n",
    "x-=5\n",
    "print(x)"
   ]
  },
  {
   "cell_type": "code",
   "execution_count": 79,
   "id": "b9642643",
   "metadata": {},
   "outputs": [
    {
     "name": "stdout",
     "output_type": "stream",
     "text": [
      "15.700000000000001\n"
     ]
    }
   ],
   "source": [
    "x=3.14\n",
    "x*=5\n",
    "print(x)"
   ]
  },
  {
   "cell_type": "code",
   "execution_count": 84,
   "id": "b24b4859",
   "metadata": {},
   "outputs": [
    {
     "name": "stdout",
     "output_type": "stream",
     "text": [
      "0.628\n"
     ]
    }
   ],
   "source": [
    "x=3.14\n",
    "x/=5\n",
    "print(x)"
   ]
  },
  {
   "cell_type": "code",
   "execution_count": 85,
   "id": "2336031c",
   "metadata": {},
   "outputs": [
    {
     "name": "stdout",
     "output_type": "stream",
     "text": [
      "305.2447761824001\n"
     ]
    }
   ],
   "source": [
    "x=3.14\n",
    "x**=5\n",
    "print(x)"
   ]
  },
  {
   "cell_type": "code",
   "execution_count": 86,
   "id": "47db0335",
   "metadata": {},
   "outputs": [
    {
     "name": "stdout",
     "output_type": "stream",
     "text": [
      "8\n"
     ]
    }
   ],
   "source": [
    "x=2\n",
    "x**=3\n",
    "print(x)"
   ]
  },
  {
   "cell_type": "markdown",
   "id": "bab5d6bf",
   "metadata": {},
   "source": [
    "# Identity operators"
   ]
  },
  {
   "cell_type": "markdown",
   "id": "430166bd",
   "metadata": {},
   "source": [
    "* The operators is or is not are employed to control if the operands or object to the left and right of these\n",
    "* operators are referring to a value stored in the same memory location and return True or False."
   ]
  },
  {
   "cell_type": "code",
   "execution_count": 93,
   "id": "64ba9b65",
   "metadata": {},
   "outputs": [
    {
     "name": "stdout",
     "output_type": "stream",
     "text": [
      "False\n",
      "True\n",
      "False\n",
      "True\n"
     ]
    }
   ],
   "source": [
    "a=3.14\n",
    "b=1.618\n",
    "print(a is b)\n",
    "print(a is not b)\n",
    "msg1='Hello,Python!'\n",
    "msg2='Hello, World'\n",
    "print(msg1 is msg2)\n",
    "print(msg1 is not msg2)"
   ]
  },
  {
   "cell_type": "markdown",
   "id": "b3f48923",
   "metadata": {},
   "source": [
    "# Membership operators "
   ]
  },
  {
   "cell_type": "markdown",
   "id": "4d567c55",
   "metadata": {},
   "source": [
    "* These operators including in and not in are employed to check if the certain value is available in the sequence of values and \n",
    "* return True or False"
   ]
  },
  {
   "cell_type": "code",
   "execution_count": 98,
   "id": "6ac5d88d",
   "metadata": {},
   "outputs": [
    {
     "name": "stdout",
     "output_type": "stream",
     "text": [
      "True\n",
      "False\n",
      "True\n",
      "True\n"
     ]
    }
   ],
   "source": [
    "# take a list.\n",
    "nlis=[4,6,7,8,5,'Hello',(4,5),{'name':'Python'},{1,2,3},[1,2,3]]\n",
    "print(5 in nlis)\n",
    "print(4 not in nlis)\n",
    "print((4,5) in nlis)\n",
    "print(9 not in nlis)"
   ]
  },
  {
   "cell_type": "code",
   "execution_count": null,
   "id": "d5e2a018",
   "metadata": {},
   "outputs": [],
   "source": []
  }
 ],
 "metadata": {
  "kernelspec": {
   "display_name": "Python 3 (ipykernel)",
   "language": "python",
   "name": "python3"
  },
  "language_info": {
   "codemirror_mode": {
    "name": "ipython",
    "version": 3
   },
   "file_extension": ".py",
   "mimetype": "text/x-python",
   "name": "python",
   "nbconvert_exporter": "python",
   "pygments_lexer": "ipython3",
   "version": "3.9.7"
  }
 },
 "nbformat": 4,
 "nbformat_minor": 5
}
