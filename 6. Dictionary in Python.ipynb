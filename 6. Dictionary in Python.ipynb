{
 "cells": [
  {
   "cell_type": "markdown",
   "id": "bf190bf5",
   "metadata": {},
   "source": [
    "# 6.Dictionaries in python"
   ]
  },
  {
   "cell_type": "markdown",
   "id": "2b92f7b9",
   "metadata": {},
   "source": [
    "* Dictionaries are used to store data values in Key:Value pair.\n",
    "* A dictionary is a collection which is ordered, Changeable or mutable and do not allow duplicates.\n",
    "* Dictionary items are ordered, changeable and does not allow duplicates.\n",
    "* Dictionary items are presented in key:value pairs and can be referred to by using the key name.\n",
    "* Dictionaries are changeable, meaning that we can change, add or remove items after the dictionary has \n",
    "* been created.\n",
    "* Dicionaries cannot have two items with the same key.\n",
    "* A dictionary can nested and can contains anotehr dictionary.\n",
    "\n",
    "\n",
    "                    * Keys-----------------------> Values\n",
    "                    * 'name'---------------------> 'Bob'\n",
    "                    * 'age'----------------------> 25\n",
    "                    * 'job'----------------------> 'Engineer'\n",
    "                    * 'city'---------------------> 'New York'\n",
    "                    * 'e-mail'-------------------> 'bob@web.com'"
   ]
  },
  {
   "cell_type": "code",
   "execution_count": 3,
   "id": "55dd9f0f",
   "metadata": {},
   "outputs": [
    {
     "data": {
      "text/plain": [
       "{'key_1': 3.147,\n",
       " 'key_2': 1.618,\n",
       " 'key_3': True,\n",
       " 'key_4': [3.14, 1.618],\n",
       " 'key_5': (3.14, 1.618),\n",
       " 'key_6': 2023,\n",
       " (3.14, 1.618): 'pi and ratio'}"
      ]
     },
     "execution_count": 3,
     "metadata": {},
     "output_type": "execute_result"
    }
   ],
   "source": [
    "# Take a sample dictionary\n",
    "\n",
    "sample_dict={'key_1':3.147,'key_2':1.618,\n",
    "            'key_3':True,'key_4':[3.14,1.618],\n",
    "            'key_5':(3.14,1.618),'key_6':2023,(3.14,1.618):'pi and ratio'}\n",
    "sample_dict\n"
   ]
  },
  {
   "cell_type": "code",
   "execution_count": 4,
   "id": "748b160b",
   "metadata": {},
   "outputs": [
    {
     "name": "stdout",
     "output_type": "stream",
     "text": [
      "<class 'dict'>\n"
     ]
    }
   ],
   "source": [
    "print(type(sample_dict))"
   ]
  },
  {
   "cell_type": "code",
   "execution_count": 7,
   "id": "574e93b4",
   "metadata": {},
   "outputs": [
    {
     "name": "stdout",
     "output_type": "stream",
     "text": [
      "3.147\n",
      "[3.14, 1.618]\n",
      "1.618\n"
     ]
    }
   ],
   "source": [
    "# Accessing to the value using the key.\n",
    "\n",
    "print(sample_dict['key_1'])\n",
    "print(sample_dict['key_4'])\n",
    "print(sample_dict['key_2'])"
   ]
  },
  {
   "cell_type": "code",
   "execution_count": 8,
   "id": "0a8a75ff",
   "metadata": {},
   "outputs": [
    {
     "data": {
      "text/plain": [
       "{'name': 'Amruta',\n",
       " 'age': 30,\n",
       " 'Contact No.': 123456789,\n",
       " 'E-mail id': 'amruta@gmail.com',\n",
       " 'city': 'pune',\n",
       " 'zip code': 411014,\n",
       " 'Status': 'Married'}"
      ]
     },
     "execution_count": 8,
     "metadata": {},
     "output_type": "execute_result"
    }
   ],
   "source": [
    "sample_dict2={'name':'Amruta',\n",
    "             'age':30,\n",
    "             'Contact No.':123456789,\n",
    "             'E-mail id':'amruta@gmail.com',\n",
    "             'city':'pune',\n",
    "             'zip code':411014,\n",
    "             'Status':'Married'}\n",
    "sample_dict2"
   ]
  },
  {
   "cell_type": "code",
   "execution_count": 9,
   "id": "fae3b045",
   "metadata": {},
   "outputs": [
    {
     "data": {
      "text/plain": [
       "dict_keys(['name', 'age', 'Contact No.', 'E-mail id', 'city', 'zip code', 'Status'])"
      ]
     },
     "execution_count": 9,
     "metadata": {},
     "output_type": "execute_result"
    }
   ],
   "source": [
    "# What are the keys in the dictionary.\n",
    "\n",
    "sample_dict2.keys()"
   ]
  },
  {
   "cell_type": "code",
   "execution_count": 10,
   "id": "1fed5612",
   "metadata": {},
   "outputs": [
    {
     "data": {
      "text/plain": [
       "dict_values(['Amruta', 30, 123456789, 'amruta@gmail.com', 'pune', 411014, 'Married'])"
      ]
     },
     "execution_count": 10,
     "metadata": {},
     "output_type": "execute_result"
    }
   ],
   "source": [
    "# What are the values in the dictionary.\n",
    "\n",
    "sample_dict2.values()"
   ]
  },
  {
   "cell_type": "code",
   "execution_count": 11,
   "id": "3e11ef7d",
   "metadata": {},
   "outputs": [
    {
     "data": {
      "text/plain": [
       "{'name': 'Amruta',\n",
       " 'age': 30,\n",
       " 'Contact No.': 123456789,\n",
       " 'E-mail id': 'amruta@gmail.com',\n",
       " 'city': 'pune',\n",
       " 'zip code': 411014,\n",
       " 'Status': 'Un-married'}"
      ]
     },
     "execution_count": 11,
     "metadata": {},
     "output_type": "execute_result"
    }
   ],
   "source": [
    "sample_dict2['Status']='Un-married'\n",
    "sample_dict2"
   ]
  },
  {
   "cell_type": "code",
   "execution_count": 14,
   "id": "5e2d4805",
   "metadata": {},
   "outputs": [
    {
     "data": {
      "text/plain": [
       "{'name': 'Amruta Chandan Patade',\n",
       " 'age': 30,\n",
       " 'Contact No.': 123456789,\n",
       " 'E-mail id': 'amruta@gmail.com',\n",
       " 'city': 'pune',\n",
       " 'zip code': 411014,\n",
       " 'Status': 'Un-married',\n",
       " 'Amruta': 'Amruta Chandan Patade'}"
      ]
     },
     "execution_count": 14,
     "metadata": {},
     "output_type": "execute_result"
    }
   ],
   "source": [
    "sample_dict2['name']='Amruta Chandan Patade'\n",
    "sample_dict2"
   ]
  },
  {
   "cell_type": "code",
   "execution_count": 15,
   "id": "9ee93427",
   "metadata": {},
   "outputs": [
    {
     "data": {
      "text/plain": [
       "{'Soap': 'Pears', 'Biscuit': 'Top', 'Shampoo': 'Dove', 'Hair-oil': 'Coconut'}"
      ]
     },
     "execution_count": 15,
     "metadata": {},
     "output_type": "execute_result"
    }
   ],
   "source": [
    "company={'Soap':'Pears',\n",
    "        'Biscuit':'Top',\n",
    "        'Shampoo':'Dove',\n",
    "        'Hair-oil':'Coconut'}\n",
    "company"
   ]
  },
  {
   "cell_type": "code",
   "execution_count": 16,
   "id": "108d0db9",
   "metadata": {},
   "outputs": [
    {
     "ename": "NameError",
     "evalue": "name 'company' is not defined",
     "output_type": "error",
     "traceback": [
      "\u001b[1;31m---------------------------------------------------------------------------\u001b[0m",
      "\u001b[1;31mNameError\u001b[0m                                 Traceback (most recent call last)",
      "\u001b[1;32mC:\\Users\\ROUSHA~1\\AppData\\Local\\Temp/ipykernel_14820/617228617.py\u001b[0m in \u001b[0;36m<module>\u001b[1;34m\u001b[0m\n\u001b[0;32m      1\u001b[0m \u001b[1;32mdel\u001b[0m \u001b[0mcompany\u001b[0m\u001b[1;33m\u001b[0m\u001b[1;33m\u001b[0m\u001b[0m\n\u001b[1;32m----> 2\u001b[1;33m \u001b[0mprint\u001b[0m\u001b[1;33m(\u001b[0m\u001b[0mcompany\u001b[0m\u001b[1;33m)\u001b[0m\u001b[1;33m\u001b[0m\u001b[1;33m\u001b[0m\u001b[0m\n\u001b[0m",
      "\u001b[1;31mNameError\u001b[0m: name 'company' is not defined"
     ]
    }
   ],
   "source": [
    "del company\n",
    "print(company)"
   ]
  },
  {
   "cell_type": "markdown",
   "id": "b23d4e12",
   "metadata": {},
   "source": [
    "# Verification using in or not in"
   ]
  },
  {
   "cell_type": "code",
   "execution_count": 20,
   "id": "950296ea",
   "metadata": {},
   "outputs": [
    {
     "name": "stdout",
     "output_type": "stream",
     "text": [
      "True\n",
      "False\n"
     ]
    }
   ],
   "source": [
    "print('Amruta' in sample_dict2) # It is present in samaple_dict2 that's by it is True\n",
    "print('Roushan' in sample_dict2)# It is not present in sample_dcit2 that's by it is False."
   ]
  },
  {
   "cell_type": "markdown",
   "id": "e9870074",
   "metadata": {},
   "source": [
    "# dict() function"
   ]
  },
  {
   "cell_type": "markdown",
   "id": "ff5fad0c",
   "metadata": {},
   "source": [
    "* This function is used to create dictionary"
   ]
  },
  {
   "cell_type": "code",
   "execution_count": 22,
   "id": "4395f8a6",
   "metadata": {},
   "outputs": [
    {
     "name": "stdout",
     "output_type": "stream",
     "text": [
      "{'family': 'music', 'type': 'pop', 'year': 2023, 'name': 'happy new year'}\n",
      "<class 'dict'>\n"
     ]
    }
   ],
   "source": [
    "dict_sample=dict(family='music',type='pop',year=2023,name='happy new year')\n",
    "print(dict_sample)\n",
    "print(type(dict_sample))"
   ]
  },
  {
   "cell_type": "code",
   "execution_count": 23,
   "id": "2f5a84f8",
   "metadata": {},
   "outputs": [
    {
     "data": {
      "text/plain": [
       "dict_keys(['family', 'type', 'year', 'name'])"
      ]
     },
     "execution_count": 23,
     "metadata": {},
     "output_type": "execute_result"
    }
   ],
   "source": [
    "dict_sample.keys()"
   ]
  },
  {
   "cell_type": "code",
   "execution_count": 25,
   "id": "512d474c",
   "metadata": {},
   "outputs": [
    {
     "data": {
      "text/plain": [
       "dict_values(['music', 'pop', 2023, 'happy new year'])"
      ]
     },
     "execution_count": 25,
     "metadata": {},
     "output_type": "execute_result"
    }
   ],
   "source": [
    "dict_sample.values()"
   ]
  },
  {
   "cell_type": "code",
   "execution_count": 27,
   "id": "8ea027fd",
   "metadata": {},
   "outputs": [
    {
     "name": "stdout",
     "output_type": "stream",
     "text": [
      "music\n",
      "happy new year\n"
     ]
    }
   ],
   "source": [
    "print(dict_sample['family'])\n",
    "print(dict_sample['name'])"
   ]
  },
  {
   "cell_type": "code",
   "execution_count": null,
   "id": "f782d39c",
   "metadata": {},
   "outputs": [],
   "source": []
  }
 ],
 "metadata": {
  "kernelspec": {
   "display_name": "Python 3 (ipykernel)",
   "language": "python",
   "name": "python3"
  },
  "language_info": {
   "codemirror_mode": {
    "name": "ipython",
    "version": 3
   },
   "file_extension": ".py",
   "mimetype": "text/x-python",
   "name": "python",
   "nbconvert_exporter": "python",
   "pygments_lexer": "ipython3",
   "version": "3.9.7"
  }
 },
 "nbformat": 4,
 "nbformat_minor": 5
}
