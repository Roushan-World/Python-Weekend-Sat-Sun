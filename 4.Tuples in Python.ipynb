{
 "cells": [
  {
   "cell_type": "markdown",
   "id": "f7f0c1ad",
   "metadata": {},
   "source": [
    "# 4.Tuples in Python"
   ]
  },
  {
   "cell_type": "markdown",
   "id": "df9b90f0",
   "metadata": {},
   "source": [
    "* Tuples are immutable list and cannnot be changed in any way once it is created."
   ]
  },
  {
   "cell_type": "markdown",
   "id": "c784b7a7",
   "metadata": {},
   "source": [
    "* Tuples are defined in the same way as lists.\n",
    "* They enclosed within parenthesis and not within square braces.\n",
    "* Tuples are ordered, indexed collections of data.\n",
    "* Tuple also has the same structure where comma separate the values.\n",
    "* Tuples can store duplicate values.\n",
    "* Tuples allow you to store several data items including string, integer, float in one variable."
   ]
  },
  {
   "cell_type": "code",
   "execution_count": 42,
   "id": "fdea4604",
   "metadata": {},
   "outputs": [
    {
     "name": "stdout",
     "output_type": "stream",
     "text": [
      "('Hello', 'Python', 3.14, 1.618, True, False, 32, 100, [1, 2, 3], {'A': 'Amruta', 'B': 8}, (0, 1))\n",
      "<class 'tuple'>\n"
     ]
    }
   ],
   "source": [
    "# Take a tuple\n",
    "\n",
    "tuple_1=('Hello','Python',3.14,1.618,True, False,32,100,[1,2,3],{'A':'Amruta','B':8},(0,1))\n",
    "print(tuple_1)\n",
    "print(type(tuple_1))"
   ]
  },
  {
   "cell_type": "code",
   "execution_count": 43,
   "id": "0fc6fcf4",
   "metadata": {},
   "outputs": [
    {
     "name": "stdout",
     "output_type": "stream",
     "text": [
      "11\n"
     ]
    }
   ],
   "source": [
    "print(len(tuple_1))"
   ]
  },
  {
   "cell_type": "code",
   "execution_count": 44,
   "id": "a9bbca87",
   "metadata": {},
   "outputs": [
    {
     "name": "stdout",
     "output_type": "stream",
     "text": [
      "Hello\n",
      "Python\n",
      "3.14\n",
      "{'A': 'Amruta', 'B': 8}\n",
      "(0, 1)\n"
     ]
    }
   ],
   "source": [
    "#Printing the each value ina tuple using positive and negative indexing.\n",
    "print(tuple_1[0])\n",
    "print(tuple_1[1])\n",
    "print(tuple_1[2])\n",
    "print(tuple_1[9])\n",
    "print(tuple_1[10])"
   ]
  },
  {
   "cell_type": "code",
   "execution_count": 45,
   "id": "2da4d92f",
   "metadata": {},
   "outputs": [
    {
     "name": "stdout",
     "output_type": "stream",
     "text": [
      "Amruta\n",
      "8\n",
      "<class 'dict'>\n",
      "<class 'tuple'>\n",
      "3\n"
     ]
    }
   ],
   "source": [
    "print(tuple_1[9]['A'])\n",
    "print(tuple_1[9]['B'])\n",
    "print(type(tuple_1[9]))\n",
    "print(type(tuple_1[10]))\n",
    "print(tuple_1[8][2])"
   ]
  },
  {
   "cell_type": "markdown",
   "id": "50b6e329",
   "metadata": {},
   "source": [
    "# Concatenate tuples"
   ]
  },
  {
   "cell_type": "code",
   "execution_count": 49,
   "id": "fa229111",
   "metadata": {},
   "outputs": [
    {
     "name": "stdout",
     "output_type": "stream",
     "text": [
      "('Hello', 'Python', 3.14, 1.618, True, False, 32, 100, [1, 2, 3], {'A': 'Amruta', 'B': 8}, (0, 1), 'Hi', 'Amruta', 2023)\n",
      "False\n",
      "('Hello', 'Python', 3.14, 1.618, True, False, 32, 100, [1, 2, 3], {'A': 'Amruta', 'B': 8}, (0, 1), 'Hi', 'Amruta', 2023)\n"
     ]
    }
   ],
   "source": [
    "tuple_2=tuple_1+('Hi','Amruta',2023)\n",
    "print(tuple_2)\n",
    "print(tuple_2[0]=='Amruta')\n",
    "print(tuple_2)\n"
   ]
  },
  {
   "cell_type": "code",
   "execution_count": 41,
   "id": "b023c95a",
   "metadata": {},
   "outputs": [
    {
     "name": "stdout",
     "output_type": "stream",
     "text": [
      "False\n"
     ]
    },
    {
     "data": {
      "text/plain": [
       "list"
      ]
     },
     "execution_count": 41,
     "metadata": {},
     "output_type": "execute_result"
    }
   ],
   "source": [
    "ab=(['Hello'],2023)\n",
    "print(ab[0]=='Amruta')\n",
    "type(ab[0])"
   ]
  },
  {
   "cell_type": "code",
   "execution_count": 40,
   "id": "48303ee7",
   "metadata": {},
   "outputs": [
    {
     "data": {
      "text/plain": [
       "['Amruta', 2023]"
      ]
     },
     "execution_count": 40,
     "metadata": {},
     "output_type": "execute_result"
    }
   ],
   "source": [
    "ab=['Hello',2023]\n",
    "ab[0]='Amruta'\n",
    "ab"
   ]
  },
  {
   "cell_type": "code",
   "execution_count": 50,
   "id": "a6724698",
   "metadata": {},
   "outputs": [
    {
     "data": {
      "text/plain": [
       "('Hello',\n",
       " 'Python',\n",
       " 3.14,\n",
       " 1.618,\n",
       " True,\n",
       " False,\n",
       " 32,\n",
       " 100,\n",
       " [1, 2, 3],\n",
       " {'A': 'Amruta', 'B': 8},\n",
       " (0, 1))"
      ]
     },
     "execution_count": 50,
     "metadata": {},
     "output_type": "execute_result"
    }
   ],
   "source": [
    "tuple_3=('Hello','Python',3.14,1.618,True, False,32,100,[1,2,3],{'A':'Amruta','B':8},(0,1))\n",
    "tuple_3"
   ]
  },
  {
   "cell_type": "code",
   "execution_count": 53,
   "id": "c69ec414",
   "metadata": {},
   "outputs": [
    {
     "data": {
      "text/plain": [
       "(True, 32, [1, 2, 3])"
      ]
     },
     "execution_count": 53,
     "metadata": {},
     "output_type": "execute_result"
    }
   ],
   "source": [
    "tuple_3[4:9:2]  #printing step value"
   ]
  },
  {
   "cell_type": "code",
   "execution_count": 57,
   "id": "fdabb0a3",
   "metadata": {},
   "outputs": [
    {
     "ename": "TypeError",
     "evalue": "'tuple' object does not support item assignment",
     "output_type": "error",
     "traceback": [
      "\u001b[1;31m---------------------------------------------------------------------------\u001b[0m",
      "\u001b[1;31mTypeError\u001b[0m                                 Traceback (most recent call last)",
      "\u001b[1;32mC:\\Users\\ROUSHA~1\\AppData\\Local\\Temp/ipykernel_42600/2529980014.py\u001b[0m in \u001b[0;36m<module>\u001b[1;34m\u001b[0m\n\u001b[0;32m      1\u001b[0m \u001b[0mtuple_4\u001b[0m\u001b[1;33m=\u001b[0m\u001b[1;33m(\u001b[0m\u001b[1;36m1\u001b[0m\u001b[1;33m,\u001b[0m\u001b[1;36m3\u001b[0m\u001b[1;33m,\u001b[0m\u001b[1;36m5\u001b[0m\u001b[1;33m,\u001b[0m\u001b[1;36m7\u001b[0m\u001b[1;33m,\u001b[0m\u001b[1;36m8\u001b[0m\u001b[1;33m)\u001b[0m\u001b[1;33m\u001b[0m\u001b[1;33m\u001b[0m\u001b[0m\n\u001b[1;32m----> 2\u001b[1;33m \u001b[0mtuple_4\u001b[0m\u001b[1;33m[\u001b[0m\u001b[1;36m0\u001b[0m\u001b[1;33m]\u001b[0m\u001b[1;33m=\u001b[0m\u001b[1;34m\"Hello\"\u001b[0m\u001b[1;33m\u001b[0m\u001b[1;33m\u001b[0m\u001b[0m\n\u001b[0m\u001b[0;32m      3\u001b[0m \u001b[0mtuple_4\u001b[0m\u001b[1;33m\u001b[0m\u001b[1;33m\u001b[0m\u001b[0m\n",
      "\u001b[1;31mTypeError\u001b[0m: 'tuple' object does not support item assignment"
     ]
    }
   ],
   "source": [
    "tuple_4=(1,3,5,7,8)\n",
    "tuple_4[0]=\"Hello\"\n",
    "tuple_4"
   ]
  },
  {
   "cell_type": "code",
   "execution_count": 59,
   "id": "b9a786df",
   "metadata": {},
   "outputs": [
    {
     "name": "stdout",
     "output_type": "stream",
     "text": [
      "Before Deleting (1, 3, 5, 7, 8)\n"
     ]
    },
    {
     "ename": "NameError",
     "evalue": "name 'tuple4' is not defined",
     "output_type": "error",
     "traceback": [
      "\u001b[1;31m---------------------------------------------------------------------------\u001b[0m",
      "\u001b[1;31mNameError\u001b[0m                                 Traceback (most recent call last)",
      "\u001b[1;32mC:\\Users\\ROUSHA~1\\AppData\\Local\\Temp/ipykernel_42600/1820626841.py\u001b[0m in \u001b[0;36m<module>\u001b[1;34m\u001b[0m\n\u001b[0;32m      2\u001b[0m \u001b[0mprint\u001b[0m\u001b[1;33m(\u001b[0m\u001b[1;34m'Before Deleting'\u001b[0m\u001b[1;33m,\u001b[0m\u001b[0mtuple4\u001b[0m\u001b[1;33m)\u001b[0m\u001b[1;33m\u001b[0m\u001b[1;33m\u001b[0m\u001b[0m\n\u001b[0;32m      3\u001b[0m \u001b[1;32mdel\u001b[0m \u001b[0mtuple4\u001b[0m\u001b[1;33m\u001b[0m\u001b[1;33m\u001b[0m\u001b[0m\n\u001b[1;32m----> 4\u001b[1;33m \u001b[0mprint\u001b[0m\u001b[1;33m(\u001b[0m\u001b[1;34m'After Deleting'\u001b[0m\u001b[1;33m,\u001b[0m\u001b[0mtuple4\u001b[0m\u001b[1;33m)\u001b[0m\u001b[1;33m\u001b[0m\u001b[1;33m\u001b[0m\u001b[0m\n\u001b[0m",
      "\u001b[1;31mNameError\u001b[0m: name 'tuple4' is not defined"
     ]
    }
   ],
   "source": [
    "tuple4=(1,3,5,7,8)\n",
    "print('Before Deleting',tuple4)\n",
    "del tuple4\n",
    "print('After Deleting',tuple4)"
   ]
  },
  {
   "cell_type": "markdown",
   "id": "32e19f92",
   "metadata": {},
   "source": [
    "# Sets in Python\n"
   ]
  },
  {
   "cell_type": "code",
   "execution_count": null,
   "id": "e08a7496",
   "metadata": {},
   "outputs": [],
   "source": []
  }
 ],
 "metadata": {
  "kernelspec": {
   "display_name": "Python 3 (ipykernel)",
   "language": "python",
   "name": "python3"
  },
  "language_info": {
   "codemirror_mode": {
    "name": "ipython",
    "version": 3
   },
   "file_extension": ".py",
   "mimetype": "text/x-python",
   "name": "python",
   "nbconvert_exporter": "python",
   "pygments_lexer": "ipython3",
   "version": "3.9.7"
  }
 },
 "nbformat": 4,
 "nbformat_minor": 5
}
