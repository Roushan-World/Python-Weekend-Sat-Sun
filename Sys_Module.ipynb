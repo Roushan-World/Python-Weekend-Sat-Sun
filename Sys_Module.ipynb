{
 "cells": [
  {
   "cell_type": "markdown",
   "id": "45d666e9",
   "metadata": {},
   "source": [
    "# Sys_Module:-\n",
    "\n",
    " Sys Module Basically provides functions and method of python interpreter. So, just Basically Responsible for controlling and intracting with interpreter.\n",
    " \n",
    " i.e- Any information about system and python interpreter."
   ]
  },
  {
   "cell_type": "code",
   "execution_count": 2,
   "id": "c00c1546",
   "metadata": {},
   "outputs": [
    {
     "name": "stdout",
     "output_type": "stream",
     "text": [
      "3.9.13 (main, Aug 25 2022, 23:51:50) [MSC v.1916 64 bit (AMD64)]\n"
     ]
    }
   ],
   "source": [
    "import sys\n",
    "\n",
    "print(sys.version)\n"
   ]
  },
  {
   "cell_type": "code",
   "execution_count": 3,
   "id": "4b13e14f",
   "metadata": {},
   "outputs": [
    {
     "name": "stdout",
     "output_type": "stream",
     "text": [
      "['C:\\\\Users\\\\Admin\\\\anaconda3\\\\lib\\\\site-packages\\\\ipykernel_launcher.py', '-f', 'C:\\\\Users\\\\Admin\\\\AppData\\\\Roaming\\\\jupyter\\\\runtime\\\\kernel-acb2d6ba-c7a8-4ec2-be04-acfa40bdd6ed.json']\n"
     ]
    }
   ],
   "source": [
    "print(sys.argv) #----> argv is a list which contains command line argument which pass the scripts."
   ]
  },
  {
   "cell_type": "code",
   "execution_count": 4,
   "id": "b733eb85",
   "metadata": {},
   "outputs": [],
   "source": [
    "# Os_Module- Operating System Module.---> It must be pritty clear that module is used to intract to the operating system.\n",
    "\n",
    "# Main work of Os Module is.\n",
    "# 1. Create Folder.\n",
    "# 2. Remove Folder.\n",
    "# 3. Move Folder.\n",
    "# 4. Something change in your working directory."
   ]
  },
  {
   "cell_type": "code",
   "execution_count": 7,
   "id": "5de1b39c",
   "metadata": {},
   "outputs": [
    {
     "name": "stdout",
     "output_type": "stream",
     "text": [
      "C:\\Users\\Admin\\Python_Weekend_Sat_Sun\n"
     ]
    }
   ],
   "source": [
    "# Command of Os_module\n",
    "\n",
    "import os\n",
    "\n",
    "print(os.getcwd())  #----------> Current working directory."
   ]
  },
  {
   "cell_type": "code",
   "execution_count": 9,
   "id": "502dcb46",
   "metadata": {},
   "outputs": [
    {
     "name": "stdout",
     "output_type": "stream",
     "text": [
      "E:\\aayushi\n"
     ]
    }
   ],
   "source": [
    "os.chdir('E:\\\\aayushi')   #---> Change Directory.\n",
    "\n",
    "\n",
    "print(os.getcwd())"
   ]
  },
  {
   "cell_type": "code",
   "execution_count": 11,
   "id": "e3ef1e45",
   "metadata": {},
   "outputs": [
    {
     "name": "stdout",
     "output_type": "stream",
     "text": [
      "D:\\\n"
     ]
    }
   ],
   "source": [
    "os.chdir('D:')  \n",
    "print(os.getcwd())"
   ]
  },
  {
   "cell_type": "code",
   "execution_count": 13,
   "id": "82b0866d",
   "metadata": {},
   "outputs": [
    {
     "name": "stdout",
     "output_type": "stream",
     "text": [
      "D:\\\n"
     ]
    }
   ],
   "source": [
    "print(os.getcwd())"
   ]
  },
  {
   "cell_type": "code",
   "execution_count": 17,
   "id": "20834904",
   "metadata": {},
   "outputs": [
    {
     "ename": "FileExistsError",
     "evalue": "[WinError 183] Cannot create a file when that file already exists: 'D:\\\\Amruta'",
     "output_type": "error",
     "traceback": [
      "\u001b[1;31m---------------------------------------------------------------------------\u001b[0m",
      "\u001b[1;31mFileExistsError\u001b[0m                           Traceback (most recent call last)",
      "\u001b[1;32m~\\AppData\\Local\\Temp\\ipykernel_9440\\1573164173.py\u001b[0m in \u001b[0;36m<module>\u001b[1;34m\u001b[0m\n\u001b[1;32m----> 1\u001b[1;33m \u001b[0mos\u001b[0m\u001b[1;33m.\u001b[0m\u001b[0mmkdir\u001b[0m\u001b[1;33m(\u001b[0m\u001b[1;34m'D:\\\\Amruta'\u001b[0m\u001b[1;33m)\u001b[0m\u001b[1;33m\u001b[0m\u001b[1;33m\u001b[0m\u001b[0m\n\u001b[0m",
      "\u001b[1;31mFileExistsError\u001b[0m: [WinError 183] Cannot create a file when that file already exists: 'D:\\\\Amruta'"
     ]
    }
   ],
   "source": [
    "os.mkdir('D:\\\\Amruta')   #---> make directory.\n"
   ]
  },
  {
   "cell_type": "code",
   "execution_count": 18,
   "id": "855a09e0",
   "metadata": {},
   "outputs": [],
   "source": [
    "# Delete or remove directory.\n",
    "\n",
    "os.rmdir('D:\\\\Amruta')"
   ]
  },
  {
   "cell_type": "code",
   "execution_count": null,
   "id": "5349062c",
   "metadata": {},
   "outputs": [],
   "source": []
  }
 ],
 "metadata": {
  "kernelspec": {
   "display_name": "Python 3 (ipykernel)",
   "language": "python",
   "name": "python3"
  },
  "language_info": {
   "codemirror_mode": {
    "name": "ipython",
    "version": 3
   },
   "file_extension": ".py",
   "mimetype": "text/x-python",
   "name": "python",
   "nbconvert_exporter": "python",
   "pygments_lexer": "ipython3",
   "version": "3.9.13"
  }
 },
 "nbformat": 4,
 "nbformat_minor": 5
}
