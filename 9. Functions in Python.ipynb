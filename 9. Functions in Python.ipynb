{
 "cells": [
  {
   "cell_type": "markdown",
   "id": "41e9d4de",
   "metadata": {},
   "source": [
    "# 9. Functions in Python"
   ]
  },
  {
   "cell_type": "markdown",
   "id": "57946555",
   "metadata": {},
   "source": [
    "* In Python, a function is a group of related statements that performs a specific task.\n",
    "* Functions help break our program into smaller and modular chunks. * As our program grow larger and larger\n",
    "functions make it more organized and manageable.\n",
    "* Furthermore, it avoids repetition and makes the code reusable.\n",
    "* There are two types of functions.\n",
    "            * Pre-defined functions\n",
    "            * User-defined functions.\n",
    "            \n",
    "* In Python, a function id defined using the def keyword followed by the function name and parentheses().\n",
    "* Keyword def that marks the start of the function hearder.\n",
    "* A function name to uniquely identify the function.\n",
    "* Function naming follow the same rules of writing identifiers in Python.\n",
    "* Parameters (arguments) through which we pass values to a function. They are optional.\n",
    "* A colon(:) mark the end of the function header.\n",
    "* one or more valid python statement that make up the function body.\n",
    "* An optional return statement to return a value of the function."
   ]
  },
  {
   "cell_type": "code",
   "execution_count": 1,
   "id": "d7a035c2",
   "metadata": {},
   "outputs": [
    {
     "data": {
      "text/plain": [
       "(-3, 13, 40)"
      ]
     },
     "execution_count": 1,
     "metadata": {},
     "output_type": "execute_result"
    }
   ],
   "source": [
    "def process(x):\n",
    "    y1=x-8\n",
    "    y2=x+8\n",
    "    y3=x*8\n",
    "    \n",
    "    return y1,y2,y3\n",
    "\n",
    "process(5) #-----------parameters"
   ]
  },
  {
   "cell_type": "code",
   "execution_count": 6,
   "id": "a9140d7e",
   "metadata": {},
   "outputs": [
    {
     "name": "stdout",
     "output_type": "stream",
     "text": [
      "If you make the above operations with 10, the result will be 2,18,80\n"
     ]
    },
    {
     "data": {
      "text/plain": [
       "(2, 18, 80)"
      ]
     },
     "execution_count": 6,
     "metadata": {},
     "output_type": "execute_result"
    }
   ],
   "source": [
    "def process(x):\n",
    "    y1=x-8\n",
    "    y2=x+8\n",
    "    y3=x*8\n",
    "    \n",
    "    print(f'If you make the above operations with {x}, the result will be {y1},{y2},{y3}')\n",
    "    return y1,y2,y3\n",
    "\n",
    "process(10) #-----------parameters"
   ]
  },
  {
   "cell_type": "code",
   "execution_count": 3,
   "id": "8907ef67",
   "metadata": {},
   "outputs": [
    {
     "data": {
      "text/plain": [
       "(42, 58, 400)"
      ]
     },
     "execution_count": 3,
     "metadata": {},
     "output_type": "execute_result"
    }
   ],
   "source": [
    "process(50)"
   ]
  },
  {
   "cell_type": "code",
   "execution_count": 4,
   "id": "7996d6b1",
   "metadata": {},
   "outputs": [
    {
     "data": {
      "text/plain": [
       "(92, 108, 800)"
      ]
     },
     "execution_count": 4,
     "metadata": {},
     "output_type": "execute_result"
    }
   ],
   "source": [
    "process(100)"
   ]
  },
  {
   "cell_type": "code",
   "execution_count": 7,
   "id": "1142e778",
   "metadata": {},
   "outputs": [
    {
     "name": "stdout",
     "output_type": "stream",
     "text": [
      "Help on function process in module __main__:\n",
      "\n",
      "process(x)\n",
      "\n"
     ]
    }
   ],
   "source": [
    "help(process)"
   ]
  },
  {
   "cell_type": "code",
   "execution_count": 8,
   "id": "de112a3d",
   "metadata": {},
   "outputs": [
    {
     "name": "stdout",
     "output_type": "stream",
     "text": [
      "Hello world\n"
     ]
    }
   ],
   "source": [
    "print('Hello world')"
   ]
  },
  {
   "cell_type": "code",
   "execution_count": 9,
   "id": "2888dd74",
   "metadata": {},
   "outputs": [
    {
     "name": "stdout",
     "output_type": "stream",
     "text": [
      "If you make the above operations with 20, the result will be 12,28,160\n"
     ]
    },
    {
     "data": {
      "text/plain": [
       "(12, 28, 160)"
      ]
     },
     "execution_count": 9,
     "metadata": {},
     "output_type": "execute_result"
    }
   ],
   "source": [
    "process(20)"
   ]
  },
  {
   "cell_type": "code",
   "execution_count": null,
   "id": "1312d64f",
   "metadata": {},
   "outputs": [],
   "source": []
  }
 ],
 "metadata": {
  "kernelspec": {
   "display_name": "Python 3 (ipykernel)",
   "language": "python",
   "name": "python3"
  },
  "language_info": {
   "codemirror_mode": {
    "name": "ipython",
    "version": 3
   },
   "file_extension": ".py",
   "mimetype": "text/x-python",
   "name": "python",
   "nbconvert_exporter": "python",
   "pygments_lexer": "ipython3",
   "version": "3.9.7"
  }
 },
 "nbformat": 4,
 "nbformat_minor": 5
}
