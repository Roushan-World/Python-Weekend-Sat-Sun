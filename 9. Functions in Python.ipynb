{
 "cells": [
  {
   "cell_type": "markdown",
   "id": "41e9d4de",
   "metadata": {},
   "source": [
    "# 9. Functions in Python"
   ]
  },
  {
   "cell_type": "markdown",
   "id": "57946555",
   "metadata": {},
   "source": [
    "* In Python, a function is a group of related statements that performs a specific task.\n",
    "* Functions help break our program into smaller and modular chunks. * As our program grow larger and larger\n",
    "functions make it more organized and manageable.\n",
    "* Furthermore, it avoids repetition and makes the code reusable.\n",
    "* There are two types of functions.\n",
    "            * Pre-defined functions\n",
    "            * User-defined functions.\n",
    "            \n",
    "* In Python, a function id defined using the def keyword followed by the function name and parentheses().\n",
    "* Keyword def that marks the start of the function hearder.\n",
    "* A function name to uniquely identify the function.\n",
    "* Function naming follow the same rules of writing identifiers in Python.\n",
    "* Parameters (arguments) through which we pass values to a function. They are optional.\n",
    "* A colon(:) mark the end of the function header.\n",
    "* one or more valid python statement that make up the function body.\n",
    "* An optional return statement to return a value of the function."
   ]
  },
  {
   "cell_type": "code",
   "execution_count": 1,
   "id": "d7a035c2",
   "metadata": {},
   "outputs": [
    {
     "data": {
      "text/plain": [
       "(-3, 13, 40)"
      ]
     },
     "execution_count": 1,
     "metadata": {},
     "output_type": "execute_result"
    }
   ],
   "source": [
    "def process(x):\n",
    "    y1=x-8\n",
    "    y2=x+8\n",
    "    y3=x*8\n",
    "    \n",
    "    return y1,y2,y3\n",
    "\n",
    "process(5) #-----------parameters"
   ]
  },
  {
   "cell_type": "code",
   "execution_count": 1,
   "id": "a9140d7e",
   "metadata": {},
   "outputs": [
    {
     "name": "stdout",
     "output_type": "stream",
     "text": [
      "If you make the above operations with 10, the result will be 2,18,80\n"
     ]
    },
    {
     "data": {
      "text/plain": [
       "(2, 18, 80)"
      ]
     },
     "execution_count": 1,
     "metadata": {},
     "output_type": "execute_result"
    }
   ],
   "source": [
    "def process(x):\n",
    "    y1=x-8\n",
    "    y2=x+8\n",
    "    y3=x*8\n",
    "    \n",
    "    print(f'If you make the above operations with {x}, the result will be {y1},{y2},{y3}')\n",
    "    return y1,y2,y3\n",
    "\n",
    "process(10) #-----------parameters"
   ]
  },
  {
   "cell_type": "code",
   "execution_count": 2,
   "id": "8907ef67",
   "metadata": {},
   "outputs": [
    {
     "name": "stdout",
     "output_type": "stream",
     "text": [
      "If you make the above operations with 50, the result will be 42,58,400\n"
     ]
    },
    {
     "data": {
      "text/plain": [
       "(42, 58, 400)"
      ]
     },
     "execution_count": 2,
     "metadata": {},
     "output_type": "execute_result"
    }
   ],
   "source": [
    "process(50)"
   ]
  },
  {
   "cell_type": "code",
   "execution_count": 3,
   "id": "7996d6b1",
   "metadata": {},
   "outputs": [
    {
     "name": "stdout",
     "output_type": "stream",
     "text": [
      "If you make the above operations with 100, the result will be 92,108,800\n"
     ]
    },
    {
     "data": {
      "text/plain": [
       "(92, 108, 800)"
      ]
     },
     "execution_count": 3,
     "metadata": {},
     "output_type": "execute_result"
    }
   ],
   "source": [
    "process(100)"
   ]
  },
  {
   "cell_type": "code",
   "execution_count": 4,
   "id": "1142e778",
   "metadata": {},
   "outputs": [
    {
     "name": "stdout",
     "output_type": "stream",
     "text": [
      "Help on function process in module __main__:\n",
      "\n",
      "process(x)\n",
      "\n"
     ]
    }
   ],
   "source": [
    "help(process)"
   ]
  },
  {
   "cell_type": "code",
   "execution_count": 5,
   "id": "de112a3d",
   "metadata": {},
   "outputs": [
    {
     "name": "stdout",
     "output_type": "stream",
     "text": [
      "Hello world\n"
     ]
    }
   ],
   "source": [
    "print('Hello world')"
   ]
  },
  {
   "cell_type": "code",
   "execution_count": 6,
   "id": "2888dd74",
   "metadata": {},
   "outputs": [
    {
     "name": "stdout",
     "output_type": "stream",
     "text": [
      "If you make the above operations with 20, the result will be 12,28,160\n"
     ]
    },
    {
     "data": {
      "text/plain": [
       "(12, 28, 160)"
      ]
     },
     "execution_count": 6,
     "metadata": {},
     "output_type": "execute_result"
    }
   ],
   "source": [
    "process(20)"
   ]
  },
  {
   "cell_type": "code",
   "execution_count": 7,
   "id": "1312d64f",
   "metadata": {},
   "outputs": [
    {
     "name": "stdout",
     "output_type": "stream",
     "text": [
      "If you make the above operations with -10, the result will be -18,-2,-80\n"
     ]
    },
    {
     "data": {
      "text/plain": [
       "(-18, -2, -80)"
      ]
     },
     "execution_count": 7,
     "metadata": {},
     "output_type": "execute_result"
    }
   ],
   "source": [
    "process(-10)"
   ]
  },
  {
   "cell_type": "code",
   "execution_count": 8,
   "id": "e187406e",
   "metadata": {},
   "outputs": [
    {
     "data": {
      "text/plain": [
       "(17, 0, 20)"
      ]
     },
     "execution_count": 8,
     "metadata": {},
     "output_type": "execute_result"
    }
   ],
   "source": [
    "def amruta(y):\n",
    "    z=y+7\n",
    "    z1=y-10\n",
    "    z2=y*2\n",
    "    \n",
    "    return z,z1,z2\n",
    "\n",
    "amruta(10)\n",
    "    "
   ]
  },
  {
   "cell_type": "code",
   "execution_count": 9,
   "id": "115aab17",
   "metadata": {},
   "outputs": [
    {
     "data": {
      "text/plain": [
       "(27, 10, 40)"
      ]
     },
     "execution_count": 9,
     "metadata": {},
     "output_type": "execute_result"
    }
   ],
   "source": [
    "amruta(20)"
   ]
  },
  {
   "cell_type": "code",
   "execution_count": 10,
   "id": "18a792fd",
   "metadata": {},
   "outputs": [
    {
     "data": {
      "text/plain": [
       "(-3, -20, -20)"
      ]
     },
     "execution_count": 10,
     "metadata": {},
     "output_type": "execute_result"
    }
   ],
   "source": [
    "amruta(-10)"
   ]
  },
  {
   "cell_type": "code",
   "execution_count": 11,
   "id": "943c3e6d",
   "metadata": {},
   "outputs": [
    {
     "name": "stdout",
     "output_type": "stream",
     "text": [
      "Help on function amruta in module __main__:\n",
      "\n",
      "amruta(y)\n",
      "\n"
     ]
    }
   ],
   "source": [
    "help(amruta)"
   ]
  },
  {
   "cell_type": "code",
   "execution_count": 33,
   "id": "cfd42b05",
   "metadata": {},
   "outputs": [
    {
     "data": {
      "text/plain": [
       "function"
      ]
     },
     "execution_count": 33,
     "metadata": {},
     "output_type": "execute_result"
    }
   ],
   "source": [
    "type(amruta)"
   ]
  },
  {
   "cell_type": "code",
   "execution_count": 13,
   "id": "0dc520ce",
   "metadata": {},
   "outputs": [
    {
     "data": {
      "text/plain": [
       "(37, 20, 60)"
      ]
     },
     "execution_count": 13,
     "metadata": {},
     "output_type": "execute_result"
    }
   ],
   "source": [
    "amruta(30)"
   ]
  },
  {
   "cell_type": "code",
   "execution_count": 25,
   "id": "d0b02978",
   "metadata": {},
   "outputs": [
    {
     "data": {
      "text/plain": [
       "200.06666666666666"
      ]
     },
     "execution_count": 25,
     "metadata": {},
     "output_type": "execute_result"
    }
   ],
   "source": [
    "# Define a function with multiple elements\n",
    "\n",
    "def multi1(x=3,y=7):\n",
    "    z=2*x+5/y+60\n",
    "    \n",
    "    return z\n",
    "\n",
    "\n",
    "multi1(70,75)"
   ]
  },
  {
   "cell_type": "code",
   "execution_count": 32,
   "id": "ea415e5e",
   "metadata": {},
   "outputs": [
    {
     "data": {
      "text/plain": [
       "(87, 70, 160)"
      ]
     },
     "execution_count": 32,
     "metadata": {},
     "output_type": "execute_result"
    }
   ],
   "source": [
    "amruta(80)"
   ]
  },
  {
   "cell_type": "code",
   "execution_count": 34,
   "id": "ebd81168",
   "metadata": {},
   "outputs": [
    {
     "data": {
      "text/plain": [
       "66.71428571428571"
      ]
     },
     "execution_count": 34,
     "metadata": {},
     "output_type": "execute_result"
    }
   ],
   "source": [
    "multi1()"
   ]
  },
  {
   "cell_type": "markdown",
   "id": "4b3924d8",
   "metadata": {},
   "source": [
    "# Variables"
   ]
  },
  {
   "cell_type": "markdown",
   "id": "0e132bb7",
   "metadata": {},
   "source": [
    "    * The input to a funnction is called a formal parameter.\n",
    "    * A variable that is declared inside a function is called a local variable.\n",
    "   * The parameter only exists within the function(i.e. the point where the function starts and stops.)\n",
    "        * A variable that is declare outside a function definition is a global varibale, and its value is accessible and  modifiable thoughout the progtam."
   ]
  },
  {
   "cell_type": "code",
   "execution_count": 38,
   "id": "daba0051",
   "metadata": {},
   "outputs": [
    {
     "data": {
      "text/plain": [
       "(17, 0, 20)"
      ]
     },
     "execution_count": 38,
     "metadata": {},
     "output_type": "execute_result"
    }
   ],
   "source": [
    "i=0\n",
    "xyz=1\n",
    "\n",
    "def amruta(y):\n",
    "    z=y+7\n",
    "    z1=y-10\n",
    "    z2=y*2\n",
    "    \n",
    "    return z,z1,z2\n",
    "\n",
    "amruta(10)"
   ]
  },
  {
   "cell_type": "code",
   "execution_count": 41,
   "id": "e1d3b821",
   "metadata": {},
   "outputs": [
    {
     "name": "stdout",
     "output_type": "stream",
     "text": [
      "If you make the above operations with 10, the results will be 35.08052.\n"
     ]
    },
    {
     "data": {
      "text/plain": [
       "35.08052"
      ]
     },
     "execution_count": 41,
     "metadata": {},
     "output_type": "execute_result"
    }
   ],
   "source": [
    "# Define a function\n",
    "def function(x):\n",
    "    \n",
    "    #Take a local variable\n",
    "    y=3.14\n",
    "    z= 3*x+1.618*y\n",
    "    print(f'If you make the above operations with {x}, the results will be {z}.')\n",
    "    return z\n",
    "\n",
    "function(10)"
   ]
  },
  {
   "cell_type": "code",
   "execution_count": 42,
   "id": "dbf55c3a",
   "metadata": {},
   "outputs": [
    {
     "name": "stdout",
     "output_type": "stream",
     "text": [
      "If you make the above operations with 3.14, the results will be 14.500520000000002.\n",
      "14.500520000000002\n"
     ]
    }
   ],
   "source": [
    "# It starts the global variable\n",
    "a=3.14\n",
    "# call function and return function\n",
    "y= function(a)\n",
    "print(y)"
   ]
  },
  {
   "cell_type": "code",
   "execution_count": 43,
   "id": "7af86b65",
   "metadata": {},
   "outputs": [
    {
     "name": "stdout",
     "output_type": "stream",
     "text": [
      "If you make the above operations with 4.0, the results will be 17.08052.\n"
     ]
    },
    {
     "data": {
      "text/plain": [
       "17.08052"
      ]
     },
     "execution_count": 43,
     "metadata": {},
     "output_type": "execute_result"
    }
   ],
   "source": [
    "# Enter a number directly as a parameter\n",
    "\n",
    "function(4.0)"
   ]
  },
  {
   "cell_type": "code",
   "execution_count": 45,
   "id": "ae6cf34a",
   "metadata": {},
   "outputs": [
    {
     "name": "stdout",
     "output_type": "stream",
     "text": [
      "Hello world\n",
      "Hello Amruta\n"
     ]
    }
   ],
   "source": [
    "def msg1():\n",
    "    print('Hello world')\n",
    "    \n",
    "    \n",
    "def msg2():\n",
    "    print('Hello Amruta')\n",
    "    \n",
    "msg1()\n",
    "msg2()"
   ]
  },
  {
   "cell_type": "code",
   "execution_count": 46,
   "id": "b29c8d15",
   "metadata": {},
   "outputs": [
    {
     "name": "stdout",
     "output_type": "stream",
     "text": [
      "Hello Amruta\n"
     ]
    }
   ],
   "source": [
    "msg2()"
   ]
  },
  {
   "cell_type": "code",
   "execution_count": 48,
   "id": "377bf007",
   "metadata": {},
   "outputs": [
    {
     "data": {
      "text/plain": [
       "'Hello Amruta'"
      ]
     },
     "execution_count": 48,
     "metadata": {},
     "output_type": "execute_result"
    }
   ],
   "source": [
    "def string(x,y):\n",
    "    return x+y\n",
    "\n",
    "\n",
    "string('Hello ','Amruta')"
   ]
  },
  {
   "cell_type": "code",
   "execution_count": 49,
   "id": "69dda341",
   "metadata": {},
   "outputs": [
    {
     "data": {
      "text/plain": [
       "'Hi Roushan'"
      ]
     },
     "execution_count": 49,
     "metadata": {},
     "output_type": "execute_result"
    }
   ],
   "source": [
    "string('Hi ','Roushan')"
   ]
  },
  {
   "cell_type": "code",
   "execution_count": 11,
   "id": "93f6dcad",
   "metadata": {},
   "outputs": [
    {
     "data": {
      "text/plain": [
       "'Hi Amruta You are Welcome!'"
      ]
     },
     "execution_count": 11,
     "metadata": {},
     "output_type": "execute_result"
    }
   ],
   "source": [
    "x=('Hi Amruta ')\n",
    "y=('You are Welcome!')\n",
    "\n",
    "def msg3():\n",
    "    return x+y\n",
    "\n",
    "\n",
    "msg3()"
   ]
  },
  {
   "cell_type": "markdown",
   "id": "10c817de",
   "metadata": {},
   "source": [
    "# Global Variable"
   ]
  },
  {
   "cell_type": "markdown",
   "id": "3e845130",
   "metadata": {},
   "source": [
    "    * Variable that are created outside of a function (as in all of the examples above) are known as global variable.\n",
    "    * Global variables can be used by everyone, both inside of functions and outside."
   ]
  },
  {
   "cell_type": "code",
   "execution_count": 12,
   "id": "e1e15b9a",
   "metadata": {},
   "outputs": [
    {
     "name": "stdout",
     "output_type": "stream",
     "text": [
      "Python is programming language.\n",
      "Python is programming language.\n"
     ]
    },
    {
     "data": {
      "text/plain": [
       "'The output gives NameError, since all variables in the function are local variables, so variable assignment is not presisten outsid eht'"
      ]
     },
     "execution_count": 12,
     "metadata": {},
     "output_type": "execute_result"
    }
   ],
   "source": [
    "# Define a function for global variable\n",
    "\n",
    "language1='Python'\n",
    "\n",
    "def lang(language1):\n",
    "    global_var=language1\n",
    "    print(f'{language1} is programming language.')\n",
    "    \n",
    "lang(language1)\n",
    "lang(global_var)\n",
    "\n",
    "'''The output gives NameError, since all variables in the function are local variables, so variable assignment is not presisten outsid eht'''"
   ]
  },
  {
   "cell_type": "code",
   "execution_count": 8,
   "id": "2568b466",
   "metadata": {},
   "outputs": [
    {
     "name": "stdout",
     "output_type": "stream",
     "text": [
      "JavaScript is a programming language.\n",
      "Python is a programming language.\n"
     ]
    }
   ],
   "source": [
    "language='JavaScript'\n",
    "\n",
    "\n",
    "def lang1(language):\n",
    "    global global_var\n",
    "    global_var='Python'\n",
    "    print(f'{language} is a programming language.')\n",
    "    \n",
    "lang1(language)\n",
    "lang1(global_var)"
   ]
  },
  {
   "cell_type": "markdown",
   "id": "3b50b0cf",
   "metadata": {},
   "source": [
    "# Variables in Functions"
   ]
  },
  {
   "cell_type": "markdown",
   "id": "87718bf9",
   "metadata": {},
   "source": [
    " * The scope of a variable is the part of the program to which that variable is accessible.\n",
    " \n",
    " * Variables declared outside of all function definitions can be accessed from anywhere in the program.\n",
    " \n",
    " * Consequently, such variable are said to have global scope and are known as global variables."
   ]
  },
  {
   "cell_type": "code",
   "execution_count": 20,
   "id": "41f853e8",
   "metadata": {},
   "outputs": [
    {
     "name": "stdout",
     "output_type": "stream",
     "text": [
      "[0.577, 2.718, 3.14, 1.618, 1729, 6, 37]\n",
      "1780.053\n",
      "0.577\n",
      "1729\n",
      "7\n"
     ]
    }
   ],
   "source": [
    "# Define a function regarding the addition of elements into a list.\n",
    "\n",
    "def amruta(nlist):\n",
    "    nlist.append(3.14)\n",
    "    \n",
    "    nlist.append(1.618)\n",
    "    nlist.append(1729)\n",
    "    nlist.append(6)\n",
    "    nlist.append(37)\n",
    "    \n",
    "    \n",
    "my_list=[0.577,2.718]\n",
    "\n",
    "amruta(my_list)\n",
    "print(my_list)\n",
    "print(sum(my_list))\n",
    "print(min(my_list))\n",
    "print(max(my_list))\n",
    "print(len(my_list))"
   ]
  },
  {
   "cell_type": "code",
   "execution_count": 25,
   "id": "4390944b",
   "metadata": {},
   "outputs": [
    {
     "name": "stdout",
     "output_type": "stream",
     "text": [
      "The following function returns the sum of two parameters.\n",
      "5.318\n"
     ]
    }
   ],
   "source": [
    "# Define a function\n",
    "\n",
    "def addition(x,y):\n",
    "    '''The following function returns the sum of two parameters.'''\n",
    "    \n",
    "    z=x+y\n",
    "    return z\n",
    "\n",
    "\n",
    "print(addition.__doc__)\n",
    "print(addition(3.14,2.178))  \n",
    "    "
   ]
  },
  {
   "cell_type": "code",
   "execution_count": 28,
   "id": "86c7cd3a",
   "metadata": {},
   "outputs": [
    {
     "name": "stdout",
     "output_type": "stream",
     "text": [
      "The following function returns the multiple of two parameters.\n",
      "18\n"
     ]
    }
   ],
   "source": [
    "def multiply(a,b):\n",
    "    '''The following function returns the multiple of two parameters.'''\n",
    "    \n",
    "    c=a*b\n",
    "    return c\n",
    "print(multiply.__doc__)\n",
    "print(multiply(3,6))"
   ]
  },
  {
   "cell_type": "code",
   "execution_count": 31,
   "id": "af4437c0",
   "metadata": {},
   "outputs": [
    {
     "name": "stdout",
     "output_type": "stream",
     "text": [
      "The following function returns the multiple of two parameters.\n",
      "72\n"
     ]
    }
   ],
   "source": [
    "print(multiply.__doc__)\n",
    "print(multiply(6,12))"
   ]
  },
  {
   "cell_type": "code",
   "execution_count": 33,
   "id": "d02f5acf",
   "metadata": {},
   "outputs": [
    {
     "name": "stdout",
     "output_type": "stream",
     "text": [
      "The value is 720\n"
     ]
    }
   ],
   "source": [
    "# Calculating the factorial of a certain number;\n",
    "\n",
    "def factorial(number):\n",
    "    if number==0:\n",
    "        return 1\n",
    "    else:\n",
    "        return number*factorial(number-1)\n",
    "    \n",
    "print('The value is',factorial(6))\n",
    "    \n",
    "    "
   ]
  },
  {
   "cell_type": "code",
   "execution_count": 34,
   "id": "c12f28ed",
   "metadata": {},
   "outputs": [
    {
     "data": {
      "text/plain": [
       "40320"
      ]
     },
     "execution_count": 34,
     "metadata": {},
     "output_type": "execute_result"
    }
   ],
   "source": [
    "factorial(8)"
   ]
  },
  {
   "cell_type": "code",
   "execution_count": 35,
   "id": "1d65160d",
   "metadata": {},
   "outputs": [
    {
     "data": {
      "text/plain": [
       "6"
      ]
     },
     "execution_count": 35,
     "metadata": {},
     "output_type": "execute_result"
    }
   ],
   "source": [
    "factorial(3)"
   ]
  },
  {
   "cell_type": "code",
   "execution_count": 48,
   "id": "ace809a6",
   "metadata": {},
   "outputs": [
    {
     "name": "stdout",
     "output_type": "stream",
     "text": [
      "The total of first ten numbers is:  465\n"
     ]
    }
   ],
   "source": [
    "# Define a function that gives the total of the first ten numbers.\n",
    "\n",
    "def total_number(number,sum=0):\n",
    "    \n",
    "    if number==31:\n",
    "        return sum\n",
    "    \n",
    "    else:\n",
    "        return total_number(number+1,sum+number)\n",
    "    \n",
    "    \n",
    "print('The total of first ten numbers is: ', total_number(1))"
   ]
  },
  {
   "cell_type": "code",
   "execution_count": null,
   "id": "951eac49",
   "metadata": {},
   "outputs": [],
   "source": []
  }
 ],
 "metadata": {
  "kernelspec": {
   "display_name": "Python 3 (ipykernel)",
   "language": "python",
   "name": "python3"
  },
  "language_info": {
   "codemirror_mode": {
    "name": "ipython",
    "version": 3
   },
   "file_extension": ".py",
   "mimetype": "text/x-python",
   "name": "python",
   "nbconvert_exporter": "python",
   "pygments_lexer": "ipython3",
   "version": "3.9.7"
  }
 },
 "nbformat": 4,
 "nbformat_minor": 5
}
