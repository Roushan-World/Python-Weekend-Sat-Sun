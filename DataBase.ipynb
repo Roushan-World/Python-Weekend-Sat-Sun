{
 "cells": [
  {
   "cell_type": "markdown",
   "id": "7d71a5d1",
   "metadata": {},
   "source": [
    "# Q. What is SQL?\n",
    "\n",
    " Ans: SQL( Structure Query Language) is programming language used ot interact with DataBase."
   ]
  },
  {
   "cell_type": "markdown",
   "id": "021eda4d",
   "metadata": {},
   "source": [
    "# Application of SQL:\n",
    "\n",
    " * CRUD (Create, Read(select), Update, Delete) Statement in SQL"
   ]
  },
  {
   "cell_type": "markdown",
   "id": "cb547f7d",
   "metadata": {},
   "source": [
    "# Relational and Non Relation Datebase.\n",
    "\n",
    "1. RELATIONAL DATABASE\n",
    "_______________________\n",
    "\n",
    " * 1. Data Stored in Table.\n",
    " * 2. These databases have fixed or static or predefined schema.\n",
    " * 3. Low performance with huge volume of data.\n",
    " * 4. Ex- Postgres, MySQL, MS-SQL Server Etc.\n",
    " \n",
    " \n",
    "2. NON-RELATIONAL DATABASE\n",
    "___________________________\n",
    "\n",
    " * 1. Data stored are either key-value paris, documents-based, graph database or wide column Database.\n",
    " * 2. They have a dynamic schema.\n",
    " * 3. Easily work with huge amount of data.\n",
    " * 4. MongoDB, Cassandra, HBase Etc."
   ]
  },
  {
   "cell_type": "markdown",
   "id": "3bb91c30",
   "metadata": {},
   "source": [
    "# SQL Commands:-\n",
    "\n",
    " * There are three types of sql commands.\n",
    " 1. DDL (Data, Definition Language): Create, Alter and Drop.\n",
    " 2. DML (Data, Manipulation Language): Select, Insert, Update and Delete.\n",
    " 3. DCL (Data, Control Language): Grand and Revoke permission to users."
   ]
  },
  {
   "cell_type": "markdown",
   "id": "56a7117a",
   "metadata": {},
   "source": [
    "# What is DataBase?\n",
    "\n",
    "Ans: Data Base is a system that allow user ot sotre and organise data."
   ]
  },
  {
   "cell_type": "markdown",
   "id": "1e965bb5",
   "metadata": {},
   "source": [
    "# What is difference B/W Excel and DataBase?\n",
    "--------------------------------------------------------------------------\n",
    "\n",
    "\n",
    "1. Excel\n",
    " * Easy to use untrained person can work.\n",
    " * Data stored less data.\n",
    " * Good for one-time analysis, Quick charts.\n",
    " * No data integrity due to manual operation.\n",
    " * Low search/Filter capability.\n",
    " \n",
    " \n",
    "2. DataBase.\n",
    "\n",
    " * 1. Trainded person can work.\n",
    " * 2. Stores large amount of data.\n",
    " * 3. Can automate task.\n",
    " * 4. High data integrity.\n",
    " * 5. High Search/Filter capability."
   ]
  },
  {
   "cell_type": "markdown",
   "id": "4e518c04",
   "metadata": {},
   "source": [
    "# SQL Database:\n",
    "\n",
    "\n",
    " 1. Tera Data\n",
    " 2. Microsoft SQL Server.\n",
    " 3. SQL\n",
    " 4. Amazon RDS\n",
    " 5. Oracle DataBase\n",
    " 6. MySQL\n",
    " 7. Snow Flake\n",
    " 8. Postgres\n",
    " 9. Sap S/4 Hana etc. There are same Query"
   ]
  },
  {
   "cell_type": "markdown",
   "id": "e47ce061",
   "metadata": {},
   "source": [
    "# What are the types of database?\n",
    "\n",
    " * Database types of column defines what the value the column can store in table.\n",
    " * Defined while creating tables in databases.\n",
    " * Data types mainly classified into three Categories are used.\n",
    " \n",
    " \n",
    "  1. Sting: char, varchar etc.\n",
    "  2. Numeric: int, float, bool etc.\n",
    "  3. Date and time: date, datetime etc.\n",
    "  \n"
   ]
  },
  {
   "cell_type": "markdown",
   "id": "2e0e4de0",
   "metadata": {},
   "source": [
    " * PRIMARY KEY AND FOREIGN KEY\n",
    " ------------------------------\n",
    " \n",
    "PRIMARY KEY(PK) :\n",
    " * A Primary key is a unique column we set in a table to easily identify and locate in queries.\n",
    " * A table can have only one primary key, which should be unique and NOT NULL.\n",
    " \n",
    " \n",
    "FOREIGN KEYS(FK):\n",
    " * A Foreign key is a column used to like two or more tables together.\n",
    " * A table can have any number of foreign keys, can constain duplicate and NOT NULL values.\n",
    " \n",
    " ______________________________________________________________________________\n",
    " \n",
    " \n",
    " "
   ]
  },
  {
   "cell_type": "markdown",
   "id": "057a65b1",
   "metadata": {},
   "source": [
    "# Consttaints(Rule)\n",
    "\n",
    "\n",
    "RULE:\n",
    " * Constraints are used to specify rule for data in table.\n",
    " * This ensures the accuracy and realiability of the data in the tables.\n",
    " * Constraints can specify when the table is created with the CREATE TABLE statement, or and after the table is created with ALTER TABLE statement.\n",
    " \n",
    "_______________________________________________________________________________\n",
    "\n",
    " * Syntax\n",
    " \n",
    " * CREATE TABLE table_name(\n",
    " \n",
    "   column1 datatype constraints,\n",
    "   \n",
    "   column2 datatype constraints,\n",
    "   \n",
    "   column3 datatype constraints................\n",
    "   \n",
    ");\n",
    "\n"
   ]
  },
  {
   "cell_type": "markdown",
   "id": "3c8b9528",
   "metadata": {},
   "source": [
    "# Constraints (Rule)\n",
    "\n",
    "\n",
    "1. NOT NULL: Ensure that a column can not have a Null value.\n",
    "2. UNIQUE: Ensure that all value in a column are different.\n",
    "3. PRIMARY KEY: A combination of a NOT NULL and UNIQUE.\n",
    "4. FOREIGN KEY: Prevents action that would destroy links between tables(used to link multiple tables together.) It can duplicates.\n",
    "5. CHECK: Ensure that the values in a column satisfies a specific conditions.\n",
    "6. DEFAULT: Sets a default Values for a column if no values  is specified.\n",
    "7. CREATE INDEX: Used to create and retrieve data from the databse very quickly."
   ]
  },
  {
   "cell_type": "markdown",
   "id": "4e92fc28",
   "metadata": {},
   "source": [
    "# Create Table:\n",
    "\n",
    " * The CREATE TABLE statement is used to create table in database.\n",
    " \n",
    " * Syntax:\n",
    " CREATE TABLE table_name\n",
    " (\n",
    "  column_1 datatype constraints,\n",
    "  column_2 datatype constraints,\n",
    "  column_3 datatype constraints,\n",
    "  )\n",
    "  \n",
    "* CREATE TABLE customer\n",
    "(\n",
    "    \"custID\", int8 PRIMARY KEY,\n",
    "    \n",
    "    \"cust_Name\", varchar NOT NULL,\n",
    "    \n",
    "    \"age\", int(3) NOT NULL,\n",
    "    \n",
    "    \"salary\", numeric\n",
    ");\n",
    "\n",
    "\n",
    " * SELECT * FROM customer.\n",
    " "
   ]
  },
  {
   "cell_type": "markdown",
   "id": "71b4319b",
   "metadata": {},
   "source": [
    "# INSERT VALUES IN TABLE:\n",
    "\n",
    " * The INERT INTO statement is used to insert new records in a table.\n",
    " \n",
    "     * Syntax:\n",
    "                 INSERT INTO table_name\n",
    "     (\"Column_1\",\"Column_2\",\"Column_3\",\"Column_4\"...................\"Column_n\")\n",
    "     \n",
    "     VALUES\n",
    "     (value_1,value2,value3,value4................................value_n)\n",
    "     \n",
    "     \n",
    "* Example\n",
    "\n",
    "INSERT INTO customer\n",
    "\n",
    "(\"custID\",\"cust_Name\",\"age\",\"city\", \"salary\")\n",
    "\n",
    "\n",
    "VALUES\n",
    "\n",
    "(1,'Sam',26,'Delhi',9000)\n",
    "(2,'Ram',20,'Bangalore',11000)\n",
    "(3,'Carrun',21,'Mumbai',8000)\n",
    "\n",
    "\n",
    "* Check\n",
    "\n",
    "    * SELECT * FROM customer."
   ]
  },
  {
   "cell_type": "code",
   "execution_count": null,
   "id": "43098f2a",
   "metadata": {},
   "outputs": [],
   "source": []
  }
 ],
 "metadata": {
  "kernelspec": {
   "display_name": "Python 3 (ipykernel)",
   "language": "python",
   "name": "python3"
  },
  "language_info": {
   "codemirror_mode": {
    "name": "ipython",
    "version": 3
   },
   "file_extension": ".py",
   "mimetype": "text/x-python",
   "name": "python",
   "nbconvert_exporter": "python",
   "pygments_lexer": "ipython3",
   "version": "3.9.13"
  }
 },
 "nbformat": 4,
 "nbformat_minor": 5
}
