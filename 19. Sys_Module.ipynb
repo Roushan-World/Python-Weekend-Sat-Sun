{
 "cells": [
  {
   "cell_type": "markdown",
   "id": "45d666e9",
   "metadata": {},
   "source": [
    "# Sys_Module:-\n",
    "\n",
    " Sys Module Basically provides functions and method of python interpreter. So, just Basically Responsible for controlling and intracting with interpreter.\n",
    " \n",
    " i.e- Any information about system and python interpreter."
   ]
  },
  {
   "cell_type": "code",
   "execution_count": 2,
   "id": "c00c1546",
   "metadata": {},
   "outputs": [
    {
     "name": "stdout",
     "output_type": "stream",
     "text": [
      "3.9.13 (main, Aug 25 2022, 23:51:50) [MSC v.1916 64 bit (AMD64)]\n"
     ]
    }
   ],
   "source": [
    "import sys\n",
    "\n",
    "print(sys.version)\n"
   ]
  },
  {
   "cell_type": "code",
   "execution_count": 3,
   "id": "4b13e14f",
   "metadata": {},
   "outputs": [
    {
     "name": "stdout",
     "output_type": "stream",
     "text": [
      "['C:\\\\Users\\\\Admin\\\\anaconda3\\\\lib\\\\site-packages\\\\ipykernel_launcher.py', '-f', 'C:\\\\Users\\\\Admin\\\\AppData\\\\Roaming\\\\jupyter\\\\runtime\\\\kernel-acb2d6ba-c7a8-4ec2-be04-acfa40bdd6ed.json']\n"
     ]
    }
   ],
   "source": [
    "print(sys.argv) #----> argv is a list which contains command line argument which pass the scripts."
   ]
  },
  {
   "cell_type": "markdown",
   "id": "4d5807b1",
   "metadata": {},
   "source": [
    "# Os_Module"
   ]
  },
  {
   "cell_type": "code",
   "execution_count": 4,
   "id": "b733eb85",
   "metadata": {},
   "outputs": [],
   "source": [
    "# Os_Module- Operating System Module.---> It must be pritty clear that module is used to intract to the operating system.\n",
    "\n",
    "# Main work of Os Module is.\n",
    "# 1. Create Folder.\n",
    "# 2. Remove Folder.\n",
    "# 3. Move Folder.\n",
    "# 4. Something change in your working directory."
   ]
  },
  {
   "cell_type": "code",
   "execution_count": 1,
   "id": "5de1b39c",
   "metadata": {},
   "outputs": [
    {
     "name": "stdout",
     "output_type": "stream",
     "text": [
      "C:\\Users\\Admin\\Python_Weekend_Sat_Sun\n"
     ]
    }
   ],
   "source": [
    "# Command of Os_module\n",
    "\n",
    "import os\n",
    "\n",
    "print(os.getcwd())  #----------> Current working directory."
   ]
  },
  {
   "cell_type": "code",
   "execution_count": 2,
   "id": "502dcb46",
   "metadata": {},
   "outputs": [
    {
     "name": "stdout",
     "output_type": "stream",
     "text": [
      "E:\\aayushi\n"
     ]
    }
   ],
   "source": [
    "os.chdir('E:\\\\aayushi')   #---> Change Directory.\n",
    "\n",
    "\n",
    "print(os.getcwd())"
   ]
  },
  {
   "cell_type": "code",
   "execution_count": 3,
   "id": "e3ef1e45",
   "metadata": {},
   "outputs": [
    {
     "name": "stdout",
     "output_type": "stream",
     "text": [
      "D:\\\n"
     ]
    }
   ],
   "source": [
    "os.chdir('D:')  \n",
    "print(os.getcwd())"
   ]
  },
  {
   "cell_type": "code",
   "execution_count": 4,
   "id": "82b0866d",
   "metadata": {},
   "outputs": [
    {
     "name": "stdout",
     "output_type": "stream",
     "text": [
      "D:\\\n"
     ]
    }
   ],
   "source": [
    "print(os.getcwd())"
   ]
  },
  {
   "cell_type": "code",
   "execution_count": 5,
   "id": "20834904",
   "metadata": {},
   "outputs": [],
   "source": [
    "os.mkdir('D:\\\\Amruta')   #---> make directory.\n"
   ]
  },
  {
   "cell_type": "code",
   "execution_count": 7,
   "id": "855a09e0",
   "metadata": {},
   "outputs": [
    {
     "ename": "FileNotFoundError",
     "evalue": "[WinError 2] The system cannot find the file specified: 'D:\\\\Amruta'",
     "output_type": "error",
     "traceback": [
      "\u001b[1;31m---------------------------------------------------------------------------\u001b[0m",
      "\u001b[1;31mFileNotFoundError\u001b[0m                         Traceback (most recent call last)",
      "\u001b[1;32m~\\AppData\\Local\\Temp\\ipykernel_14772\\1458668954.py\u001b[0m in \u001b[0;36m<module>\u001b[1;34m\u001b[0m\n\u001b[0;32m      1\u001b[0m \u001b[1;31m# Delete or remove directory.\u001b[0m\u001b[1;33m\u001b[0m\u001b[1;33m\u001b[0m\u001b[0m\n\u001b[0;32m      2\u001b[0m \u001b[1;33m\u001b[0m\u001b[0m\n\u001b[1;32m----> 3\u001b[1;33m \u001b[0mos\u001b[0m\u001b[1;33m.\u001b[0m\u001b[0mrmdir\u001b[0m\u001b[1;33m(\u001b[0m\u001b[1;34m'D:\\\\Amruta'\u001b[0m\u001b[1;33m)\u001b[0m\u001b[1;33m\u001b[0m\u001b[1;33m\u001b[0m\u001b[0m\n\u001b[0m",
      "\u001b[1;31mFileNotFoundError\u001b[0m: [WinError 2] The system cannot find the file specified: 'D:\\\\Amruta'"
     ]
    }
   ],
   "source": [
    "# Delete or remove directory.\n",
    "\n",
    "os.rmdir('D:\\\\Amruta')"
   ]
  },
  {
   "cell_type": "code",
   "execution_count": 8,
   "id": "5349062c",
   "metadata": {},
   "outputs": [],
   "source": [
    "os.mkdir('D:\\\\xyz')"
   ]
  },
  {
   "cell_type": "code",
   "execution_count": 9,
   "id": "91c8a478",
   "metadata": {},
   "outputs": [],
   "source": [
    "os.mkdir('D:\\\\amit')"
   ]
  },
  {
   "cell_type": "code",
   "execution_count": 10,
   "id": "146e3bfb",
   "metadata": {},
   "outputs": [
    {
     "name": "stdout",
     "output_type": "stream",
     "text": [
      "D:\\amit\n"
     ]
    }
   ],
   "source": [
    "# path-join operations\n",
    "\n",
    "print(os.path.join('D:\\\\xyz','D:\\\\amit'))"
   ]
  },
  {
   "cell_type": "code",
   "execution_count": 11,
   "id": "78d46078",
   "metadata": {},
   "outputs": [
    {
     "name": "stdout",
     "output_type": "stream",
     "text": [
      "('D:\\\\', 'amit')\n"
     ]
    }
   ],
   "source": [
    "# Split_operations\n",
    "print(os.path.split('D:\\\\amit'))"
   ]
  },
  {
   "cell_type": "code",
   "execution_count": 12,
   "id": "711d9088",
   "metadata": {},
   "outputs": [
    {
     "data": {
      "text/plain": [
       "'D:\\\\'"
      ]
     },
     "execution_count": 12,
     "metadata": {},
     "output_type": "execute_result"
    }
   ],
   "source": [
    "os.getcwd()"
   ]
  },
  {
   "cell_type": "code",
   "execution_count": 13,
   "id": "0a2d77d9",
   "metadata": {},
   "outputs": [
    {
     "ename": "AttributeError",
     "evalue": "module 'os' has no attribute 'touch'",
     "output_type": "error",
     "traceback": [
      "\u001b[1;31m---------------------------------------------------------------------------\u001b[0m",
      "\u001b[1;31mAttributeError\u001b[0m                            Traceback (most recent call last)",
      "\u001b[1;32m~\\AppData\\Local\\Temp\\ipykernel_14772\\67897613.py\u001b[0m in \u001b[0;36m<module>\u001b[1;34m\u001b[0m\n\u001b[1;32m----> 1\u001b[1;33m \u001b[0mprint\u001b[0m\u001b[1;33m(\u001b[0m\u001b[0mos\u001b[0m\u001b[1;33m.\u001b[0m\u001b[0mtouch\u001b[0m\u001b[1;33m(\u001b[0m\u001b[1;34m'D:\\\\xyz.py'\u001b[0m\u001b[1;33m)\u001b[0m\u001b[1;33m)\u001b[0m\u001b[1;33m\u001b[0m\u001b[1;33m\u001b[0m\u001b[0m\n\u001b[0m",
      "\u001b[1;31mAttributeError\u001b[0m: module 'os' has no attribute 'touch'"
     ]
    }
   ],
   "source": [
    "print(os.touch('D:\\\\xyz.py'))"
   ]
  },
  {
   "cell_type": "code",
   "execution_count": 14,
   "id": "c94f6f30",
   "metadata": {},
   "outputs": [],
   "source": [
    "# os.rename\n",
    "\n",
    "import os\n",
    "\n",
    "fd='xyz'\n",
    "os.rename(fd,'pqr')"
   ]
  },
  {
   "cell_type": "code",
   "execution_count": 15,
   "id": "fafb5e9e",
   "metadata": {},
   "outputs": [],
   "source": [
    "os.rename('amit','xy')"
   ]
  },
  {
   "cell_type": "code",
   "execution_count": 16,
   "id": "51de3fd4",
   "metadata": {},
   "outputs": [
    {
     "name": "stdout",
     "output_type": "stream",
     "text": [
      "Shutdown your system?(Y or N)n\n",
      "Existing the program doing nothing.\n"
     ]
    }
   ],
   "source": [
    "import os\n",
    "\n",
    "choice=input('Shutdown your system?(Y or N)')\n",
    "\n",
    "if choice=='Y' or choice=='y':\n",
    "    os.system('shutdown /s')\n",
    "else:\n",
    "    print('Existing the program doing nothing.')\n",
    "    "
   ]
  },
  {
   "cell_type": "code",
   "execution_count": 17,
   "id": "8bf373e8",
   "metadata": {},
   "outputs": [
    {
     "name": "stdout",
     "output_type": "stream",
     "text": [
      "Restart your computer? (Y or N)n\n",
      "Existing the program doing Nothing.\n"
     ]
    }
   ],
   "source": [
    "# Python program to restart your computer\n",
    "\n",
    "import os\n",
    "choice=input('Restart your computer? (Y or N)')\n",
    "if choice == 'y' or choice =='Y':\n",
    "    os.system('shutdown /r')\n",
    "else:\n",
    "    print('Existing the program doing Nothing.')"
   ]
  },
  {
   "cell_type": "code",
   "execution_count": null,
   "id": "df9432cd",
   "metadata": {},
   "outputs": [],
   "source": [
    "# python program to logoff your computer\n",
    "import os\n",
    "choice=input('Restart your computer? (Y or N)')\n",
    "if choice == 'y' or choice =='Y':\n",
    "    os.system('shutdown /l')\n",
    "else:\n",
    "    print('Existing the program doing Nothing.')"
   ]
  },
  {
   "cell_type": "code",
   "execution_count": 22,
   "id": "6c70ce9c",
   "metadata": {},
   "outputs": [
    {
     "name": "stdout",
     "output_type": "stream",
     "text": [
      "Enter Number of second to Shutdown your system: \n",
      "12\n"
     ]
    },
    {
     "ename": "TypeError",
     "evalue": "'str' object is not callable",
     "output_type": "error",
     "traceback": [
      "\u001b[1;31m---------------------------------------------------------------------------\u001b[0m",
      "\u001b[1;31mTypeError\u001b[0m                                 Traceback (most recent call last)",
      "\u001b[1;32m~\\AppData\\Local\\Temp\\ipykernel_14772\\2690626355.py\u001b[0m in \u001b[0;36m<module>\u001b[1;34m\u001b[0m\n\u001b[0;32m      4\u001b[0m \u001b[0msec\u001b[0m\u001b[1;33m=\u001b[0m\u001b[0mint\u001b[0m\u001b[1;33m(\u001b[0m\u001b[0minput\u001b[0m\u001b[1;33m(\u001b[0m\u001b[1;33m)\u001b[0m\u001b[1;33m)\u001b[0m\u001b[1;33m\u001b[0m\u001b[1;33m\u001b[0m\u001b[0m\n\u001b[0;32m      5\u001b[0m \u001b[0mstrOne\u001b[0m\u001b[1;33m=\u001b[0m \u001b[1;34m'shutdown /s /t'\u001b[0m\u001b[1;33m\u001b[0m\u001b[1;33m\u001b[0m\u001b[0m\n\u001b[1;32m----> 6\u001b[1;33m \u001b[0mstrTwo\u001b[0m\u001b[1;33m=\u001b[0m\u001b[0mstr\u001b[0m\u001b[1;33m(\u001b[0m\u001b[0msec\u001b[0m\u001b[1;33m)\u001b[0m\u001b[1;33m\u001b[0m\u001b[1;33m\u001b[0m\u001b[0m\n\u001b[0m\u001b[0;32m      7\u001b[0m \u001b[0mstr\u001b[0m \u001b[1;33m=\u001b[0m\u001b[0mstrOne\u001b[0m\u001b[1;33m+\u001b[0m\u001b[0mstrTwo\u001b[0m\u001b[1;33m\u001b[0m\u001b[1;33m\u001b[0m\u001b[0m\n\u001b[0;32m      8\u001b[0m \u001b[0mos\u001b[0m\u001b[1;33m.\u001b[0m\u001b[0msystem\u001b[0m\u001b[1;33m(\u001b[0m\u001b[0mstr\u001b[0m\u001b[1;33m)\u001b[0m\u001b[1;33m\u001b[0m\u001b[1;33m\u001b[0m\u001b[0m\n",
      "\u001b[1;31mTypeError\u001b[0m: 'str' object is not callable"
     ]
    }
   ],
   "source": [
    "import os\n",
    "\n",
    "print('Enter Number of second to Shutdown your system: ')\n",
    "sec=int(input())\n",
    "strOne= 'shutdown /s /t'\n",
    "strTwo=str(sec)\n",
    "str =strOne+strTwo\n",
    "os.system(str)"
   ]
  },
  {
   "cell_type": "code",
   "execution_count": null,
   "id": "03530663",
   "metadata": {},
   "outputs": [],
   "source": [
    "import time\n",
    "seconds=int(input('Enter seconds: '))\n",
    "for i in range(seconds):\n",
    "    x = (seconds - i)\n",
    "    print(x)\n",
    "    time.sleep(1)\n",
    "check=input('Do you want to shutdown your system? (Y)')\n",
    "if check =='N' or check =='n':\n",
    "    exit()\n",
    "else:\n",
    "    os.system('shutdown /s /t 1')\n",
    "    "
   ]
  }
 ],
 "metadata": {
  "kernelspec": {
   "display_name": "Python 3 (ipykernel)",
   "language": "python",
   "name": "python3"
  },
  "language_info": {
   "codemirror_mode": {
    "name": "ipython",
    "version": 3
   },
   "file_extension": ".py",
   "mimetype": "text/x-python",
   "name": "python",
   "nbconvert_exporter": "python",
   "pygments_lexer": "ipython3",
   "version": "3.9.13"
  }
 },
 "nbformat": 4,
 "nbformat_minor": 5
}
