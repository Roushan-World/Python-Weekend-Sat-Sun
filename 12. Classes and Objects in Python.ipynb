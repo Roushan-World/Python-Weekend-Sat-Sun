{
 "cells": [
  {
   "cell_type": "markdown",
   "id": "3ba10940",
   "metadata": {},
   "source": [
    "# 12. Classes and Objects in Python"
   ]
  },
  {
   "cell_type": "markdown",
   "id": "297a6973",
   "metadata": {},
   "source": [
    " * Python is an object-oriented programming language.\n",
    " \n",
    " * Unlike procedure-oriented programming, where the main emphasis is on functions, object-oriented programming stresses on object.\n",
    " \n",
    " * An object is simply a collection of data(variables) and methods (functions) that act on those data.\n",
    " * Similarly, a class is a blueprint for that object.\n",
    " * Like function definitions being with the def keyword in Python, class definitions begin with a class keyword.\n",
    " * The first string inside the class is called docstring and has a brief description of the class.\n",
    " * Although not mandatory, this highly recommended."
   ]
  },
  {
   "cell_type": "markdown",
   "id": "3678f83b",
   "metadata": {},
   "source": [
    "class student:\n",
    "    school_name:'ABC School'              <----------------- Class Variable\n",
    "    \n",
    "    def __init__(self,name,age):          <----------------- Constructor to initialize instance variable.\n",
    "        self.name=name\n",
    "        self.age=age\n",
    "        \n",
    "    @classmethod                          <----------------- Class method\n",
    "    def change_school (cls,name):         <---------------- cls refer to the class\n",
    "        print(student.school_name):       <---------------- Access class variable\n",
    "        student.school_name=name          <---------------- Modify class variable\n",
    "         \n",
    "        \n",
    "    jessa = Student('Jessa',14)\n",
    "    student.change_school('xyz school')   <------------------ call class method"
   ]
  },
  {
   "cell_type": "code",
   "execution_count": 5,
   "id": "281b558e",
   "metadata": {},
   "outputs": [
    {
     "name": "stdout",
     "output_type": "stream",
     "text": [
      "3.14\n"
     ]
    }
   ],
   "source": [
    "class Data:\n",
    "    num=3.14\n",
    "    \n",
    "print(Data.num)"
   ]
  },
  {
   "cell_type": "markdown",
   "id": "5c2cb235",
   "metadata": {},
   "source": [
    "# Create an object "
   ]
  },
  {
   "cell_type": "code",
   "execution_count": 11,
   "id": "9aedf4d3",
   "metadata": {},
   "outputs": [
    {
     "name": "stdout",
     "output_type": "stream",
     "text": [
      "3.14\n"
     ]
    }
   ],
   "source": [
    "class Data:\n",
    "    num=3.14\n",
    "    age=24\n",
    "    number=87546\n",
    "var=Data\n",
    "print(var.num)"
   ]
  },
  {
   "cell_type": "code",
   "execution_count": null,
   "id": "a0dca4a7",
   "metadata": {},
   "outputs": [],
   "source": []
  }
 ],
 "metadata": {
  "kernelspec": {
   "display_name": "Python 3 (ipykernel)",
   "language": "python",
   "name": "python3"
  },
  "language_info": {
   "codemirror_mode": {
    "name": "ipython",
    "version": 3
   },
   "file_extension": ".py",
   "mimetype": "text/x-python",
   "name": "python",
   "nbconvert_exporter": "python",
   "pygments_lexer": "ipython3",
   "version": "3.9.7"
  }
 },
 "nbformat": 4,
 "nbformat_minor": 5
}
