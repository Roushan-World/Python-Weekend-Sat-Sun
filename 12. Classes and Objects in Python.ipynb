{
 "cells": [
  {
   "cell_type": "markdown",
   "id": "3ba10940",
   "metadata": {},
   "source": [
    "# 12. Classes and Objects in Python"
   ]
  },
  {
   "cell_type": "markdown",
   "id": "297a6973",
   "metadata": {},
   "source": [
    " * Python is an object-oriented programming language.\n",
    " \n",
    " * Unlike procedure-oriented programming, where the main emphasis is on functions, object-oriented programming stresses on object.\n",
    " \n",
    " * An object is simply a collection of data(variables) and methods (functions) that act on those data.\n",
    " * Similarly, a class is a blueprint for that object.\n",
    " * Like function definitions being with the def keyword in Python, class definitions begin with a class keyword.\n",
    " * The first string inside the class is called docstring and has a brief description of the class.\n",
    " * Although not mandatory, this highly recommended."
   ]
  },
  {
   "cell_type": "markdown",
   "id": "3678f83b",
   "metadata": {},
   "source": [
    " class student:\n",
    "    school_name:'ABC School'              <----------------- Class Variable\n",
    "    \n",
    "    def __init__(self,name,age):          <----------------- Constructor to initialize instance variable.\n",
    "        self.name=name\n",
    "        self.age=age\n",
    "        \n",
    "    @classmethod                          <----------------- Class method\n",
    "    def change_school (cls,name):         <---------------- cls refer to the class\n",
    "        print(student.school_name):       <---------------- Access class variable\n",
    "        student.school_name=name          <---------------- Modify class variable\n",
    "         \n",
    "        \n",
    "    jessa = Student('Jessa',14)\n",
    "    student.change_school('xyz school')   <------------------ call class method"
   ]
  },
  {
   "cell_type": "code",
   "execution_count": 5,
   "id": "281b558e",
   "metadata": {},
   "outputs": [
    {
     "name": "stdout",
     "output_type": "stream",
     "text": [
      "3.14\n"
     ]
    }
   ],
   "source": [
    "class Data:\n",
    "    num=3.14\n",
    "    \n",
    "print(Data.num)"
   ]
  },
  {
   "cell_type": "markdown",
   "id": "5c2cb235",
   "metadata": {},
   "source": [
    "# Create an object "
   ]
  },
  {
   "cell_type": "code",
   "execution_count": 11,
   "id": "9aedf4d3",
   "metadata": {},
   "outputs": [
    {
     "name": "stdout",
     "output_type": "stream",
     "text": [
      "3.14\n"
     ]
    }
   ],
   "source": [
    "class Data:\n",
    "    num=3.14\n",
    "    age=24\n",
    "    number=87546\n",
    "var=Data\n",
    "print(var.num)"
   ]
  },
  {
   "cell_type": "markdown",
   "id": "fbd84277",
   "metadata": {},
   "source": [
    "# Function init()"
   ]
  },
  {
   "cell_type": "code",
   "execution_count": 2,
   "id": "6e0155f7",
   "metadata": {},
   "outputs": [
    {
     "name": "stdout",
     "output_type": "stream",
     "text": [
      "2.718\n",
      "3.14\n"
     ]
    }
   ],
   "source": [
    "class Data:\n",
    "    def __init__(self,number,pi_number,ratio):\n",
    "        self.number=number\n",
    "        self.pi_number=pi_number\n",
    "        self.ratio=ratio\n",
    "        \n",
    "value=Data(2.718,3.14,1.618)\n",
    "\n",
    "print(value.number)\n",
    "print(value.pi_number)"
   ]
  },
  {
   "cell_type": "code",
   "execution_count": 15,
   "id": "3d62fcd8",
   "metadata": {},
   "outputs": [
    {
     "name": "stdout",
     "output_type": "stream",
     "text": [
      "Amruta\n",
      "amruta@gmail.com\n",
      "30\n"
     ]
    }
   ],
   "source": [
    "class Student:\n",
    "    def __init__(self,name,age,contact):\n",
    "        self.name=name\n",
    "        self.age=age\n",
    "        self.contact=contact\n",
    "detail=Student('Amruta',30,'amruta@gmail.com')\n",
    "\n",
    "print(detail.name)\n",
    "print(detail.contact)\n",
    "print(detail.age)"
   ]
  },
  {
   "cell_type": "code",
   "execution_count": 17,
   "id": "e24608df",
   "metadata": {},
   "outputs": [
    {
     "name": "stdout",
     "output_type": "stream",
     "text": [
      "The number is: 2.718\n",
      "The pi_number is: 3.14\n",
      "The ratio is: 1.618\n"
     ]
    }
   ],
   "source": [
    "class Data:\n",
    "    def __init__(self,number,pi_number,ratio):\n",
    "        self.number=number\n",
    "        self.pi_number=pi_number\n",
    "        self.ratio=ratio\n",
    "        \n",
    "    def msg_function(self):\n",
    "        print('The number is:',self.number)\n",
    "        print('The pi_number is:', self.pi_number)\n",
    "        print('The ratio is:',self.ratio)\n",
    "        \n",
    "        \n",
    "value=Data(2.718,3.14,1.618)\n",
    "\n",
    "value.msg_function()"
   ]
  },
  {
   "cell_type": "code",
   "execution_count": 20,
   "id": "4540a70d",
   "metadata": {},
   "outputs": [
    {
     "name": "stdout",
     "output_type": "stream",
     "text": [
      "My name is: Amruta\n",
      "My age is: 30\n",
      "My contct is: amruta@gmail.com\n"
     ]
    }
   ],
   "source": [
    "class Student:\n",
    "    def __init__(self,name,age,contact):\n",
    "        self.name=name\n",
    "        self.age=age\n",
    "        self.contact=contact\n",
    "    def msg_student(self):\n",
    "        print('My name is:',self.name)\n",
    "        print('My age is:',self.age)\n",
    "        print('My contct is:',self.contact)\n",
    "        \n",
    "        \n",
    "detail=Student('Amruta',30,'amruta@gmail.com')\n",
    "\n",
    "#print(detail.name)\n",
    "#print(detail.contact)\n",
    "#print(detail.age)\n",
    "detail.msg_student()"
   ]
  },
  {
   "cell_type": "code",
   "execution_count": 24,
   "id": "4e461863",
   "metadata": {},
   "outputs": [
    {
     "name": "stdout",
     "output_type": "stream",
     "text": [
      "My laptop is this: HP\n",
      "My laptop has memory: 16 GB\n",
      "My laptop has HDD: 1 TB\n",
      "My laptop size is: 15.6\n"
     ]
    }
   ],
   "source": [
    "class laptop:\n",
    "    def __init__(self,company_name,memory,HDD,Size):\n",
    "        self.company_name=company_name\n",
    "        self.memory=memory\n",
    "        self.HDD=HDD\n",
    "        self.Size=Size\n",
    "        \n",
    "    def detail_laptop(self):\n",
    "        print('My laptop is this:',self.company_name)\n",
    "        print('My laptop has memory:',self.memory)\n",
    "        print('My laptop has HDD:',self.HDD)\n",
    "        print('My laptop size is:',self.Size)\n",
    "        \n",
    "value=laptop('HP',\"16 GB\",'1 TB','15.6')\n",
    "\n",
    "value.detail_laptop()"
   ]
  },
  {
   "cell_type": "markdown",
   "id": "b998ce7c",
   "metadata": {},
   "source": [
    "# Self parameter"
   ]
  },
  {
   "cell_type": "markdown",
   "id": "5175d190",
   "metadata": {},
   "source": [
    " * The slef parameter is a reference to the current instance of the class, and is used to access variabels that belongs to the class.\n",
    " * It does not have to be named self, you can call it whatever you like, but it has to be first parameter of any function in the class.\n",
    " "
   ]
  },
  {
   "cell_type": "code",
   "execution_count": 25,
   "id": "c0ec8cef",
   "metadata": {},
   "outputs": [
    {
     "name": "stdout",
     "output_type": "stream",
     "text": [
      "My car toy is: BMW\n",
      "I solve this puzzle: ABC\n",
      "I have train toy: Cocomelon\n"
     ]
    }
   ],
   "source": [
    "class toy:\n",
    "    def __init__(ClassFirstParameter,car,puzzle,train):\n",
    "        ClassFirstParameter.car=car\n",
    "        ClassFirstParameter.puzzle=puzzle\n",
    "        ClassFirstParameter.train=train\n",
    "    def detail_toy(ClassFirstParameter):\n",
    "        print('My car toy is:',ClassFirstParameter.car)\n",
    "        print('I solve this puzzle:',ClassFirstParameter.puzzle)\n",
    "        print('I have train toy:',ClassFirstParameter.train)\n",
    "        \n",
    "value=toy('BMW','ABC','Cocomelon')\n",
    "\n",
    "\n",
    "value.detail_toy()"
   ]
  },
  {
   "cell_type": "code",
   "execution_count": 26,
   "id": "1a2ef246",
   "metadata": {},
   "outputs": [
    {
     "name": "stdout",
     "output_type": "stream",
     "text": [
      "My car toy is: Rolls Royace\n",
      "I solve this puzzle: xyz\n",
      "I have train toy: Woden Train\n"
     ]
    }
   ],
   "source": [
    "value=toy('Rolls Royace','xyz','Woden Train')\n",
    "\n",
    "value.detail_toy()"
   ]
  },
  {
   "cell_type": "code",
   "execution_count": null,
   "id": "8198b745",
   "metadata": {},
   "outputs": [],
   "source": []
  }
 ],
 "metadata": {
  "kernelspec": {
   "display_name": "Python 3 (ipykernel)",
   "language": "python",
   "name": "python3"
  },
  "language_info": {
   "codemirror_mode": {
    "name": "ipython",
    "version": 3
   },
   "file_extension": ".py",
   "mimetype": "text/x-python",
   "name": "python",
   "nbconvert_exporter": "python",
   "pygments_lexer": "ipython3",
   "version": "3.9.7"
  }
 },
 "nbformat": 4,
 "nbformat_minor": 5
}
