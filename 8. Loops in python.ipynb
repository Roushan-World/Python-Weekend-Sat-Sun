{
 "cells": [
  {
   "cell_type": "markdown",
   "id": "a759bbad",
   "metadata": {},
   "source": [
    "# 8. Loops in Python"
   ]
  },
  {
   "cell_type": "markdown",
   "id": "a9cad36a",
   "metadata": {},
   "source": [
    "* A for loop is used for iterating over a sequence (that is either a list, a touple\n",
    "a dictionary, a set, or a string).\n",
    "\n",
    "* This is less like the for keyword in other programming languages, and works more like an \n",
    "iterator method.\n",
    "* With the for loop we can execute a set of statements, once for each items in a list, tuple \n",
    ", set etc.\n",
    "\n",
    "* The for loop does not require an indexing variable to set beforehead.\n",
    "* With the while loop we can execute a set of statements as long as a condition is true.\n",
    "* Note: remember to increment i, or else the loop will continue forever.\n",
    "* The while loop requires relevant variable to ready, in this example we need to define an \n",
    "indexing variable, i, which we set to 1.\n"
   ]
  },
  {
   "cell_type": "markdown",
   "id": "bd519dc2",
   "metadata": {},
   "source": [
    "# range() function"
   ]
  },
  {
   "cell_type": "markdown",
   "id": "1a48f111",
   "metadata": {},
   "source": [
    "* It is helpful to think of the range object as an ordered list.\n",
    "* To loop though a set of code specified number of times, we can use the \n",
    "range() functions.\n",
    "* The range() function returns a sequence of numbers, starting from 0 by\n",
    "default, and increments by 1 (by default), and ends at specified number."
   ]
  },
  {
   "cell_type": "code",
   "execution_count": 2,
   "id": "44046493",
   "metadata": {},
   "outputs": [
    {
     "name": "stdout",
     "output_type": "stream",
     "text": [
      "range(0, 5)\n",
      "range(0, 10)\n"
     ]
    }
   ],
   "source": [
    "print(range(5))\n",
    "print(range(10))"
   ]
  },
  {
   "cell_type": "markdown",
   "id": "16fb6f5a",
   "metadata": {},
   "source": [
    "#  for loop"
   ]
  },
  {
   "cell_type": "markdown",
   "id": "545616f3",
   "metadata": {},
   "source": [
    "* The for loop enables you to execute a code block multiple times."
   ]
  },
  {
   "cell_type": "code",
   "execution_count": 5,
   "id": "4625fc55",
   "metadata": {},
   "outputs": [
    {
     "name": "stdout",
     "output_type": "stream",
     "text": [
      "2005\n",
      "2006\n",
      "2007\n",
      "2008\n",
      "2009\n",
      "2010\n"
     ]
    }
   ],
   "source": [
    "years=[2005,2006,2007,2008,2009,2010]\n",
    "for i in years:\n",
    "    print(i)"
   ]
  },
  {
   "cell_type": "code",
   "execution_count": 6,
   "id": "700daaf1",
   "metadata": {},
   "outputs": [
    {
     "name": "stdout",
     "output_type": "stream",
     "text": [
      "2005\n",
      "2006\n",
      "2007\n",
      "2008\n",
      "2009\n",
      "2010\n"
     ]
    }
   ],
   "source": [
    "for year in years:\n",
    "    print(year)"
   ]
  },
  {
   "cell_type": "code",
   "execution_count": 11,
   "id": "6b4b4f7c",
   "metadata": {},
   "outputs": [
    {
     "name": "stdout",
     "output_type": "stream",
     "text": [
      "2005\n",
      "2006\n",
      "2007\n",
      "2008\n",
      "2009\n",
      "2010\n"
     ]
    }
   ],
   "source": [
    "for i in range(len(years)):\n",
    "    print(years[i])"
   ]
  },
  {
   "cell_type": "code",
   "execution_count": 12,
   "id": "0b4fe32b",
   "metadata": {},
   "outputs": [
    {
     "name": "stdout",
     "output_type": "stream",
     "text": [
      "2\n",
      "3\n",
      "4\n",
      "5\n",
      "6\n",
      "7\n",
      "8\n",
      "9\n",
      "10\n",
      "11\n"
     ]
    }
   ],
   "source": [
    "for i in range(2,12):\n",
    "    print(i)"
   ]
  },
  {
   "cell_type": "code",
   "execution_count": 13,
   "id": "a7502428",
   "metadata": {},
   "outputs": [
    {
     "name": "stdout",
     "output_type": "stream",
     "text": [
      "2\n",
      "5\n",
      "8\n",
      "11\n"
     ]
    }
   ],
   "source": [
    "for i in range(2,12,3):\n",
    "    print(i)"
   ]
  },
  {
   "cell_type": "code",
   "execution_count": 14,
   "id": "514f9b40",
   "metadata": {},
   "outputs": [
    {
     "name": "stdout",
     "output_type": "stream",
     "text": [
      "Before language 0 is Jave\n",
      "Before language 1 is JavaScript\n",
      "Before language 2 is C\n",
      "Before language 3 is C++\n",
      "Before language 4 is PHP\n"
     ]
    }
   ],
   "source": [
    "language=['Jave','JavaScript','C','C++','PHP']\n",
    "\n",
    "for i in range(len(language)):\n",
    "    print('Before language',i,'is',language[i]) # Before language 0 is Java."
   ]
  },
  {
   "cell_type": "code",
   "execution_count": 15,
   "id": "e23e3e1e",
   "metadata": {},
   "outputs": [
    {
     "name": "stdout",
     "output_type": "stream",
     "text": [
      "0 Python\n",
      "1 Jave\n",
      "2 JavaScript\n",
      "3 C\n",
      "4 C++\n",
      "5 PHP\n"
     ]
    }
   ],
   "source": [
    "language=['Python','Jave','JavaScript','C','C++','PHP']\n",
    "\n",
    "for index, language in enumerate(language):\n",
    "    print(index,language)"
   ]
  },
  {
   "cell_type": "code",
   "execution_count": 17,
   "id": "030ba11f",
   "metadata": {},
   "outputs": [
    {
     "name": "stdout",
     "output_type": "stream",
     "text": [
      "-3\n",
      "-2\n",
      "-1\n",
      "0\n",
      "1\n",
      "2\n",
      "3\n",
      "4\n",
      "5\n",
      "6\n",
      "7\n",
      "8\n",
      "9\n",
      "10\n"
     ]
    }
   ],
   "source": [
    "for i in range(-3,11):\n",
    "    print(i)"
   ]
  },
  {
   "cell_type": "code",
   "execution_count": 21,
   "id": "5b0d73d6",
   "metadata": {},
   "outputs": [
    {
     "name": "stdout",
     "output_type": "stream",
     "text": [
      "Enter a number: 40\n",
      "The entered number is 40\n",
      "40 x 1 = 40\n",
      "40 x 2 = 80\n",
      "40 x 3 = 120\n",
      "40 x 4 = 160\n",
      "40 x 5 = 200\n",
      "40 x 6 = 240\n",
      "40 x 7 = 280\n",
      "40 x 8 = 320\n",
      "40 x 9 = 360\n",
      "40 x 10 = 400\n"
     ]
    }
   ],
   "source": [
    "number1=int(input('Enter a number: '))\n",
    "\n",
    "print(f'The entered number is {number1}')\n",
    "\n",
    "for i in range(1,11):\n",
    "    print('%d x %d = %d'%(number1,i,number1*i))"
   ]
  },
  {
   "cell_type": "code",
   "execution_count": 25,
   "id": "41f3fd71",
   "metadata": {},
   "outputs": [
    {
     "name": "stdout",
     "output_type": "stream",
     "text": [
      "0.577\n",
      "3.295\n",
      "6.4350000000000005\n",
      "10.935\n"
     ]
    }
   ],
   "source": [
    "list1=[0.577,2.718,3.14,4.50]\n",
    "\n",
    "count=0\n",
    "for i in list1:\n",
    "    count+=i\n",
    "    print(count)\n",
    "    \n"
   ]
  },
  {
   "cell_type": "code",
   "execution_count": null,
   "id": "d83d35e1",
   "metadata": {},
   "outputs": [],
   "source": []
  }
 ],
 "metadata": {
  "kernelspec": {
   "display_name": "Python 3 (ipykernel)",
   "language": "python",
   "name": "python3"
  },
  "language_info": {
   "codemirror_mode": {
    "name": "ipython",
    "version": 3
   },
   "file_extension": ".py",
   "mimetype": "text/x-python",
   "name": "python",
   "nbconvert_exporter": "python",
   "pygments_lexer": "ipython3",
   "version": "3.9.7"
  }
 },
 "nbformat": 4,
 "nbformat_minor": 5
}
