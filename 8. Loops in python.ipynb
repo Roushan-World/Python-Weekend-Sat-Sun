{
 "cells": [
  {
   "cell_type": "markdown",
   "id": "a759bbad",
   "metadata": {},
   "source": [
    "# 8. Loops in Python"
   ]
  },
  {
   "cell_type": "markdown",
   "id": "a9cad36a",
   "metadata": {},
   "source": [
    "* A for loop is used for iterating over a sequence (that is either a list, a touple\n",
    "a dictionary, a set, or a string).\n",
    "\n",
    "* This is less like the for keyword in other programming languages, and works more like an \n",
    "iterator method.\n",
    "* With the for loop we can execute a set of statements, once for each items in a list, tuple \n",
    ", set etc.\n",
    "\n",
    "* The for loop does not require an indexing variable to set beforehead.\n",
    "* With the while loop we can execute a set of statements as long as a condition is true.\n",
    "* Note: remember to increment i, or else the loop will continue forever.\n",
    "* The while loop requires relevant variable to ready, in this example we need to define an \n",
    "indexing variable, i, which we set to 1.\n"
   ]
  },
  {
   "cell_type": "markdown",
   "id": "bd519dc2",
   "metadata": {},
   "source": [
    "# range() function"
   ]
  },
  {
   "cell_type": "markdown",
   "id": "1a48f111",
   "metadata": {},
   "source": [
    "* It is helpful to think of the range object as an ordered list.\n",
    "* To loop though a set of code specified number of times, we can use the \n",
    "range() functions.\n",
    "* The range() function returns a sequence of numbers, starting from 0 by\n",
    "default, and increments by 1 (by default), and ends at specified number."
   ]
  },
  {
   "cell_type": "code",
   "execution_count": null,
   "id": "44046493",
   "metadata": {},
   "outputs": [],
   "source": [
    "print(range(5))\n",
    "print(range(10))"
   ]
  },
  {
   "cell_type": "markdown",
   "id": "16fb6f5a",
   "metadata": {},
   "source": [
    "#  for loop"
   ]
  },
  {
   "cell_type": "markdown",
   "id": "545616f3",
   "metadata": {},
   "source": [
    "* The for loop enables you to execute a code block multiple times."
   ]
  },
  {
   "cell_type": "code",
   "execution_count": null,
   "id": "4625fc55",
   "metadata": {},
   "outputs": [],
   "source": [
    "years=[2005,2006,2007,2008,2009,2010]\n",
    "for i in years:\n",
    "    print(i)"
   ]
  },
  {
   "cell_type": "code",
   "execution_count": null,
   "id": "700daaf1",
   "metadata": {},
   "outputs": [],
   "source": [
    "for year in years:\n",
    "    print(year)"
   ]
  },
  {
   "cell_type": "code",
   "execution_count": null,
   "id": "6b4b4f7c",
   "metadata": {},
   "outputs": [],
   "source": [
    "for i in range(len(years)):\n",
    "    print(years[i])"
   ]
  },
  {
   "cell_type": "code",
   "execution_count": null,
   "id": "0b4fe32b",
   "metadata": {},
   "outputs": [],
   "source": [
    "for i in range(2,12):\n",
    "    print(i)"
   ]
  },
  {
   "cell_type": "code",
   "execution_count": null,
   "id": "a7502428",
   "metadata": {},
   "outputs": [],
   "source": [
    "for i in range(2,12,3):\n",
    "    print(i)"
   ]
  },
  {
   "cell_type": "code",
   "execution_count": null,
   "id": "514f9b40",
   "metadata": {},
   "outputs": [],
   "source": [
    "language=['Jave','JavaScript','C','C++','PHP']\n",
    "\n",
    "for i in range(len(language)):\n",
    "    print('Before language',i,'is',language[i]) # Before language 0 is Java."
   ]
  },
  {
   "cell_type": "code",
   "execution_count": null,
   "id": "e23e3e1e",
   "metadata": {},
   "outputs": [],
   "source": [
    "language=['Python','Jave','JavaScript','C','C++','PHP']\n",
    "\n",
    "for index, language in enumerate(language):\n",
    "    print(index,language)"
   ]
  },
  {
   "cell_type": "code",
   "execution_count": null,
   "id": "030ba11f",
   "metadata": {},
   "outputs": [],
   "source": [
    "for i in range(-3,11):\n",
    "    print(i)"
   ]
  },
  {
   "cell_type": "code",
   "execution_count": null,
   "id": "5b0d73d6",
   "metadata": {},
   "outputs": [],
   "source": [
    "number1=int(input('Enter a number: '))\n",
    "\n",
    "print(f'The entered number is {number1}')\n",
    "\n",
    "for i in range(1,11):\n",
    "    print('%d x %d = %d'%(number1,i,number1*i))"
   ]
  },
  {
   "cell_type": "code",
   "execution_count": null,
   "id": "41f3fd71",
   "metadata": {},
   "outputs": [],
   "source": [
    "list1=[0.577,2.718,3.14,4.50]\n",
    "\n",
    "count=0\n",
    "for i in list1:\n",
    "    count+=i\n",
    "    print(count)\n",
    "    \n"
   ]
  },
  {
   "cell_type": "code",
   "execution_count": null,
   "id": "d83d35e1",
   "metadata": {},
   "outputs": [],
   "source": [
    "for i in range(1,6):\n",
    "    print(i, end=',')\n",
    "else:\n",
    "    print('These are numbers form 1 to 5')"
   ]
  },
  {
   "cell_type": "code",
   "execution_count": null,
   "id": "ae55d972",
   "metadata": {},
   "outputs": [],
   "source": [
    "for i in range(1,6):\n",
    "    print(i, end=',')\n"
   ]
  },
  {
   "cell_type": "code",
   "execution_count": null,
   "id": "66a90b2a",
   "metadata": {},
   "outputs": [],
   "source": [
    "list2=[1,2,3,4,5,6,7,8,9,10,11,12,13,14,15,16]\n",
    "\n",
    "for i in list2:\n",
    "    if i==11:\n",
    "        break\n",
    "    print(i)"
   ]
  },
  {
   "cell_type": "code",
   "execution_count": null,
   "id": "ed4d3fa4",
   "metadata": {},
   "outputs": [],
   "source": [
    "list2=[1,2,3,4,5,6,7,8,9,10,11,12,13,14,15,16]\n",
    "\n",
    "for i in list2:\n",
    "    if i==8:\n",
    "        continue\n",
    "    print(i)"
   ]
  },
  {
   "cell_type": "code",
   "execution_count": null,
   "id": "1a0daa2e",
   "metadata": {},
   "outputs": [],
   "source": [
    "list3=['Ajay','Binay','Devendra','Amit',1,2,3,4,5,8.8,9.5,('a','b','c')]\n",
    "\n",
    "for i in list3:\n",
    "    if i==11:\n",
    "        break\n",
    "    print(i)"
   ]
  },
  {
   "cell_type": "code",
   "execution_count": null,
   "id": "bfea4beb",
   "metadata": {},
   "outputs": [],
   "source": [
    "list3=['Ajay','Binay','Devendra','Amit',1,2,3,4,5,8.8,9.5,('a','b','c')]\n",
    "\n",
    "for i in list3:\n",
    "    if i=='Amit':\n",
    "        continue\n",
    "    print(i)"
   ]
  },
  {
   "cell_type": "code",
   "execution_count": null,
   "id": "dad9942e",
   "metadata": {},
   "outputs": [],
   "source": [
    "#1-10\n",
    "\n",
    "for i in range(1,11):\n",
    "    print(i)\n",
    "\n"
   ]
  },
  {
   "cell_type": "code",
   "execution_count": null,
   "id": "35bb8520",
   "metadata": {},
   "outputs": [],
   "source": [
    "x=[1,2,3,4,5,6,7,8,9,10]\n",
    "for i in x:\n",
    "    print(i)"
   ]
  },
  {
   "cell_type": "code",
   "execution_count": null,
   "id": "da260d67",
   "metadata": {},
   "outputs": [],
   "source": [
    "n=51\n",
    "\n",
    "for i in range(1,n):\n",
    "    print(i)"
   ]
  },
  {
   "cell_type": "code",
   "execution_count": null,
   "id": "8de95ace",
   "metadata": {},
   "outputs": [],
   "source": [
    "# 10\n",
    "\n",
    "given_num=50\n",
    "\n",
    "for i in range(given_num):\n",
    "    if i%2==0:\n",
    "        print(i)"
   ]
  },
  {
   "cell_type": "code",
   "execution_count": null,
   "id": "f893a416",
   "metadata": {},
   "outputs": [],
   "source": [
    "# 10\n",
    "\n",
    "given_num=50\n",
    "\n",
    "for i in range(given_num):\n",
    "    if i%2!=0:\n",
    "        print(i)"
   ]
  },
  {
   "cell_type": "code",
   "execution_count": null,
   "id": "acd1ed3a",
   "metadata": {},
   "outputs": [],
   "source": [
    "# 1-10\n",
    "\n",
    "given_num=10\n",
    "\n",
    "sum=0\n",
    "for i in range(1,given_num+1):\n",
    "    sum+=i\n",
    "print(sum)"
   ]
  },
  {
   "cell_type": "code",
   "execution_count": null,
   "id": "9cb3b8c5",
   "metadata": {},
   "outputs": [],
   "source": [
    "given_num=10\n",
    "\n",
    "sum=0\n",
    "\n",
    "for i in range(given_num+1):\n",
    "    if i%2==0:\n",
    "        sum+=i\n",
    "        \n",
    "print(sum)"
   ]
  },
  {
   "cell_type": "code",
   "execution_count": null,
   "id": "31bd5453",
   "metadata": {},
   "outputs": [],
   "source": [
    "given_num=10\n",
    "\n",
    "sum=0\n",
    "\n",
    "for i in range(given_num+1):\n",
    "    if i%2!=0:\n",
    "        sum+=i\n",
    "        \n",
    "print(sum)"
   ]
  },
  {
   "cell_type": "code",
   "execution_count": null,
   "id": "30c66bd6",
   "metadata": {},
   "outputs": [],
   "source": [
    "given_string=str(input('Enter your word '))\n",
    "revers_string=''\n",
    "\n",
    "for i in given_string:\n",
    "    revers_string = i + revers_string\n",
    "    \n",
    "if (given_string==revers_string):\n",
    "    print('The string',given_string,'is a Palindrome.')\n",
    "else:\n",
    "    print('The string',given_string,'is Not Palindrome.')"
   ]
  },
  {
   "cell_type": "markdown",
   "id": "6744c768",
   "metadata": {},
   "source": [
    "# nested for loop"
   ]
  },
  {
   "cell_type": "code",
   "execution_count": null,
   "id": "2fea3db1",
   "metadata": {},
   "outputs": [],
   "source": [
    "num = int(input('Enter any number: '))\n",
    "\n",
    "print(f'The entered number is {num}.')\n",
    "i,j=0,0\n",
    "for i in range(0,num):\n",
    "    print()\n",
    "    for j in range(0,i+1):\n",
    "        print('*',end='')"
   ]
  },
  {
   "cell_type": "code",
   "execution_count": null,
   "id": "88d6f760",
   "metadata": {},
   "outputs": [],
   "source": [
    "nlis1=[2,4,6,8,10,12,14,16,18,20,22]\n",
    "\n",
    "for i in nlis1:\n",
    "    if i==12:\n",
    "        continue\n",
    "    print(i)"
   ]
  },
  {
   "cell_type": "code",
   "execution_count": null,
   "id": "b10afa85",
   "metadata": {},
   "outputs": [],
   "source": [
    "nlis1=[2,4,6,8,10,12,14,16,18,20,22]\n",
    "\n",
    "for i in nlis1:\n",
    "    if i==12:\n",
    "        continue\n",
    "    print(i)"
   ]
  },
  {
   "cell_type": "code",
   "execution_count": null,
   "id": "14bde827",
   "metadata": {},
   "outputs": [],
   "source": [
    "# Take an example of while loop\n",
    "\n",
    "i = 20\n",
    "\n",
    "while i<31:\n",
    "    print(i)\n",
    "    i+=1"
   ]
  },
  {
   "cell_type": "code",
   "execution_count": null,
   "id": "b9c92568",
   "metadata": {},
   "outputs": [],
   "source": [
    "for i in range(20,30):\n",
    "    print(i)"
   ]
  },
  {
   "cell_type": "code",
   "execution_count": null,
   "id": "c3931b92",
   "metadata": {},
   "outputs": [],
   "source": [
    "i=22\n",
    "\n",
    "while i>17:\n",
    "    print(i)\n",
    "    i-=1\n"
   ]
  },
  {
   "cell_type": "code",
   "execution_count": null,
   "id": "1649e8a6",
   "metadata": {},
   "outputs": [],
   "source": [
    "years=[2005,2006,2007,2008,2009,2010]\n",
    "\n",
    "index=0\n",
    "year=years[0]\n",
    "\n",
    "while year != 2008:\n",
    "    print(year)\n",
    "    index+=1\n",
    "    year=years[index]\n",
    "    \n",
    "print('It gives us only',index,'repetition to get out of the loop')"
   ]
  },
  {
   "cell_type": "code",
   "execution_count": null,
   "id": "8d3d0c62",
   "metadata": {},
   "outputs": [],
   "source": [
    "fruits=['banana','apple','orange','kiwi','cherry','Grapes','banana','banana','Strawberry','Date']\n",
    "\n",
    "new_fruits=[]\n",
    "\n",
    "index=8\n",
    "\n",
    "while fruits[index]=='Strawberry':\n",
    "    new_fruits.append(fruits[index])\n",
    "    index+=1\n",
    "print(new_fruits)"
   ]
  },
  {
   "cell_type": "code",
   "execution_count": null,
   "id": "185b995e",
   "metadata": {},
   "outputs": [],
   "source": [
    "number1=int(input('Enter a number: '))\n",
    "\n",
    "print(f'The entered number is {number1}')\n",
    "\n",
    "for i in range(1,11):\n",
    "    print('%d x %d = %d'%(number1,i,number1*i))"
   ]
  },
  {
   "cell_type": "code",
   "execution_count": null,
   "id": "9401053f",
   "metadata": {},
   "outputs": [],
   "source": [
    "number1=int(input('Enter a number: '))\n",
    "print(f'The entered number is {number1}')\n",
    "\n",
    "i=1\n",
    "\n",
    "while i<=10:\n",
    "    print('%d x %d = %d'%(number1,i,number1*i))\n",
    "    i+=1"
   ]
  },
  {
   "cell_type": "code",
   "execution_count": 1,
   "id": "213c21a8",
   "metadata": {
    "scrolled": false
   },
   "outputs": [
    {
     "name": "stdout",
     "output_type": "stream",
     "text": [
      "0\n",
      "1\n",
      "2\n",
      "3\n",
      "4\n",
      "5\n"
     ]
    }
   ],
   "source": [
    "i=0\n",
    "\n",
    "while i<=5:\n",
    "    print(i)\n",
    "    i+=1"
   ]
  },
  {
   "cell_type": "code",
   "execution_count": null,
   "id": "3f4f2483",
   "metadata": {},
   "outputs": [],
   "source": []
  }
 ],
 "metadata": {
  "kernelspec": {
   "display_name": "Python 3 (ipykernel)",
   "language": "python",
   "name": "python3"
  },
  "language_info": {
   "codemirror_mode": {
    "name": "ipython",
    "version": 3
   },
   "file_extension": ".py",
   "mimetype": "text/x-python",
   "name": "python",
   "nbconvert_exporter": "python",
   "pygments_lexer": "ipython3",
   "version": "3.9.7"
  }
 },
 "nbformat": 4,
 "nbformat_minor": 5
}
