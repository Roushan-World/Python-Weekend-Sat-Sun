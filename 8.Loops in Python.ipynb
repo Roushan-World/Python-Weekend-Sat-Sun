{
 "cells": [
  {
   "cell_type": "markdown",
   "id": "d0af7f78",
   "metadata": {},
   "source": [
    "# 8. Loops in Python\n"
   ]
  },
  {
   "cell_type": "markdown",
   "id": "d84766aa",
   "metadata": {},
   "source": [
    "* A for loop is used for iterating over a sequence (that is either a list, s tuple, a dictionary, a set, or a string).\n",
    "* This is less like the for keyword in other programming languages, and works more like an iterator method as found in other \n",
    "object- oriented programming languages.\n",
    "* With the for loop we can execute a set of statements, once for each item in a list, tuple, set etc.\n",
    "* The for loop does not require an indexing variable to set beforehand.\n",
    "* With the while loop we can execute a set of statements as long as a condition is true.\n",
    "* Note: remember to increment i, or else the loop will continue forever.\n",
    "* The while loop requires relevant variables to be ready, in this example we need to define an indexing variable, i, which we \n",
    "set to 1."
   ]
  },
  {
   "cell_type": "markdown",
   "id": "75903d53",
   "metadata": {},
   "source": [
    "# range() function"
   ]
  },
  {
   "cell_type": "markdown",
   "id": "8c166a39",
   "metadata": {},
   "source": [
    "* It is helpful to think of the range object as an ordered list.\n",
    "* To loop though a set of code a specified number of times, we can use the range() fuctions.\n",
    "* The range() functions returns a sequence of numbers, starting from 0 by default, and increments by 1(by default) and ends at a spefified number."
   ]
  },
  {
   "cell_type": "code",
   "execution_count": 7,
   "id": "1128b8ab",
   "metadata": {},
   "outputs": [
    {
     "name": "stdout",
     "output_type": "stream",
     "text": [
      "range(0, 100)\n",
      "range(0, 5)\n"
     ]
    }
   ],
   "source": [
    "# Take a range() functions\n",
    "print(range(100))\n",
    "print(range(5))"
   ]
  },
  {
   "cell_type": "markdown",
   "id": "da010620",
   "metadata": {},
   "source": [
    "# for loop"
   ]
  },
  {
   "cell_type": "markdown",
   "id": "c5f1a484",
   "metadata": {},
   "source": [
    "* The for loop enables you to execute a code block multiple times."
   ]
  },
  {
   "cell_type": "code",
   "execution_count": 10,
   "id": "241f38ff",
   "metadata": {},
   "outputs": [
    {
     "name": "stdout",
     "output_type": "stream",
     "text": [
      "2025\n",
      "2006\n",
      "2007\n",
      "2008\n",
      "2009\n",
      "2010\n"
     ]
    }
   ],
   "source": [
    "# Take an example\n",
    "# Directly accessing to the element in the list.\n",
    "\n",
    "years=[2025,2006,2007,2008,2009,2010]\n",
    "\n",
    "for s in years:\n",
    "    print(s)\n",
    "\n"
   ]
  },
  {
   "cell_type": "code",
   "execution_count": 11,
   "id": "b15a77e5",
   "metadata": {},
   "outputs": [
    {
     "name": "stdout",
     "output_type": "stream",
     "text": [
      "2025\n",
      "2006\n",
      "2007\n",
      "2008\n",
      "2009\n",
      "2010\n"
     ]
    }
   ],
   "source": [
    "# Take an example\n",
    "# Directly accessing to the element in the list.\n",
    "\n",
    "years=[2025,2006,2007,2008,2009,2010]\n",
    "\n",
    "for i in years:\n",
    "    print(i)"
   ]
  },
  {
   "cell_type": "code",
   "execution_count": 12,
   "id": "b004b030",
   "metadata": {},
   "outputs": [
    {
     "name": "stdout",
     "output_type": "stream",
     "text": [
      "2\n",
      "3\n",
      "4\n",
      "5\n",
      "6\n",
      "7\n",
      "8\n",
      "9\n",
      "10\n",
      "11\n"
     ]
    }
   ],
   "source": [
    "# Another for loop example\n",
    "\n",
    "for i in range(2,12):\n",
    "    print(i)"
   ]
  },
  {
   "cell_type": "code",
   "execution_count": 13,
   "id": "fc145232",
   "metadata": {},
   "outputs": [
    {
     "name": "stdout",
     "output_type": "stream",
     "text": [
      "2\n",
      "5\n",
      "8\n",
      "11\n"
     ]
    }
   ],
   "source": [
    "for i in range(2,12,3): #printing loops with step value\n",
    "    print(i)"
   ]
  },
  {
   "cell_type": "code",
   "execution_count": 15,
   "id": "3b4295a1",
   "metadata": {},
   "outputs": [
    {
     "name": "stdout",
     "output_type": "stream",
     "text": [
      "Before language 0 is Java\n",
      "After language 0 is Python\n",
      "Before language 1 is JavaScripts\n",
      "After language 1 is Python\n",
      "Before language 2 is C\n",
      "After language 2 is Python\n",
      "Before language 3 is C++\n",
      "After language 3 is Python\n",
      "Before language 4 is PHP\n",
      "After language 4 is Python\n"
     ]
    }
   ],
   "source": [
    "# Changing the element in the list.\n",
    "languages=['Java','JavaScripts','C','C++','PHP']\n",
    "\n",
    "for i in range(len(languages)):\n",
    "    print('Before language',i,'is',languages[i])\n",
    "    languages[i]='Python'\n",
    "    print('After language',i,'is',languages[i])"
   ]
  },
  {
   "cell_type": "code",
   "execution_count": 16,
   "id": "38f9d7ca",
   "metadata": {},
   "outputs": [
    {
     "name": "stdout",
     "output_type": "stream",
     "text": [
      "0 Java\n",
      "1 JavaScripts\n",
      "2 C\n",
      "3 C++\n",
      "4 PHP\n"
     ]
    }
   ],
   "source": [
    "languages=['Java','JavaScripts','C','C++','PHP']\n",
    "\n",
    "for index,language in enumerate(languages):\n",
    "    print(index,language)"
   ]
  },
  {
   "cell_type": "code",
   "execution_count": 17,
   "id": "a66eb0aa",
   "metadata": {},
   "outputs": [
    {
     "name": "stdout",
     "output_type": "stream",
     "text": [
      "-3\n",
      "-2\n",
      "-1\n",
      "0\n",
      "1\n",
      "2\n",
      "3\n",
      "4\n",
      "5\n",
      "6\n"
     ]
    }
   ],
   "source": [
    "# Take the numbers between -3 and 6 using for loop\n",
    "# use range() function\n",
    "for i in range(-3,7):\n",
    "    print(i)"
   ]
  },
  {
   "cell_type": "code",
   "execution_count": 27,
   "id": "96e8fb7f",
   "metadata": {},
   "outputs": [
    {
     "name": "stdout",
     "output_type": "stream",
     "text": [
      "Enter any number: 12\n",
      "Enter second number: 13\n",
      "The entered number is 12 and 13.\n",
      "12 x 1 = 12 , 13 x 1 = 13\n",
      "12 x 2 = 24 , 13 x 2 = 26\n",
      "12 x 3 = 36 , 13 x 3 = 39\n",
      "12 x 4 = 48 , 13 x 4 = 52\n",
      "12 x 5 = 60 , 13 x 5 = 65\n",
      "12 x 6 = 72 , 13 x 6 = 78\n",
      "12 x 7 = 84 , 13 x 7 = 91\n",
      "12 x 8 = 96 , 13 x 8 = 104\n",
      "12 x 9 = 108 , 13 x 9 = 117\n",
      "12 x 10 = 120 , 13 x 10 = 130\n"
     ]
    }
   ],
   "source": [
    "# How to print table with for loop\n",
    "\n",
    "number=int(input('Enter any number: '))\n",
    "number1=int(input('Enter second number: '))\n",
    "\n",
    "print(f'The entered number is {number} and {number1}.')\n",
    "\n",
    "for i in range(1,11):\n",
    "    print('%d x %d = %d' %(number,i,number*i),',',('%d x %d = %d' %(number1,i,number1*i))"
   ]
  },
  {
   "cell_type": "code",
   "execution_count": 28,
   "id": "ef803b02",
   "metadata": {},
   "outputs": [
    {
     "name": "stdout",
     "output_type": "stream",
     "text": [
      "enter table no.= 12\n",
      "enter table no.= 13\n",
      "enter table no.= 14\n",
      "the entered no. is =12.\n",
      "12 x 1 = 12 , 13 x 1 = 13 , 14 x 1 = 14\n",
      "12 x 2 = 24 , 13 x 2 = 26 , 14 x 2 = 28\n",
      "12 x 3 = 36 , 13 x 3 = 39 , 14 x 3 = 42\n",
      "12 x 4 = 48 , 13 x 4 = 52 , 14 x 4 = 56\n",
      "12 x 5 = 60 , 13 x 5 = 65 , 14 x 5 = 70\n",
      "12 x 6 = 72 , 13 x 6 = 78 , 14 x 6 = 84\n",
      "12 x 7 = 84 , 13 x 7 = 91 , 14 x 7 = 98\n",
      "12 x 8 = 96 , 13 x 8 = 104 , 14 x 8 = 112\n",
      "12 x 9 = 108 , 13 x 9 = 117 , 14 x 9 = 126\n",
      "12 x 10 = 120 , 13 x 10 = 130 , 14 x 10 = 140\n"
     ]
    }
   ],
   "source": [
    "number=int(input('enter table no.= '))\n",
    "number1=int(input('enter table no.= '))\n",
    "number2=int(input('enter table no.= '))\n",
    "print(f'the entered no. is ={number}.')\n",
    "\n",
    "for i in range(1,11):\n",
    "    print('%d x %d = %d' %(number,i,number*i),',','%d x %d = %d' %(number1,i,number1*i),',', '%d x %d = %d' %(number2,i,number2*i))"
   ]
  },
  {
   "cell_type": "code",
   "execution_count": null,
   "id": "24f1957c",
   "metadata": {},
   "outputs": [],
   "source": []
  }
 ],
 "metadata": {
  "kernelspec": {
   "display_name": "Python 3 (ipykernel)",
   "language": "python",
   "name": "python3"
  },
  "language_info": {
   "codemirror_mode": {
    "name": "ipython",
    "version": 3
   },
   "file_extension": ".py",
   "mimetype": "text/x-python",
   "name": "python",
   "nbconvert_exporter": "python",
   "pygments_lexer": "ipython3",
   "version": "3.9.7"
  }
 },
 "nbformat": 4,
 "nbformat_minor": 5
}
