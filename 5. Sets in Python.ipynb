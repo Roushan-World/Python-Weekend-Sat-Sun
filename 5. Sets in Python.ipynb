{
 "cells": [
  {
   "cell_type": "markdown",
   "id": "2c4f82db",
   "metadata": {},
   "source": [
    "# 5.Sets in Python"
   ]
  },
  {
   "cell_type": "markdown",
   "id": "63515fac",
   "metadata": {},
   "source": [
    "* Set is one of 4 Built-in data types in Python used to store collections of data including List, Tuples and Dictionary.\n",
    "* Sets are unordered, but you can remove items and add new items.\n",
    "* Set elements are unique. Duplicate elements are not allowed.\n",
    "* A set itself may be modified, but the element containded in the set must be an immutable type.\n",
    "* You can denote a set with a pair of curly brackets {}."
   ]
  },
  {
   "cell_type": "code",
   "execution_count": 2,
   "id": "5a847c65",
   "metadata": {},
   "outputs": [
    {
     "data": {
      "text/plain": [
       "dict"
      ]
     },
     "execution_count": 2,
     "metadata": {},
     "output_type": "execute_result"
    }
   ],
   "source": [
    "# The empty set of curly braces denotes the empty dictionary, not empty set.\n",
    "x={}\n",
    "x\n",
    "type(x)"
   ]
  },
  {
   "cell_type": "code",
   "execution_count": 4,
   "id": "2ed2ef53",
   "metadata": {},
   "outputs": [
    {
     "name": "stdout",
     "output_type": "stream",
     "text": [
      "set()\n",
      "<class 'set'>\n"
     ]
    }
   ],
   "source": [
    "y=set()\n",
    "print(y)\n",
    "print(type(y))"
   ]
  },
  {
   "cell_type": "code",
   "execution_count": 6,
   "id": "0931cb0a",
   "metadata": {},
   "outputs": [
    {
     "name": "stdout",
     "output_type": "stream",
     "text": [
      "{False, 1.618, True, 3.14, 'Hello Python', 2023, 'Hello World'}\n",
      "<class 'set'>\n"
     ]
    }
   ],
   "source": [
    "# An Example: Take a set\n",
    "set_1={'Hello Python',3.14,1.618,'Hello World',3.14,1.618,True, False ,2023}\n",
    "print(set_1)\n",
    "print(type(set_1))"
   ]
  },
  {
   "cell_type": "code",
   "execution_count": 10,
   "id": "cbe6f0b7",
   "metadata": {},
   "outputs": [
    {
     "name": "stdout",
     "output_type": "stream",
     "text": [
      "list are:  ['Hello Python', 3.14, 1.618, 'Hello World', 3.14, 1.618, True, False, 2023]\n",
      "Set are:  {False, 1.618, True, 3.14, 2023, 'Hello Python', 'Hello World'}\n"
     ]
    }
   ],
   "source": [
    "nlis=['Hello Python',3.14,1.618,'Hello World',3.14,1.618,True, False ,2023]\n",
    "print('list are: ',nlis)\n",
    "nlis1=set(nlis)\n",
    "print('Set are: ',nlis1)"
   ]
  },
  {
   "cell_type": "markdown",
   "id": "917f29bd",
   "metadata": {},
   "source": [
    "# add() Function"
   ]
  },
  {
   "cell_type": "markdown",
   "id": "ad62ad79",
   "metadata": {},
   "source": [
    "* To add an element into a set, we use the function add(). If the same element is added to the set, nothing will \n",
    "* happen because the set accept no duplicates."
   ]
  },
  {
   "cell_type": "code",
   "execution_count": 16,
   "id": "a7fce4bf",
   "metadata": {},
   "outputs": [
    {
     "data": {
      "text/plain": [
       "{1.618,\n",
       " 2023,\n",
       " 3.14,\n",
       " 3.148,\n",
       " False,\n",
       " 'Hello Python',\n",
       " 'Hello World',\n",
       " 'Hello,Amruta',\n",
       " 'Hi,Amruta!',\n",
       " True}"
      ]
     },
     "execution_count": 16,
     "metadata": {},
     "output_type": "execute_result"
    }
   ],
   "source": [
    "# Addition of an element to a set.\n",
    "set3=set(['Hello Python',3.14,1.618,'Hello World',3.14,1.618,True, False ,2023])\n",
    "set3.add('Hi,Amruta!')\n",
    "set3.add('Hello,Amruta')\n",
    "set3.add('Hi,Amruta!')\n",
    "set3.add(3.148)\n",
    "set3.add(3.148)\n",
    "set3"
   ]
  },
  {
   "cell_type": "code",
   "execution_count": 23,
   "id": "c8cfae86",
   "metadata": {},
   "outputs": [
    {
     "name": "stdout",
     "output_type": "stream",
     "text": [
      "{4, 6, 7, 8, 9}\n",
      "{1, 2, 3, 4, 5, 6, 7, 8, 9, 10, 'Amruta'}\n"
     ]
    }
   ],
   "source": [
    "# Update() function\n",
    "# To add multiple elements into the set.\n",
    "x_set={4,6,7,8,9}\n",
    "print(x_set)\n",
    "x_set.update({1,2,3,4,5,6,7,8,9,10,'Amruta'})\n",
    "print(x_set)"
   ]
  },
  {
   "cell_type": "code",
   "execution_count": 24,
   "id": "c1ae310c",
   "metadata": {},
   "outputs": [
    {
     "data": {
      "text/plain": [
       "{1, 2, 3, 4, 5, 6, 7, 8, 9, 10}"
      ]
     },
     "execution_count": 24,
     "metadata": {},
     "output_type": "execute_result"
    }
   ],
   "source": [
    "# remove() function\n",
    "# To remove an element from the set.\n",
    "\n",
    "x_set.remove('Amruta')\n",
    "x_set"
   ]
  },
  {
   "cell_type": "code",
   "execution_count": 26,
   "id": "5abd642f",
   "metadata": {},
   "outputs": [
    {
     "data": {
      "text/plain": [
       "({1.618, 3.14, 'Hello Python', 'Hello World'},\n",
       " {False, True, 1.618, 3.14, 2023})"
      ]
     },
     "execution_count": 26,
     "metadata": {},
     "output_type": "execute_result"
    }
   ],
   "source": [
    "set4=set(['Hello Python',3.14,1.618,'Hello World'])\n",
    "set5=set([3.14,1.618,True, False,2023])\n",
    "\n",
    "#Printing two set at a time.\n",
    "set4,set5"
   ]
  },
  {
   "cell_type": "markdown",
   "id": "0e53cb7a",
   "metadata": {},
   "source": [
    "# To find the intersect of two sets using &"
   ]
  },
  {
   "cell_type": "code",
   "execution_count": 27,
   "id": "7dde2a2c",
   "metadata": {},
   "outputs": [
    {
     "data": {
      "text/plain": [
       "{1.618, 3.14}"
      ]
     },
     "execution_count": 27,
     "metadata": {},
     "output_type": "execute_result"
    }
   ],
   "source": [
    "intersection=set4&set5\n",
    "intersection"
   ]
  },
  {
   "cell_type": "code",
   "execution_count": 31,
   "id": "ced21dca",
   "metadata": {},
   "outputs": [
    {
     "name": "stdout",
     "output_type": "stream",
     "text": [
      "{'Hello Python', 'Hello World'}\n",
      "{False, True, 2023}\n",
      "{'Hello Python', 'Hello World'}\n",
      "{False, True, 2023}\n"
     ]
    }
   ],
   "source": [
    "print(set4.difference(set5))\n",
    "print(set5.difference(set4))\n",
    "\n",
    "#Second method of printing difference\n",
    "\n",
    "print(set4-set5)\n",
    "print(set5-set4)"
   ]
  },
  {
   "cell_type": "code",
   "execution_count": 32,
   "id": "575dc36e",
   "metadata": {},
   "outputs": [
    {
     "data": {
      "text/plain": [
       "{1.618, 2023, 3.14, False, 'Hello Python', 'Hello World', True}"
      ]
     },
     "execution_count": 32,
     "metadata": {},
     "output_type": "execute_result"
    }
   ],
   "source": [
    "# Union() Function\n",
    "# It corresponds to all the elements in both set.\n",
    "\n",
    "set4.union(set5)"
   ]
  },
  {
   "cell_type": "code",
   "execution_count": null,
   "id": "a416e156",
   "metadata": {},
   "outputs": [],
   "source": []
  }
 ],
 "metadata": {
  "kernelspec": {
   "display_name": "Python 3 (ipykernel)",
   "language": "python",
   "name": "python3"
  },
  "language_info": {
   "codemirror_mode": {
    "name": "ipython",
    "version": 3
   },
   "file_extension": ".py",
   "mimetype": "text/x-python",
   "name": "python",
   "nbconvert_exporter": "python",
   "pygments_lexer": "ipython3",
   "version": "3.9.7"
  }
 },
 "nbformat": 4,
 "nbformat_minor": 5
}
