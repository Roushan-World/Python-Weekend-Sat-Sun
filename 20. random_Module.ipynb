{
 "cells": [
  {
   "cell_type": "markdown",
   "id": "14331bf6",
   "metadata": {},
   "source": [
    "#  Python has a build-in-Module that you can use to make random numbers.\n",
    "\n",
    "# The random module has a set of method."
   ]
  },
  {
   "cell_type": "code",
   "execution_count": 7,
   "id": "af402002",
   "metadata": {},
   "outputs": [
    {
     "name": "stdout",
     "output_type": "stream",
     "text": [
      "cherry\n"
     ]
    }
   ],
   "source": [
    "# The coice() method returns a randomly selected element from the specified sequence.\n",
    "# The sequence can be a string, a range, a list, a tuple or any other kind of sequence.\n",
    "import random\n",
    "\n",
    "\n",
    "mylist=['apple','banana','cherry']\n",
    "\n",
    "print(random.choice(mylist))"
   ]
  },
  {
   "cell_type": "code",
   "execution_count": 14,
   "id": "acb38f2a",
   "metadata": {},
   "outputs": [
    {
     "name": "stdout",
     "output_type": "stream",
     "text": [
      "['cherry', 'apple', 'apple', 'apple', 'apple', 'apple', 'apple', 'apple', 'apple', 'banana', 'apple', 'apple', 'apple', 'apple']\n"
     ]
    }
   ],
   "source": [
    "# Return a list with 14 times.\n",
    "# The list should contain a randomly selection of the values from a specifed list, and there should \n",
    "# be 10 tumes higher possibility to select 'apple' than other two:\n",
    "# choices\n",
    "import random\n",
    "\n",
    "\n",
    "mylist=['apple','banana','cherry']\n",
    "\n",
    "print(random.choices(mylist, weights = [10,1,1], k=14))"
   ]
  },
  {
   "cell_type": "code",
   "execution_count": 21,
   "id": "f2e66ed7",
   "metadata": {},
   "outputs": [
    {
     "name": "stdout",
     "output_type": "stream",
     "text": [
      "['banana', 'apple', 'cherry']\n"
     ]
    }
   ],
   "source": [
    "import random\n",
    "\n",
    "\n",
    "mylist=['apple','banana','cherry','Orange']\n",
    "\n",
    "print(random.sample(mylist, k=3))"
   ]
  },
  {
   "cell_type": "code",
   "execution_count": 28,
   "id": "ea30027c",
   "metadata": {},
   "outputs": [
    {
     "name": "stdout",
     "output_type": "stream",
     "text": [
      "0.829434777695876\n"
     ]
    }
   ],
   "source": [
    "import random\n",
    "\n",
    "print(random.random())"
   ]
  },
  {
   "cell_type": "code",
   "execution_count": 44,
   "id": "3813f52a",
   "metadata": {},
   "outputs": [
    {
     "name": "stdout",
     "output_type": "stream",
     "text": [
      "59.950355842251554\n"
     ]
    }
   ],
   "source": [
    "# Returns a random float number between two given parameters.\n",
    "# uniform() module\n",
    "import random\n",
    "\n",
    "print(random.uniform(20,100))"
   ]
  },
  {
   "cell_type": "code",
   "execution_count": 56,
   "id": "8289864c",
   "metadata": {},
   "outputs": [
    {
     "name": "stdout",
     "output_type": "stream",
     "text": [
      "10\n"
     ]
    }
   ],
   "source": [
    "# The randint() method returns an integer number selected element from the specified range.\n",
    "\n",
    "# This method is an alis for randrange(start, stop+1)\n",
    "import random\n",
    "\n",
    "print(random.randint(3,10))"
   ]
  },
  {
   "cell_type": "code",
   "execution_count": null,
   "id": "d70e156b",
   "metadata": {},
   "outputs": [],
   "source": []
  },
  {
   "cell_type": "code",
   "execution_count": null,
   "id": "503645b2",
   "metadata": {},
   "outputs": [],
   "source": []
  }
 ],
 "metadata": {
  "kernelspec": {
   "display_name": "Python 3 (ipykernel)",
   "language": "python",
   "name": "python3"
  },
  "language_info": {
   "codemirror_mode": {
    "name": "ipython",
    "version": 3
   },
   "file_extension": ".py",
   "mimetype": "text/x-python",
   "name": "python",
   "nbconvert_exporter": "python",
   "pygments_lexer": "ipython3",
   "version": "3.9.13"
  }
 },
 "nbformat": 4,
 "nbformat_minor": 5
}
