{
 "cells": [
  {
   "cell_type": "markdown",
   "id": "17431526",
   "metadata": {},
   "source": [
    "# 21. Date and time Module()"
   ]
  },
  {
   "cell_type": "code",
   "execution_count": 2,
   "id": "99de2e0a",
   "metadata": {},
   "outputs": [
    {
     "name": "stdout",
     "output_type": "stream",
     "text": [
      "2023-04-01 09:16:30.027108\n"
     ]
    }
   ],
   "source": [
    "import datetime\n",
    "\n",
    "x = datetime.datetime.now()\n",
    "\n",
    "print(x)"
   ]
  },
  {
   "cell_type": "code",
   "execution_count": 9,
   "id": "6e7b95e3",
   "metadata": {},
   "outputs": [
    {
     "name": "stdout",
     "output_type": "stream",
     "text": [
      "2023\n",
      "Saturday\n",
      "Sat\n"
     ]
    }
   ],
   "source": [
    "# Return the year and name of weekdays.\n",
    "\n",
    "import datetime\n",
    "\n",
    "x = datetime.datetime.now()\n",
    "\n",
    "print(x.year)\n",
    "print(x.strftime('%A'))\n",
    "\n",
    "print(x.strftime('%a'))"
   ]
  },
  {
   "cell_type": "code",
   "execution_count": 16,
   "id": "ca877645",
   "metadata": {},
   "outputs": [
    {
     "name": "stdout",
     "output_type": "stream",
     "text": [
      "April\n",
      "Apr\n"
     ]
    }
   ],
   "source": [
    "# Display the name of the month\n",
    "\n",
    "import datetime\n",
    "\n",
    "x = datetime.datetime.now()\n",
    "\n",
    "print(x.strftime('%B'))\n",
    "print(x.strftime('%b'))\n"
   ]
  },
  {
   "cell_type": "code",
   "execution_count": 17,
   "id": "d2e46436",
   "metadata": {},
   "outputs": [
    {
     "name": "stdout",
     "output_type": "stream",
     "text": [
      "6\n"
     ]
    }
   ],
   "source": [
    "# Weekdays as a number 0-6, 0 is sunday.\n",
    "import datetime\n",
    "\n",
    "x = datetime.datetime.now()\n",
    "\n",
    "print(x.strftime('%w'))"
   ]
  },
  {
   "cell_type": "code",
   "execution_count": 18,
   "id": "46c94921",
   "metadata": {},
   "outputs": [
    {
     "name": "stdout",
     "output_type": "stream",
     "text": [
      "01\n"
     ]
    }
   ],
   "source": [
    "# Day of month 01-31\n",
    "\n",
    "\n",
    "import datetime\n",
    "\n",
    "x = datetime.datetime.now()\n",
    "\n",
    "print(x.strftime('%d'))"
   ]
  },
  {
   "cell_type": "code",
   "execution_count": null,
   "id": "5b807888",
   "metadata": {},
   "outputs": [],
   "source": []
  }
 ],
 "metadata": {
  "kernelspec": {
   "display_name": "Python 3 (ipykernel)",
   "language": "python",
   "name": "python3"
  },
  "language_info": {
   "codemirror_mode": {
    "name": "ipython",
    "version": 3
   },
   "file_extension": ".py",
   "mimetype": "text/x-python",
   "name": "python",
   "nbconvert_exporter": "python",
   "pygments_lexer": "ipython3",
   "version": "3.9.13"
  }
 },
 "nbformat": 4,
 "nbformat_minor": 5
}
